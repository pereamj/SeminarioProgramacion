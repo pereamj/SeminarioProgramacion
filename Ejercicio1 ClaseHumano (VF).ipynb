{
 "cells": [
  {
   "cell_type": "code",
   "execution_count": 1,
   "id": "41589ae5-0622-4830-8854-119d95d8e092",
   "metadata": {},
   "outputs": [],
   "source": [
    "#Ejercicio 1\n",
    "#Maestría Inteligencia de Negocios\n",
    "#Seminario de Programación\n",
    "#Julieth Perea"
   ]
  },
  {
   "cell_type": "code",
   "execution_count": 87,
   "id": "7c487a5e-f86d-4414-b2b6-ae0896c18f13",
   "metadata": {},
   "outputs": [],
   "source": [
    "class Humano(): #Creamos la clase Humano\n",
    "    def __init__(self, edad, nombre, estatura, ojos, ciudad, hobby, deporte, ocupacion, horas, horasdeporte, horassueno, sueno): #Definimos el parámetro \n",
    "        self.edad = edad # Definimos que el atributo edad, sera la edad asignada\n",
    "        self.nombre = nombre # Definimos que el atributo nombre, sera el nombre asig\n",
    "        self.estatura = estatura #Definimos que el atributo de la estatura, sea la estarura asignada\n",
    "        self.ojos= ojos #Definimos que el color de los ojos, sea los ojos\n",
    "        self.ciudad = ciudad #Definimos que el atributo ciudad nacimientos, sea la ciudad asignada\n",
    "        self.hobby = hobby #Definimos que el atributo Hobby, es el asignado\n",
    "        self.deporte = deporte #definimos que el atributo deporte, es el asignado\n",
    "        self.ocupacion = ocupacion #DEFINIMOS EL ATRIBUTO DE INSTANCIA OCUPACIÓN\n",
    "        self.horas=horas  #Definimos el atributo horaslaboradas\n",
    "        self.horasdeporte =horasdeporte #Definimos el atributo deporte, es el asignado\n",
    "        self.horassueno =horassueno #Definimos el atributo horas sueño\n",
    "        self.sueno =sueno #Definimos el atributo de estado del sueño\n",
    "        self.dia=0 #Iniciamos en el día 0\n",
    "                                     \n",
    "#Creación de un nuevo método personalizado\n",
    "\n",
    "    def presentar(self):\n",
    "        presentacion = (\"Hola soy {name}, mi edad es {age}, mido {estatura}, el color de mis ojos es {ojos}, naci en {ciudad}, me gusta jugar {hobby}, los fines de semana hago mi deporte favorito que es {deporte} y lo hago en {horasdeporte} diarias, soy profesional en {ocupacion} y trabajo {horas} horas diarias, normalmente duermo {horassueno} diarias\") #Mensaje\n",
    "        print(presentacion.format(name=self.nombre, age=self.edad, estatura=self.estatura, ojos=self.ojos, ciudad=self.ciudad, hobby=self.hobby, deporte=self.deporte, horasdeporte=self.horasdeporte, ocupacion=self.ocupacion, horas=self.horas, horassueno=self.horassueno)) #Usamos FORMAT\n",
    "        \n",
    "    def dias_transcurridos(self,n):\n",
    "        if self.ocupacion!= 'Desocupado':\n",
    "            self.dia=self.dia+n\n",
    "            self.horas=n*8\n",
    "            print('Has trabajado',self.horas,'horas')\n",
    "        else:\n",
    "            self.dia=self.dia+n\n",
    "            print('Desde el día 0, han transcurrido',self.dia,'días que no trabaja' )\n",
    "            \n",
    "#Creamos un nuevo método para cambiar la ocupación\n",
    " \n",
    "    def contratar(self, trabajo): #añadimos un nuevo parámetro en el método\n",
    "        self.puesto = trabajo\n",
    "        print (\"{name} ha sido contratado como {vac} en la MinHacienda\".format(name=self.nombre, vac=self.puesto))\n",
    "        self.ocupacion = trabajo #Ahora cambiamos el atributo ocupación\n",
    "        \n",
    "    #Parámetro nuevo     \n",
    "    def despedir (self):\n",
    "        if self.ocupacion!= 'Desocupado':\n",
    "            print (f\"{self.nombre} ha sido despedido como {self.ocupacion}, por no cumplir con el horario laboral de 9 horas diarias\")\n",
    "            self.ocupacion = 'Desocupado'#Ahora cambiamos el atributo ocupación\n",
    "        else:\n",
    "            print (f\"{self.nombre} actualmente esta {self.ocupacion}\")\n",
    "            \n",
    "    #Parámetro nuevo\n",
    "    def cumplio_anios(self):\n",
    "        self.edad=self.edad+1\n",
    "        self.dia=self.edad*365\n",
    "        print(\"Feliz cumpleaños te deseamos a ti, {name}\".format(name=self.nombre))\n",
    " \n",
    "    #Parametro\n",
    "    def pension(self):\n",
    "        if self.nombre=='Julieth':\n",
    "            if self.edad==30:\n",
    "                print(\"{name} Te faltan más años para pensionarte\".format(name=self.nombre))\n",
    "            elif self.edad<30:\n",
    "                self.opc1=58-self.edad\n",
    "                print(\"{name} tienen {opc1} años pensionado\".format(name=self.nombre,opc1=self.opc1))\n",
    "            else:\n",
    "                self.opc2=self.edad - 58\n",
    "                print(\"{name} Te falta {opc1} años para pensionarte\".format(name=self.nombre,opc1=self.opc2))\n",
    "                \n",
    "                \n",
    "    #Parametro horas de dormir\n",
    "    def dormir(self, horassueno):\n",
    "        if self.sueno== 'Despierto':\n",
    "            self.sueno='Dormido'\n",
    "            self.horassueo=self.horassueno+horassueno\n",
    "        print(f'Desde el día de ayer, has dormido {self.horassueno} horas')\n",
    "                        \n",
    " "
   ]
  },
  {
   "cell_type": "code",
   "execution_count": 88,
   "id": "ee5208a1-b27d-4558-b652-b4af6eed5b11",
   "metadata": {},
   "outputs": [
    {
     "name": "stdout",
     "output_type": "stream",
     "text": [
      "Hola soy Julieth, mi edad es 30, mido 1.75, el color de mis ojos es cafe, naci en Cali, me gusta jugar Ajedrez, los fines de semana hago mi deporte favorito que es correr y lo hago en 2 diarias, soy profesional en Economista y trabajo 7 horas diarias, normalmente duermo 6 diarias\n"
     ]
    }
   ],
   "source": [
    "Persona1 = Humano(30, \"Julieth\", \"1.75\", \"cafe\", \"Cali\", \"Ajedrez\", \"correr\", \"Economista\", \"7\", \"2\", \"6\", \"1\") #Instancia\n",
    "\n",
    "Persona1.presentar() "
   ]
  },
  {
   "cell_type": "code",
   "execution_count": 89,
   "id": "afe8bc0c-3d94-4e99-b20d-3301511fddc2",
   "metadata": {},
   "outputs": [
    {
     "name": "stdout",
     "output_type": "stream",
     "text": [
      "Has trabajado 56 horas\n"
     ]
    }
   ],
   "source": [
    "Persona1.dias_transcurridos(7)"
   ]
  },
  {
   "cell_type": "code",
   "execution_count": 90,
   "id": "b417c46d-a6ae-4ddc-af6e-f5c990665065",
   "metadata": {},
   "outputs": [
    {
     "name": "stdout",
     "output_type": "stream",
     "text": [
      "Julieth ha sido contratado como Economista en la MinHacienda\n"
     ]
    }
   ],
   "source": [
    "Persona1.contratar(\"Economista\")"
   ]
  },
  {
   "cell_type": "code",
   "execution_count": 91,
   "id": "9b2d96fb-12ee-4702-91a9-28ce77d866bc",
   "metadata": {},
   "outputs": [
    {
     "name": "stdout",
     "output_type": "stream",
     "text": [
      "Julieth ha sido despedido como Economista, por no cumplir con el horario laboral de 9 horas diarias\n"
     ]
    }
   ],
   "source": [
    "Persona1.despedir()"
   ]
  },
  {
   "cell_type": "code",
   "execution_count": 92,
   "id": "fd22b717-ae0b-4da7-b94b-359f95ec6daa",
   "metadata": {},
   "outputs": [
    {
     "name": "stdout",
     "output_type": "stream",
     "text": [
      "Desde el día 0, han transcurrido 27 días que no trabaja\n"
     ]
    }
   ],
   "source": [
    "Persona1.dias_transcurridos(20)"
   ]
  },
  {
   "cell_type": "code",
   "execution_count": 93,
   "id": "b327c8d2-18d4-4b3e-8891-1c525ad07d70",
   "metadata": {},
   "outputs": [
    {
     "name": "stdout",
     "output_type": "stream",
     "text": [
      "Feliz cumpleaños te deseamos a ti, Julieth\n"
     ]
    }
   ],
   "source": [
    "Persona1.cumplio_anios()"
   ]
  },
  {
   "cell_type": "code",
   "execution_count": 94,
   "id": "61c7c5d1-75ff-4868-bf60-e6655b145181",
   "metadata": {},
   "outputs": [
    {
     "name": "stdout",
     "output_type": "stream",
     "text": [
      "Julieth Te falta -27 años para pensionarte\n"
     ]
    }
   ],
   "source": [
    "Persona1.pension()"
   ]
  },
  {
   "cell_type": "code",
   "execution_count": 95,
   "id": "a8b2aea4-effb-4680-ade4-c6794ebc3186",
   "metadata": {},
   "outputs": [
    {
     "name": "stdout",
     "output_type": "stream",
     "text": [
      "Desde el día de ayer, has dormido 6 horas\n"
     ]
    }
   ],
   "source": [
    "Persona1.dormir(8)"
   ]
  },
  {
   "cell_type": "code",
   "execution_count": null,
   "id": "109bfe14-a7d8-42b2-b867-5d95e374eccd",
   "metadata": {},
   "outputs": [],
   "source": []
  },
  {
   "cell_type": "code",
   "execution_count": null,
   "id": "a0669d01-bb53-4477-bfb1-6630f2d9d201",
   "metadata": {},
   "outputs": [],
   "source": []
  }
 ],
 "metadata": {
  "kernelspec": {
   "display_name": "Python 3",
   "language": "python",
   "name": "python3"
  },
  "language_info": {
   "codemirror_mode": {
    "name": "ipython",
    "version": 3
   },
   "file_extension": ".py",
   "mimetype": "text/x-python",
   "name": "python",
   "nbconvert_exporter": "python",
   "pygments_lexer": "ipython3",
   "version": "3.7.8"
  }
 },
 "nbformat": 4,
 "nbformat_minor": 5
}
