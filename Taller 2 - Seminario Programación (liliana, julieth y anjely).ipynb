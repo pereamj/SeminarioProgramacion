{
 "cells": [
  {
   "cell_type": "markdown",
   "id": "f7747eea",
   "metadata": {},
   "source": [
    "# UNIVERSIDAD EXTERNADO DE COLOMBIA\n",
    "\n",
    "## MAESTRIA INTELIGENCIA DE NEGOCIOS\n",
    "\n",
    "### Liliana Hernandez\n",
    "### Julieth Perea \n",
    "### Anjely Amazo\n",
    "\n",
    "### TALLER Nro. 2 Seminario de programación"
   ]
  },
  {
   "cell_type": "markdown",
   "id": "b2521f81",
   "metadata": {},
   "source": [
    "La fuente de nuestra base de datos la encontramos en el siguiente enlace:\n",
    "\n",
    "https://www.datos.gov.co/es/Gastos-Gubernamentales/SECOP-II-Contratos-Electr-nicos/jbjy-vk9h/data"
   ]
  },
  {
   "cell_type": "markdown",
   "id": "861a5009",
   "metadata": {},
   "source": [
    "A continuación se muestran las librerias que usaremos para el analisis:"
   ]
  },
  {
   "cell_type": "code",
   "execution_count": 1,
   "id": "e66f1156",
   "metadata": {
    "scrolled": true
   },
   "outputs": [
    {
     "name": "stdout",
     "output_type": "stream",
     "text": [
      "Requirement already satisfied: squarify in c:\\users\\marlon\\anaconda3\\lib\\site-packages (0.4.3)\n",
      "Note: you may need to restart the kernel to use updated packages.\n"
     ]
    }
   ],
   "source": [
    "pip install squarify"
   ]
  },
  {
   "cell_type": "code",
   "execution_count": 2,
   "id": "228ba7ae",
   "metadata": {},
   "outputs": [
    {
     "name": "stdout",
     "output_type": "stream",
     "text": [
      "Requirement already satisfied: tabulate in c:\\users\\marlon\\anaconda3\\lib\\site-packages (0.8.9)\n",
      "Note: you may need to restart the kernel to use updated packages.\n"
     ]
    }
   ],
   "source": [
    "pip install tabulate"
   ]
  },
  {
   "cell_type": "code",
   "execution_count": 3,
   "id": "acd8e4d4",
   "metadata": {},
   "outputs": [],
   "source": [
    "#instalar librerias\n",
    "import pandas as pd\n",
    "import seaborn as sns\n",
    "import matplotlib.pyplot as plt\n",
    "import numpy as np\n",
    "import ipywidgets as widgets\n",
    "import matplotlib.colors as colors\n",
    "from ipywidgets import interact\n",
    "from ipywidgets import Layout, AppLayout\n",
    "from IPython.display import display\n",
    "import functools\n",
    "import time  #libreria que proporciona un conjunto de funciones para trabajar con fechas y/o horas.\n",
    "import os\n",
    "from colorama import init, Fore, Back, Style  #libreria que proporciohna color del texto y coloreado en la consola\n",
    "import squarify    # pip install squarify (algorithm for treemap)\n",
    "import scipy.stats as stats "
   ]
  },
  {
   "cell_type": "code",
   "execution_count": 4,
   "id": "6eb0c2cf",
   "metadata": {},
   "outputs": [],
   "source": [
    "#Importamos archivo excel\n",
    "Base= pd.read_excel('D:/MAESTRIA/MAESTRIA-JULIETHPEREA/2do Semestre/SECOPTALLER2.xlsx')"
   ]
  },
  {
   "cell_type": "code",
   "execution_count": 5,
   "id": "a069bf9d",
   "metadata": {},
   "outputs": [
    {
     "data": {
      "text/html": [
       "<div>\n",
       "<style scoped>\n",
       "    .dataframe tbody tr th:only-of-type {\n",
       "        vertical-align: middle;\n",
       "    }\n",
       "\n",
       "    .dataframe tbody tr th {\n",
       "        vertical-align: top;\n",
       "    }\n",
       "\n",
       "    .dataframe thead th {\n",
       "        text-align: right;\n",
       "    }\n",
       "</style>\n",
       "<table border=\"1\" class=\"dataframe\">\n",
       "  <thead>\n",
       "    <tr style=\"text-align: right;\">\n",
       "      <th></th>\n",
       "      <th>N</th>\n",
       "      <th>Nombre Entidad</th>\n",
       "      <th>Departamento</th>\n",
       "      <th>Ciudad</th>\n",
       "      <th>Localización</th>\n",
       "      <th>Orden</th>\n",
       "      <th>Sector</th>\n",
       "      <th>Rama</th>\n",
       "      <th>Entidad Centralizada</th>\n",
       "      <th>Estado Contrato</th>\n",
       "      <th>Tipo de Contrato</th>\n",
       "      <th>Modalidad de Contratacion</th>\n",
       "      <th>Fecha de Inicio del Contrato</th>\n",
       "      <th>Es Pyme</th>\n",
       "      <th>Valor del Contrato</th>\n",
       "      <th>Destino Gasto</th>\n",
       "    </tr>\n",
       "  </thead>\n",
       "  <tbody>\n",
       "    <tr>\n",
       "      <th>0</th>\n",
       "      <td>1</td>\n",
       "      <td>FONDO UNICO DE TECNOLOGÍAS DE LA INFORMACIÓN Y...</td>\n",
       "      <td>Distrito Capital de Bogotá</td>\n",
       "      <td>Bogotá</td>\n",
       "      <td>Colombia, Bogotá, Bogotá</td>\n",
       "      <td>Nacional</td>\n",
       "      <td>Tecnologías de la Información y las Comunicaci...</td>\n",
       "      <td>Ejecutivo</td>\n",
       "      <td>No Definido</td>\n",
       "      <td>Activo</td>\n",
       "      <td>Prestación de servicios</td>\n",
       "      <td>Contratación directa</td>\n",
       "      <td>2008-09-01 00:00:00</td>\n",
       "      <td>No</td>\n",
       "      <td>2.719200e+07</td>\n",
       "      <td>Inversión</td>\n",
       "    </tr>\n",
       "    <tr>\n",
       "      <th>1</th>\n",
       "      <td>1</td>\n",
       "      <td>SUBRED INTEGRADA DE SALUD CENTRO ORIENTE E.S.E</td>\n",
       "      <td>Distrito Capital de Bogotá</td>\n",
       "      <td>No Definido</td>\n",
       "      <td>Colombia, Bogotá, Bogotá</td>\n",
       "      <td>Territorial</td>\n",
       "      <td>Salud y Protección Social</td>\n",
       "      <td>Ejecutivo</td>\n",
       "      <td>Descentralizada</td>\n",
       "      <td>Modificado</td>\n",
       "      <td>Prestación de servicios</td>\n",
       "      <td>Contratación régimen especial</td>\n",
       "      <td>2008-10-01 00:00:00</td>\n",
       "      <td>Si</td>\n",
       "      <td>1.507479e+07</td>\n",
       "      <td>Funcionamiento</td>\n",
       "    </tr>\n",
       "    <tr>\n",
       "      <th>2</th>\n",
       "      <td>1</td>\n",
       "      <td>SECRETARÍA DISTRITAL DE MOVILIDAD</td>\n",
       "      <td>Distrito Capital de Bogotá</td>\n",
       "      <td>Bogotá</td>\n",
       "      <td>Colombia, Bogotá, Bogotá</td>\n",
       "      <td>Territorial</td>\n",
       "      <td>Transporte</td>\n",
       "      <td>Ejecutivo</td>\n",
       "      <td>Centralizada</td>\n",
       "      <td>Modificado</td>\n",
       "      <td>Prestación de servicios</td>\n",
       "      <td>Contratación directa</td>\n",
       "      <td>2010-06-03 00:00:00</td>\n",
       "      <td>No</td>\n",
       "      <td>7.800000e+07</td>\n",
       "      <td>Inversión</td>\n",
       "    </tr>\n",
       "    <tr>\n",
       "      <th>3</th>\n",
       "      <td>1</td>\n",
       "      <td>AGENCIA NACIONAL DE TIERRAS</td>\n",
       "      <td>Distrito Capital de Bogotá</td>\n",
       "      <td>No Definido</td>\n",
       "      <td>Colombia, Bogotá, Bogotá</td>\n",
       "      <td>Nacional</td>\n",
       "      <td>agricultura</td>\n",
       "      <td>Ejecutivo</td>\n",
       "      <td>Descentralizada</td>\n",
       "      <td>Borrador</td>\n",
       "      <td>Prestación de servicios</td>\n",
       "      <td>Contratación directa</td>\n",
       "      <td>2010-12-03 00:00:00</td>\n",
       "      <td>No</td>\n",
       "      <td>5.600000e+07</td>\n",
       "      <td>Inversión</td>\n",
       "    </tr>\n",
       "    <tr>\n",
       "      <th>4</th>\n",
       "      <td>1</td>\n",
       "      <td>DEPARTAMENTO DE ANTIOQUIA</td>\n",
       "      <td>Antioquia</td>\n",
       "      <td>Medellín</td>\n",
       "      <td>Colombia,  Antioquia ,  Medellín</td>\n",
       "      <td>Territorial</td>\n",
       "      <td>Servicio Público</td>\n",
       "      <td>Ejecutivo</td>\n",
       "      <td>No Definido</td>\n",
       "      <td>enviado Proveedor</td>\n",
       "      <td>Obra</td>\n",
       "      <td>Mínima cuantía</td>\n",
       "      <td>2015-05-11 00:00:00</td>\n",
       "      <td>Si</td>\n",
       "      <td>4.716755e+07</td>\n",
       "      <td>Inversión</td>\n",
       "    </tr>\n",
       "    <tr>\n",
       "      <th>...</th>\n",
       "      <td>...</td>\n",
       "      <td>...</td>\n",
       "      <td>...</td>\n",
       "      <td>...</td>\n",
       "      <td>...</td>\n",
       "      <td>...</td>\n",
       "      <td>...</td>\n",
       "      <td>...</td>\n",
       "      <td>...</td>\n",
       "      <td>...</td>\n",
       "      <td>...</td>\n",
       "      <td>...</td>\n",
       "      <td>...</td>\n",
       "      <td>...</td>\n",
       "      <td>...</td>\n",
       "      <td>...</td>\n",
       "    </tr>\n",
       "    <tr>\n",
       "      <th>1048570</th>\n",
       "      <td>1</td>\n",
       "      <td>SUBRED INTEGRADA DE SERVICIOS DE SALUD SUR E.S.E</td>\n",
       "      <td>Distrito Capital de Bogotá</td>\n",
       "      <td>Bogotá</td>\n",
       "      <td>Colombia, Bogotá, Bogotá</td>\n",
       "      <td>Territorial</td>\n",
       "      <td>Salud y Protección Social</td>\n",
       "      <td>Ejecutivo</td>\n",
       "      <td>Descentralizada</td>\n",
       "      <td>Borrador</td>\n",
       "      <td>Prestación de servicios</td>\n",
       "      <td>Contratación régimen especial</td>\n",
       "      <td>NaN</td>\n",
       "      <td>No</td>\n",
       "      <td>0.000000e+00</td>\n",
       "      <td>Funcionamiento</td>\n",
       "    </tr>\n",
       "    <tr>\n",
       "      <th>1048571</th>\n",
       "      <td>1</td>\n",
       "      <td>AGENCIA PÚBLICA DE EMPLEO DE CUNDINAMARCA</td>\n",
       "      <td>Distrito Capital de Bogotá</td>\n",
       "      <td>Bogotá</td>\n",
       "      <td>Colombia, Bogotá, Bogotá</td>\n",
       "      <td>Territorial</td>\n",
       "      <td>Trabajo</td>\n",
       "      <td>Ejecutivo</td>\n",
       "      <td>Centralizada</td>\n",
       "      <td>Activo</td>\n",
       "      <td>Prestación de servicios</td>\n",
       "      <td>Contratación directa</td>\n",
       "      <td>NaN</td>\n",
       "      <td>No</td>\n",
       "      <td>1.560000e+07</td>\n",
       "      <td>Inversión</td>\n",
       "    </tr>\n",
       "    <tr>\n",
       "      <th>1048572</th>\n",
       "      <td>1</td>\n",
       "      <td>Empresa Nacional Promotora del Desarrollo Terr...</td>\n",
       "      <td>Distrito Capital de Bogotá</td>\n",
       "      <td>No Definido</td>\n",
       "      <td>Colombia, Bogotá, Bogotá</td>\n",
       "      <td>Nacional</td>\n",
       "      <td>Planeación</td>\n",
       "      <td>Corporación Autónoma</td>\n",
       "      <td>Centralizada</td>\n",
       "      <td>Activo</td>\n",
       "      <td>Otro</td>\n",
       "      <td>Contratación régimen especial</td>\n",
       "      <td>NaN</td>\n",
       "      <td>No</td>\n",
       "      <td>3.028112e+10</td>\n",
       "      <td>Inversión</td>\n",
       "    </tr>\n",
       "    <tr>\n",
       "      <th>1048573</th>\n",
       "      <td>1</td>\n",
       "      <td>INSTITUTO DISTRITAL DE RECREACIÓN Y DEPORTE</td>\n",
       "      <td>Distrito Capital de Bogotá</td>\n",
       "      <td>Bogotá</td>\n",
       "      <td>Colombia, Bogotá, Bogotá</td>\n",
       "      <td>Territorial</td>\n",
       "      <td>Cultura</td>\n",
       "      <td>Ejecutivo</td>\n",
       "      <td>Descentralizada</td>\n",
       "      <td>Borrador</td>\n",
       "      <td>Prestación de servicios</td>\n",
       "      <td>Contratación directa</td>\n",
       "      <td>NaN</td>\n",
       "      <td>No</td>\n",
       "      <td>0.000000e+00</td>\n",
       "      <td>Inversión</td>\n",
       "    </tr>\n",
       "    <tr>\n",
       "      <th>1048574</th>\n",
       "      <td>1</td>\n",
       "      <td>MUNICIPIO DE PEREIRA-OFICIAL</td>\n",
       "      <td>Risaralda</td>\n",
       "      <td>Pereira</td>\n",
       "      <td>Colombia,  Risaralda ,  Pereira</td>\n",
       "      <td>Territorial</td>\n",
       "      <td>Servicio Público</td>\n",
       "      <td>Ejecutivo</td>\n",
       "      <td>Descentralizada</td>\n",
       "      <td>Activo</td>\n",
       "      <td>Prestación de servicios</td>\n",
       "      <td>Contratación directa</td>\n",
       "      <td>NaN</td>\n",
       "      <td>No</td>\n",
       "      <td>3.308000e+06</td>\n",
       "      <td>Inversión</td>\n",
       "    </tr>\n",
       "  </tbody>\n",
       "</table>\n",
       "<p>1048575 rows × 16 columns</p>\n",
       "</div>"
      ],
      "text/plain": [
       "         N                                     Nombre Entidad  \\\n",
       "0        1  FONDO UNICO DE TECNOLOGÍAS DE LA INFORMACIÓN Y...   \n",
       "1        1     SUBRED INTEGRADA DE SALUD CENTRO ORIENTE E.S.E   \n",
       "2        1                  SECRETARÍA DISTRITAL DE MOVILIDAD   \n",
       "3        1                        AGENCIA NACIONAL DE TIERRAS   \n",
       "4        1                          DEPARTAMENTO DE ANTIOQUIA   \n",
       "...     ..                                                ...   \n",
       "1048570  1   SUBRED INTEGRADA DE SERVICIOS DE SALUD SUR E.S.E   \n",
       "1048571  1          AGENCIA PÚBLICA DE EMPLEO DE CUNDINAMARCA   \n",
       "1048572  1  Empresa Nacional Promotora del Desarrollo Terr...   \n",
       "1048573  1        INSTITUTO DISTRITAL DE RECREACIÓN Y DEPORTE   \n",
       "1048574  1                       MUNICIPIO DE PEREIRA-OFICIAL   \n",
       "\n",
       "                       Departamento       Ciudad  \\\n",
       "0        Distrito Capital de Bogotá       Bogotá   \n",
       "1        Distrito Capital de Bogotá  No Definido   \n",
       "2        Distrito Capital de Bogotá       Bogotá   \n",
       "3        Distrito Capital de Bogotá  No Definido   \n",
       "4                         Antioquia     Medellín   \n",
       "...                             ...          ...   \n",
       "1048570  Distrito Capital de Bogotá       Bogotá   \n",
       "1048571  Distrito Capital de Bogotá       Bogotá   \n",
       "1048572  Distrito Capital de Bogotá  No Definido   \n",
       "1048573  Distrito Capital de Bogotá       Bogotá   \n",
       "1048574                   Risaralda      Pereira   \n",
       "\n",
       "                             Localización        Orden  \\\n",
       "0                Colombia, Bogotá, Bogotá     Nacional   \n",
       "1                Colombia, Bogotá, Bogotá  Territorial   \n",
       "2                Colombia, Bogotá, Bogotá  Territorial   \n",
       "3                Colombia, Bogotá, Bogotá     Nacional   \n",
       "4        Colombia,  Antioquia ,  Medellín  Territorial   \n",
       "...                                   ...          ...   \n",
       "1048570          Colombia, Bogotá, Bogotá  Territorial   \n",
       "1048571          Colombia, Bogotá, Bogotá  Territorial   \n",
       "1048572          Colombia, Bogotá, Bogotá     Nacional   \n",
       "1048573          Colombia, Bogotá, Bogotá  Territorial   \n",
       "1048574   Colombia,  Risaralda ,  Pereira  Territorial   \n",
       "\n",
       "                                                    Sector  \\\n",
       "0        Tecnologías de la Información y las Comunicaci...   \n",
       "1                                Salud y Protección Social   \n",
       "2                                               Transporte   \n",
       "3                                              agricultura   \n",
       "4                                         Servicio Público   \n",
       "...                                                    ...   \n",
       "1048570                          Salud y Protección Social   \n",
       "1048571                                            Trabajo   \n",
       "1048572                                         Planeación   \n",
       "1048573                                            Cultura   \n",
       "1048574                                   Servicio Público   \n",
       "\n",
       "                         Rama Entidad Centralizada    Estado Contrato  \\\n",
       "0                   Ejecutivo          No Definido             Activo   \n",
       "1                   Ejecutivo      Descentralizada         Modificado   \n",
       "2                   Ejecutivo         Centralizada         Modificado   \n",
       "3                   Ejecutivo      Descentralizada           Borrador   \n",
       "4                   Ejecutivo          No Definido  enviado Proveedor   \n",
       "...                       ...                  ...                ...   \n",
       "1048570             Ejecutivo      Descentralizada           Borrador   \n",
       "1048571             Ejecutivo         Centralizada             Activo   \n",
       "1048572  Corporación Autónoma         Centralizada             Activo   \n",
       "1048573             Ejecutivo      Descentralizada           Borrador   \n",
       "1048574             Ejecutivo      Descentralizada             Activo   \n",
       "\n",
       "                Tipo de Contrato      Modalidad de Contratacion  \\\n",
       "0        Prestación de servicios           Contratación directa   \n",
       "1        Prestación de servicios  Contratación régimen especial   \n",
       "2        Prestación de servicios           Contratación directa   \n",
       "3        Prestación de servicios           Contratación directa   \n",
       "4                           Obra                 Mínima cuantía   \n",
       "...                          ...                            ...   \n",
       "1048570  Prestación de servicios  Contratación régimen especial   \n",
       "1048571  Prestación de servicios           Contratación directa   \n",
       "1048572                     Otro  Contratación régimen especial   \n",
       "1048573  Prestación de servicios           Contratación directa   \n",
       "1048574  Prestación de servicios           Contratación directa   \n",
       "\n",
       "        Fecha de Inicio del Contrato Es Pyme  Valor del Contrato  \\\n",
       "0                2008-09-01 00:00:00      No        2.719200e+07   \n",
       "1                2008-10-01 00:00:00      Si        1.507479e+07   \n",
       "2                2010-06-03 00:00:00      No        7.800000e+07   \n",
       "3                2010-12-03 00:00:00      No        5.600000e+07   \n",
       "4                2015-05-11 00:00:00      Si        4.716755e+07   \n",
       "...                              ...     ...                 ...   \n",
       "1048570                          NaN      No        0.000000e+00   \n",
       "1048571                          NaN      No        1.560000e+07   \n",
       "1048572                          NaN      No        3.028112e+10   \n",
       "1048573                          NaN      No        0.000000e+00   \n",
       "1048574                          NaN      No        3.308000e+06   \n",
       "\n",
       "          Destino Gasto  \n",
       "0             Inversión  \n",
       "1        Funcionamiento  \n",
       "2             Inversión  \n",
       "3             Inversión  \n",
       "4             Inversión  \n",
       "...                 ...  \n",
       "1048570  Funcionamiento  \n",
       "1048571       Inversión  \n",
       "1048572       Inversión  \n",
       "1048573       Inversión  \n",
       "1048574       Inversión  \n",
       "\n",
       "[1048575 rows x 16 columns]"
      ]
     },
     "execution_count": 5,
     "metadata": {},
     "output_type": "execute_result"
    }
   ],
   "source": [
    "# Convert to pandas DataFrame\n",
    "Base_df = pd.DataFrame.from_records(Base)\n",
    "Base_df"
   ]
  },
  {
   "cell_type": "code",
   "execution_count": 6,
   "id": "38e05fd5",
   "metadata": {},
   "outputs": [
    {
     "data": {
      "text/plain": [
       "'Tipos de registros en el DataFrame'"
      ]
     },
     "metadata": {},
     "output_type": "display_data"
    },
    {
     "data": {
      "text/plain": [
       "N                                 int64\n",
       "Nombre Entidad                   object\n",
       "Departamento                     object\n",
       "Ciudad                           object\n",
       "Localización                     object\n",
       "Orden                            object\n",
       "Sector                           object\n",
       "Rama                             object\n",
       "Entidad Centralizada             object\n",
       "Estado Contrato                  object\n",
       "Tipo de Contrato                 object\n",
       "Modalidad de Contratacion        object\n",
       "Fecha de Inicio del Contrato     object\n",
       "Es Pyme                          object\n",
       "Valor del Contrato              float64\n",
       "Destino Gasto                    object\n",
       "dtype: object"
      ]
     },
     "metadata": {},
     "output_type": "display_data"
    }
   ],
   "source": [
    "display(\"Tipos de registros en el DataFrame\",Base_df.dtypes)"
   ]
  },
  {
   "cell_type": "markdown",
   "id": "924b8368",
   "metadata": {},
   "source": [
    "## Ejercicio 1"
   ]
  },
  {
   "cell_type": "markdown",
   "id": "391abd5e",
   "metadata": {},
   "source": [
    "Hacer una exploracion por las siguientes variables que permita entender lo siguientes:\n",
    "    ¿Que mide?\n",
    "    ¿Que categorias admiten?\n",
    "    ¿Como afecta el problema que nos compete?"
   ]
  },
  {
   "cell_type": "markdown",
   "id": "9a08b97f",
   "metadata": {},
   "source": [
    "###### (i)Orden\n",
    "###### (ii)Rama\n",
    "###### (iii)Sector\n",
    "###### (iv)Departamento\n",
    "###### (v)Tipo de Contrato\n",
    "###### (vi)Estado Contrato \n",
    "###### (vii)Es Pyme"
   ]
  },
  {
   "cell_type": "markdown",
   "id": "c8908ec0",
   "metadata": {},
   "source": [
    "A continuacion, seleccionamos las variables de la base de datos que se van analizar:"
   ]
  },
  {
   "cell_type": "code",
   "execution_count": 7,
   "id": "e8740d19",
   "metadata": {},
   "outputs": [
    {
     "data": {
      "text/html": [
       "<div>\n",
       "<style scoped>\n",
       "    .dataframe tbody tr th:only-of-type {\n",
       "        vertical-align: middle;\n",
       "    }\n",
       "\n",
       "    .dataframe tbody tr th {\n",
       "        vertical-align: top;\n",
       "    }\n",
       "\n",
       "    .dataframe thead th {\n",
       "        text-align: right;\n",
       "    }\n",
       "</style>\n",
       "<table border=\"1\" class=\"dataframe\">\n",
       "  <thead>\n",
       "    <tr style=\"text-align: right;\">\n",
       "      <th></th>\n",
       "      <th>Orden</th>\n",
       "      <th>Rama</th>\n",
       "      <th>Sector</th>\n",
       "      <th>Departamento</th>\n",
       "      <th>Tipo de Contrato</th>\n",
       "      <th>Estado Contrato</th>\n",
       "      <th>Es Pyme</th>\n",
       "    </tr>\n",
       "  </thead>\n",
       "  <tbody>\n",
       "    <tr>\n",
       "      <th>0</th>\n",
       "      <td>Nacional</td>\n",
       "      <td>Ejecutivo</td>\n",
       "      <td>Tecnologías de la Información y las Comunicaci...</td>\n",
       "      <td>Distrito Capital de Bogotá</td>\n",
       "      <td>Prestación de servicios</td>\n",
       "      <td>Activo</td>\n",
       "      <td>No</td>\n",
       "    </tr>\n",
       "    <tr>\n",
       "      <th>1</th>\n",
       "      <td>Territorial</td>\n",
       "      <td>Ejecutivo</td>\n",
       "      <td>Salud y Protección Social</td>\n",
       "      <td>Distrito Capital de Bogotá</td>\n",
       "      <td>Prestación de servicios</td>\n",
       "      <td>Modificado</td>\n",
       "      <td>Si</td>\n",
       "    </tr>\n",
       "    <tr>\n",
       "      <th>2</th>\n",
       "      <td>Territorial</td>\n",
       "      <td>Ejecutivo</td>\n",
       "      <td>Transporte</td>\n",
       "      <td>Distrito Capital de Bogotá</td>\n",
       "      <td>Prestación de servicios</td>\n",
       "      <td>Modificado</td>\n",
       "      <td>No</td>\n",
       "    </tr>\n",
       "    <tr>\n",
       "      <th>3</th>\n",
       "      <td>Nacional</td>\n",
       "      <td>Ejecutivo</td>\n",
       "      <td>agricultura</td>\n",
       "      <td>Distrito Capital de Bogotá</td>\n",
       "      <td>Prestación de servicios</td>\n",
       "      <td>Borrador</td>\n",
       "      <td>No</td>\n",
       "    </tr>\n",
       "    <tr>\n",
       "      <th>4</th>\n",
       "      <td>Territorial</td>\n",
       "      <td>Ejecutivo</td>\n",
       "      <td>Servicio Público</td>\n",
       "      <td>Antioquia</td>\n",
       "      <td>Obra</td>\n",
       "      <td>enviado Proveedor</td>\n",
       "      <td>Si</td>\n",
       "    </tr>\n",
       "    <tr>\n",
       "      <th>...</th>\n",
       "      <td>...</td>\n",
       "      <td>...</td>\n",
       "      <td>...</td>\n",
       "      <td>...</td>\n",
       "      <td>...</td>\n",
       "      <td>...</td>\n",
       "      <td>...</td>\n",
       "    </tr>\n",
       "    <tr>\n",
       "      <th>1048570</th>\n",
       "      <td>Territorial</td>\n",
       "      <td>Ejecutivo</td>\n",
       "      <td>Salud y Protección Social</td>\n",
       "      <td>Distrito Capital de Bogotá</td>\n",
       "      <td>Prestación de servicios</td>\n",
       "      <td>Borrador</td>\n",
       "      <td>No</td>\n",
       "    </tr>\n",
       "    <tr>\n",
       "      <th>1048571</th>\n",
       "      <td>Territorial</td>\n",
       "      <td>Ejecutivo</td>\n",
       "      <td>Trabajo</td>\n",
       "      <td>Distrito Capital de Bogotá</td>\n",
       "      <td>Prestación de servicios</td>\n",
       "      <td>Activo</td>\n",
       "      <td>No</td>\n",
       "    </tr>\n",
       "    <tr>\n",
       "      <th>1048572</th>\n",
       "      <td>Nacional</td>\n",
       "      <td>Corporación Autónoma</td>\n",
       "      <td>Planeación</td>\n",
       "      <td>Distrito Capital de Bogotá</td>\n",
       "      <td>Otro</td>\n",
       "      <td>Activo</td>\n",
       "      <td>No</td>\n",
       "    </tr>\n",
       "    <tr>\n",
       "      <th>1048573</th>\n",
       "      <td>Territorial</td>\n",
       "      <td>Ejecutivo</td>\n",
       "      <td>Cultura</td>\n",
       "      <td>Distrito Capital de Bogotá</td>\n",
       "      <td>Prestación de servicios</td>\n",
       "      <td>Borrador</td>\n",
       "      <td>No</td>\n",
       "    </tr>\n",
       "    <tr>\n",
       "      <th>1048574</th>\n",
       "      <td>Territorial</td>\n",
       "      <td>Ejecutivo</td>\n",
       "      <td>Servicio Público</td>\n",
       "      <td>Risaralda</td>\n",
       "      <td>Prestación de servicios</td>\n",
       "      <td>Activo</td>\n",
       "      <td>No</td>\n",
       "    </tr>\n",
       "  </tbody>\n",
       "</table>\n",
       "<p>1048575 rows × 7 columns</p>\n",
       "</div>"
      ],
      "text/plain": [
       "               Orden                  Rama  \\\n",
       "0           Nacional             Ejecutivo   \n",
       "1        Territorial             Ejecutivo   \n",
       "2        Territorial             Ejecutivo   \n",
       "3           Nacional             Ejecutivo   \n",
       "4        Territorial             Ejecutivo   \n",
       "...              ...                   ...   \n",
       "1048570  Territorial             Ejecutivo   \n",
       "1048571  Territorial             Ejecutivo   \n",
       "1048572     Nacional  Corporación Autónoma   \n",
       "1048573  Territorial             Ejecutivo   \n",
       "1048574  Territorial             Ejecutivo   \n",
       "\n",
       "                                                    Sector  \\\n",
       "0        Tecnologías de la Información y las Comunicaci...   \n",
       "1                                Salud y Protección Social   \n",
       "2                                               Transporte   \n",
       "3                                              agricultura   \n",
       "4                                         Servicio Público   \n",
       "...                                                    ...   \n",
       "1048570                          Salud y Protección Social   \n",
       "1048571                                            Trabajo   \n",
       "1048572                                         Planeación   \n",
       "1048573                                            Cultura   \n",
       "1048574                                   Servicio Público   \n",
       "\n",
       "                       Departamento         Tipo de Contrato  \\\n",
       "0        Distrito Capital de Bogotá  Prestación de servicios   \n",
       "1        Distrito Capital de Bogotá  Prestación de servicios   \n",
       "2        Distrito Capital de Bogotá  Prestación de servicios   \n",
       "3        Distrito Capital de Bogotá  Prestación de servicios   \n",
       "4                         Antioquia                     Obra   \n",
       "...                             ...                      ...   \n",
       "1048570  Distrito Capital de Bogotá  Prestación de servicios   \n",
       "1048571  Distrito Capital de Bogotá  Prestación de servicios   \n",
       "1048572  Distrito Capital de Bogotá                     Otro   \n",
       "1048573  Distrito Capital de Bogotá  Prestación de servicios   \n",
       "1048574                   Risaralda  Prestación de servicios   \n",
       "\n",
       "           Estado Contrato Es Pyme  \n",
       "0                   Activo      No  \n",
       "1               Modificado      Si  \n",
       "2               Modificado      No  \n",
       "3                 Borrador      No  \n",
       "4        enviado Proveedor      Si  \n",
       "...                    ...     ...  \n",
       "1048570           Borrador      No  \n",
       "1048571             Activo      No  \n",
       "1048572             Activo      No  \n",
       "1048573           Borrador      No  \n",
       "1048574             Activo      No  \n",
       "\n",
       "[1048575 rows x 7 columns]"
      ]
     },
     "execution_count": 7,
     "metadata": {},
     "output_type": "execute_result"
    }
   ],
   "source": [
    "Punto1= Base_df.loc[:,['Orden','Rama','Sector','Departamento','Tipo de Contrato','Estado Contrato','Es Pyme']]\n",
    "Punto1"
   ]
  },
  {
   "cell_type": "markdown",
   "id": "c0a99777",
   "metadata": {},
   "source": [
    "##### Exploraciòn de cada variable:"
   ]
  },
  {
   "cell_type": "markdown",
   "id": "0b7a2a8c",
   "metadata": {},
   "source": [
    "#### (i) Orden"
   ]
  },
  {
   "cell_type": "code",
   "execution_count": 8,
   "id": "470dad77",
   "metadata": {},
   "outputs": [
    {
     "data": {
      "text/html": [
       "<div>\n",
       "<style scoped>\n",
       "    .dataframe tbody tr th:only-of-type {\n",
       "        vertical-align: middle;\n",
       "    }\n",
       "\n",
       "    .dataframe tbody tr th {\n",
       "        vertical-align: top;\n",
       "    }\n",
       "\n",
       "    .dataframe thead th {\n",
       "        text-align: right;\n",
       "    }\n",
       "</style>\n",
       "<table border=\"1\" class=\"dataframe\">\n",
       "  <thead>\n",
       "    <tr style=\"text-align: right;\">\n",
       "      <th></th>\n",
       "      <th>Orden</th>\n",
       "    </tr>\n",
       "  </thead>\n",
       "  <tbody>\n",
       "    <tr>\n",
       "      <th>Territorial</th>\n",
       "      <td>576532</td>\n",
       "    </tr>\n",
       "    <tr>\n",
       "      <th>Nacional</th>\n",
       "      <td>461263</td>\n",
       "    </tr>\n",
       "    <tr>\n",
       "      <th>Corporación Autónoma</th>\n",
       "      <td>10778</td>\n",
       "    </tr>\n",
       "    <tr>\n",
       "      <th>No Definido</th>\n",
       "      <td>2</td>\n",
       "    </tr>\n",
       "  </tbody>\n",
       "</table>\n",
       "</div>"
      ],
      "text/plain": [
       "                       Orden\n",
       "Territorial           576532\n",
       "Nacional              461263\n",
       "Corporación Autónoma   10778\n",
       "No Definido                2"
      ]
     },
     "execution_count": 8,
     "metadata": {},
     "output_type": "execute_result"
    }
   ],
   "source": [
    "vb_orden= pd.DataFrame(Punto1['Orden'].value_counts(sort=True))\n",
    "vb_orden"
   ]
  },
  {
   "cell_type": "markdown",
   "id": "7682cc20",
   "metadata": {},
   "source": [
    "De la información anterior, se presentan las gráficas de la variable orden:"
   ]
  },
  {
   "cell_type": "code",
   "execution_count": 9,
   "id": "f4732d20",
   "metadata": {},
   "outputs": [
    {
     "data": {
      "image/png": "[encoded data removed]",
      "text/plain": [
       "<Figure size 648x288 with 1 Axes>"
      ]
     },
     "metadata": {
      "needs_background": "light"
     },
     "output_type": "display_data"
    }
   ],
   "source": [
    "vb_orden.plot(kind = 'bar', \n",
    "             stacked = 'True',          # Muestra las barras apiladas\n",
    "             alpha = 0.8,               # nivel de transparencia\n",
    "             width = 0.88,               # Grosor de las barras para dejar espacio entre ellas\n",
    "             figsize=(9,4));            # Cambiamos el tamaño de la figura"
   ]
  },
  {
   "cell_type": "code",
   "execution_count": 10,
   "id": "9356aeda",
   "metadata": {},
   "outputs": [
    {
     "data": {
      "image/png": "[encoded data removed]",
      "text/plain": [
       "<Figure size 432x288 with 1 Axes>"
      ]
     },
     "metadata": {},
     "output_type": "display_data"
    }
   ],
   "source": [
    "import matplotlib.pyplot as plt\n",
    "\n",
    "valores = [576532, 461263, 10778,2]\n",
    "nombres_orden = [\"Territorial\",\"Nacional\",\"Corporación Autónoma\",\"No Definido\"]\n",
    "colores = [\"#EE6055\",\"#60D394\",\"#AAF683\",\"#FFD97D\",\"#FF9B85\"]\n",
    "desfase = (0, 0, 0.9, 0.9)\n",
    "plt.pie(valores, labels=nombres_orden, autopct=\"%0.2f %%\", colors=colores, explode=desfase)\n",
    "plt.axis(\"equal\")\n",
    "plt.show()\n"
   ]
  },
  {
   "cell_type": "markdown",
   "id": "0c3bf599",
   "metadata": {},
   "source": [
    "De las gráficas anteriores, se evidenció que el 54,9% de los contrato electrónicos corresponden al orden territorial, seguido del orden nacional con el 43,9%, corporación autónoma con el 1,03% y no definido el 0,0001%."
   ]
  },
  {
   "cell_type": "markdown",
   "id": "2f551c5e",
   "metadata": {},
   "source": [
    "##### ¿Qué miden?, ¿Qué categorías admiten? ¿Cómo afecta el problema que nos compete?"
   ]
  },
  {
   "cell_type": "markdown",
   "id": "8e7aaa5b",
   "metadata": {},
   "source": [
    "De la variable orden, se evidenció que mide como se clasifican los contrato suscrito de acuerdo al orden Entidad que publica el contrato, respecto a las categorias se evidenció que se clasifican en el orden territorial, nacional, corporación autónoma y en los casos que no se encuentren definidas se denomina \"no definido\".\n",
    "Por otra parte, es claro que más del 54% de la contratación corresponde al orden territorial que son los departamentos, los distritos, los municipios y los territorios indígenas."
   ]
  },
  {
   "cell_type": "markdown",
   "id": "e4b4cdf1",
   "metadata": {},
   "source": [
    "#### (ii) Rama"
   ]
  },
  {
   "cell_type": "code",
   "execution_count": 11,
   "id": "b687e00c",
   "metadata": {},
   "outputs": [
    {
     "data": {
      "text/html": [
       "<div>\n",
       "<style scoped>\n",
       "    .dataframe tbody tr th:only-of-type {\n",
       "        vertical-align: middle;\n",
       "    }\n",
       "\n",
       "    .dataframe tbody tr th {\n",
       "        vertical-align: top;\n",
       "    }\n",
       "\n",
       "    .dataframe thead th {\n",
       "        text-align: right;\n",
       "    }\n",
       "</style>\n",
       "<table border=\"1\" class=\"dataframe\">\n",
       "  <thead>\n",
       "    <tr style=\"text-align: right;\">\n",
       "      <th></th>\n",
       "      <th>Rama</th>\n",
       "    </tr>\n",
       "  </thead>\n",
       "  <tbody>\n",
       "    <tr>\n",
       "      <th>Ejecutivo</th>\n",
       "      <td>903134</td>\n",
       "    </tr>\n",
       "    <tr>\n",
       "      <th>Corporación Autónoma</th>\n",
       "      <td>126155</td>\n",
       "    </tr>\n",
       "    <tr>\n",
       "      <th>Judicial</th>\n",
       "      <td>12712</td>\n",
       "    </tr>\n",
       "    <tr>\n",
       "      <th>Legislativo</th>\n",
       "      <td>6572</td>\n",
       "    </tr>\n",
       "    <tr>\n",
       "      <th>No Definido</th>\n",
       "      <td>2</td>\n",
       "    </tr>\n",
       "  </tbody>\n",
       "</table>\n",
       "</div>"
      ],
      "text/plain": [
       "                        Rama\n",
       "Ejecutivo             903134\n",
       "Corporación Autónoma  126155\n",
       "Judicial               12712\n",
       "Legislativo             6572\n",
       "No Definido                2"
      ]
     },
     "execution_count": 11,
     "metadata": {},
     "output_type": "execute_result"
    }
   ],
   "source": [
    "vb_rama= pd.DataFrame(Punto1['Rama'].value_counts(sort=True))\n",
    "vb_rama"
   ]
  },
  {
   "cell_type": "markdown",
   "id": "c73c037c",
   "metadata": {},
   "source": [
    "De la información anterior, se presentan las gráficas de la variable rama:"
   ]
  },
  {
   "cell_type": "code",
   "execution_count": 12,
   "id": "dbaad0da",
   "metadata": {},
   "outputs": [
    {
     "data": {
      "image/png": "[encoded data removed]",
      "text/plain": [
       "<Figure size 648x288 with 1 Axes>"
      ]
     },
     "metadata": {
      "needs_background": "light"
     },
     "output_type": "display_data"
    }
   ],
   "source": [
    "vb_rama.plot(kind = 'bar', \n",
    "             stacked = 'True',          # Muestra las barras apiladas\n",
    "             alpha = 0.8,               # nivel de transparencia\n",
    "             width = 0.8,               # Grosor de las barras para dejar espacio entre ellas\n",
    "             figsize=(9,4));            # Cambiamos el tamaño de la figura"
   ]
  },
  {
   "cell_type": "code",
   "execution_count": 13,
   "id": "30dc5302",
   "metadata": {},
   "outputs": [
    {
     "data": {
      "image/png": "[encoded data removed]",
      "text/plain": [
       "<Figure size 432x288 with 1 Axes>"
      ]
     },
     "metadata": {},
     "output_type": "display_data"
    }
   ],
   "source": [
    "import matplotlib.pyplot as plt\n",
    "\n",
    "valores = [903134, 126155, 12712, 6572]\n",
    "nombres_rama = [\"Ejecutivo\",\"Corporación Autónoma\", \"Judicial\", \"Legislativo\"]\n",
    "colores = [\"#EE6055\",\"#60D394\",\"#AAF683\",\"#FFD97D\",\"#FF9B85\"]\n",
    "desfase = (0, 0, 0.9, 0.9)\n",
    "plt.pie(valores, labels=nombres_rama, autopct=\"%0.2f %%\", colors=colores, explode=desfase)\n",
    "plt.axis(\"equal\")\n",
    "plt.show()"
   ]
  },
  {
   "cell_type": "markdown",
   "id": "232dbc51",
   "metadata": {},
   "source": [
    "De las gráficas anteriores, se evidenció que el 86,13% de los contratos electrónicos corresponden a la rama ejecutiva, seguido de la  corporación autónoma con el 12,03%, la rama judicial con el 1,21%, la rama legislativa con el 0,63% y en se encontró el 0,0001% de los contratos no definidos."
   ]
  },
  {
   "cell_type": "markdown",
   "id": "f858852a",
   "metadata": {},
   "source": [
    "##### ¿Qué miden?, ¿Qué categorías admiten? ¿Cómo afecta el problema que nos compete?"
   ]
  },
  {
   "cell_type": "markdown",
   "id": "9aa1b760",
   "metadata": {},
   "source": [
    "De la variable rama, se evidenció que mide la clasifica cada contrato suscrito por la rama del Estado, respecto a las categorias se evidenció que se clasifican en la rama ejecutiva, corporación autónoma, rama judicial y rama legislativa. \n",
    "Por otra parte, es claro que más del 86% de la contratación corresponde a la rama ejecutiva,que es la encargada de la administración pública, y del diseño y desarrollo de las políticas públicas, siendo estratégicamente una de las más importantes en el país.\n",
    "\n"
   ]
  },
  {
   "cell_type": "markdown",
   "id": "8e3b2b5c",
   "metadata": {},
   "source": [
    "#### (iii) Sector"
   ]
  },
  {
   "cell_type": "code",
   "execution_count": 14,
   "id": "e06a36c7",
   "metadata": {},
   "outputs": [
    {
     "data": {
      "text/html": [
       "<div>\n",
       "<style scoped>\n",
       "    .dataframe tbody tr th:only-of-type {\n",
       "        vertical-align: middle;\n",
       "    }\n",
       "\n",
       "    .dataframe tbody tr th {\n",
       "        vertical-align: top;\n",
       "    }\n",
       "\n",
       "    .dataframe thead th {\n",
       "        text-align: right;\n",
       "    }\n",
       "</style>\n",
       "<table border=\"1\" class=\"dataframe\">\n",
       "  <thead>\n",
       "    <tr style=\"text-align: right;\">\n",
       "      <th></th>\n",
       "      <th>Sector</th>\n",
       "    </tr>\n",
       "  </thead>\n",
       "  <tbody>\n",
       "    <tr>\n",
       "      <th>Servicio Público</th>\n",
       "      <td>196265</td>\n",
       "    </tr>\n",
       "    <tr>\n",
       "      <th>Salud y Protección Social</th>\n",
       "      <td>151468</td>\n",
       "    </tr>\n",
       "    <tr>\n",
       "      <th>No aplica/No pertenece</th>\n",
       "      <td>106574</td>\n",
       "    </tr>\n",
       "    <tr>\n",
       "      <th>defensa</th>\n",
       "      <td>88166</td>\n",
       "    </tr>\n",
       "    <tr>\n",
       "      <th>Trabajo</th>\n",
       "      <td>58343</td>\n",
       "    </tr>\n",
       "    <tr>\n",
       "      <th>Inclusión Social y Reconciliación</th>\n",
       "      <td>53764</td>\n",
       "    </tr>\n",
       "    <tr>\n",
       "      <th>Educación Nacional</th>\n",
       "      <td>49287</td>\n",
       "    </tr>\n",
       "    <tr>\n",
       "      <th>Ambiente y Desarrollo Sostenible</th>\n",
       "      <td>44449</td>\n",
       "    </tr>\n",
       "    <tr>\n",
       "      <th>Cultura</th>\n",
       "      <td>37702</td>\n",
       "    </tr>\n",
       "    <tr>\n",
       "      <th>Información Estadística</th>\n",
       "      <td>36387</td>\n",
       "    </tr>\n",
       "    <tr>\n",
       "      <th>Transporte</th>\n",
       "      <td>30736</td>\n",
       "    </tr>\n",
       "    <tr>\n",
       "      <th>Ley de Justicia</th>\n",
       "      <td>30269</td>\n",
       "    </tr>\n",
       "    <tr>\n",
       "      <th>deportes</th>\n",
       "      <td>24824</td>\n",
       "    </tr>\n",
       "    <tr>\n",
       "      <th>Planeación</th>\n",
       "      <td>23295</td>\n",
       "    </tr>\n",
       "    <tr>\n",
       "      <th>Hacienda y Crédito Público</th>\n",
       "      <td>19486</td>\n",
       "    </tr>\n",
       "    <tr>\n",
       "      <th>agricultura</th>\n",
       "      <td>18598</td>\n",
       "    </tr>\n",
       "    <tr>\n",
       "      <th>Industria</th>\n",
       "      <td>18342</td>\n",
       "    </tr>\n",
       "    <tr>\n",
       "      <th>Tecnologías de la Información y las Comunicaciones</th>\n",
       "      <td>15115</td>\n",
       "    </tr>\n",
       "    <tr>\n",
       "      <th>Vivienda, Ciudad y Territorio</th>\n",
       "      <td>14987</td>\n",
       "    </tr>\n",
       "    <tr>\n",
       "      <th>Minas y Energía</th>\n",
       "      <td>11376</td>\n",
       "    </tr>\n",
       "    <tr>\n",
       "      <th>interior</th>\n",
       "      <td>7827</td>\n",
       "    </tr>\n",
       "    <tr>\n",
       "      <th>Presidencia de la República</th>\n",
       "      <td>6888</td>\n",
       "    </tr>\n",
       "    <tr>\n",
       "      <th>Ciencia Tecnología</th>\n",
       "      <td>2793</td>\n",
       "    </tr>\n",
       "    <tr>\n",
       "      <th>Relaciones Exteriores</th>\n",
       "      <td>1430</td>\n",
       "    </tr>\n",
       "    <tr>\n",
       "      <th>Inteligencia Estratégica y Contrainteligencia</th>\n",
       "      <td>202</td>\n",
       "    </tr>\n",
       "    <tr>\n",
       "      <th>No Definido</th>\n",
       "      <td>2</td>\n",
       "    </tr>\n",
       "  </tbody>\n",
       "</table>\n",
       "</div>"
      ],
      "text/plain": [
       "                                                    Sector\n",
       "Servicio Público                                    196265\n",
       "Salud y Protección Social                           151468\n",
       "No aplica/No pertenece                              106574\n",
       "defensa                                              88166\n",
       "Trabajo                                              58343\n",
       "Inclusión Social y Reconciliación                    53764\n",
       "Educación Nacional                                   49287\n",
       "Ambiente y Desarrollo Sostenible                     44449\n",
       "Cultura                                              37702\n",
       "Información Estadística                              36387\n",
       "Transporte                                           30736\n",
       "Ley de Justicia                                      30269\n",
       "deportes                                             24824\n",
       "Planeación                                           23295\n",
       "Hacienda y Crédito Público                           19486\n",
       "agricultura                                          18598\n",
       "Industria                                            18342\n",
       "Tecnologías de la Información y las Comunicaciones   15115\n",
       "Vivienda, Ciudad y Territorio                        14987\n",
       "Minas y Energía                                      11376\n",
       "interior                                              7827\n",
       "Presidencia de la República                           6888\n",
       "Ciencia Tecnología                                    2793\n",
       "Relaciones Exteriores                                 1430\n",
       "Inteligencia Estratégica y Contrainteligencia          202\n",
       "No Definido                                              2"
      ]
     },
     "execution_count": 14,
     "metadata": {},
     "output_type": "execute_result"
    }
   ],
   "source": [
    "vb_sector= pd.DataFrame(Punto1['Sector'].value_counts(sort=True))\n",
    "vb_sector"
   ]
  },
  {
   "cell_type": "markdown",
   "id": "d934bbc3",
   "metadata": {},
   "source": [
    "De la información anterior, se presentan las gráficas de la variable sector:"
   ]
  },
  {
   "cell_type": "code",
   "execution_count": 15,
   "id": "fcc1178d",
   "metadata": {},
   "outputs": [
    {
     "data": {
      "image/png": "[encoded data removed]",
      "text/plain": [
       "<Figure size 648x288 with 1 Axes>"
      ]
     },
     "metadata": {
      "needs_background": "light"
     },
     "output_type": "display_data"
    }
   ],
   "source": [
    "vb_sector.plot(kind = 'bar', \n",
    "             stacked = 'True',          # Muestra las barras apiladas\n",
    "             alpha = 0.8,               # nivel de transparencia\n",
    "             width = 0.8,               # Grosor de las barras para dejar espacio entre ellas\n",
    "             figsize=(9,4));            # Cambiamos el tamaño de la figura"
   ]
  },
  {
   "cell_type": "code",
   "execution_count": 16,
   "id": "b730d1ad",
   "metadata": {},
   "outputs": [
    {
     "data": {
      "image/png": "[encoded data removed]",
      "text/plain": [
       "<Figure size 432x288 with 1 Axes>"
      ]
     },
     "metadata": {},
     "output_type": "display_data"
    }
   ],
   "source": [
    "etiquetas = [\"Servicio Público\", \"salud y Protección Social\", \"No aplica/No pertenece\",\"defensa\", \"Trabajo\", \"Inclusión Social y Reconciliación\",  \"Educación Nacional\", \"Ambiente y Desarrollo Sostenible\",\"Cultura\", \"Información Estadística\", \"Transporte\", \"Ley de Justicia\", \"deportes\", \"Planeación\", \"Hacienda y Crédito Público\", \"agricultura\", \"Industria\", \"Tecnologías de la Información y las Comunicaciones\", \"Vivienda,Ciudad y Territorio\", \"Minas y Energía\", \"interior\", \"Presidencia de la República\", \"Ciencia Tecnología\", \"Relaciones Exteriores\", \"Inteligencia Estratégica y Contrainteligencia\", \"No Definido\"] \n",
    "\n",
    "\n",
    "porcentas = [196265, 151468, 106574 ,  88166 ,  58343 ,  53764 ,  49287 ,  44449 ,  37702 ,  36387 ,  30736 ,  30269 ,  24824 ,  23295 ,  19486 ,  18598 ,  18342 ,  15115 ,  14987 ,  11376 ,  7827,  6888 ,  2793 ,  1430 ,  202 ,  2 ]\n",
    "\n",
    "colores = ['#1abc9c', '#f1c40f', '#8e44ad', '#e74c3c', '#34495e', '#3498db'] #LabelColor\n",
    "\n",
    "plt.pie(porcentas, labels = etiquetas, colors=colores,\n",
    "        startangle=50, explode = (0.1,0.1,0.1,0.1,0.1,0.1,0.1,0.1,0.1,0.1,0.1,0.1,0.1,0.1,0.1,0.1,0.1,0.1,0.1,0.1,0.1,0.1,0.1,0.1,0.1,0.1),\n",
    "        radius = 3, autopct = '%1.1f%%')\n",
    "\n",
    "plt.show()"
   ]
  },
  {
   "cell_type": "markdown",
   "id": "455b9f02",
   "metadata": {},
   "source": [
    "Se evidenció que se suscribieron los contratos para 26 sectores, de los cuales el 51% de los contratos suscritos corresponden a estos cuatro (4): al Servicio Público, seguido de Salud y Protección Social, algunos  No aplica/No pertenece y al sector defensa  y el 49% restante se encuentran en los otro 22 sectores anteriormente discriminados. "
   ]
  },
  {
   "cell_type": "markdown",
   "id": "290335ae",
   "metadata": {},
   "source": [
    "##### ¿Qué miden?, ¿Qué categorías admiten? ¿Cómo afecta el problema que nos compete?"
   ]
  },
  {
   "cell_type": "markdown",
   "id": "7dffc8e3",
   "metadata": {},
   "source": [
    "De la variable sector, se evidenció que mide la clasificación cada contrato por sector, es decir, se admiten en la clasificación  26 sectores que se enunciaron anteriormente. Por otra parte, se considera que no hay afectación, toda vez que se evidencia que los contratos se encuentran distribuidos acorde a la obligación contractual de cada contrato, destacando que el 51% se encuentra en el sector de Servicio Público, seguido de Salud y Protección Social, algunos  No aplica/No pertenece y al sector defensa."
   ]
  },
  {
   "cell_type": "markdown",
   "id": "29953b70",
   "metadata": {},
   "source": [
    "#### (iv) Departamento"
   ]
  },
  {
   "cell_type": "code",
   "execution_count": 17,
   "id": "7d98ce44",
   "metadata": {},
   "outputs": [
    {
     "data": {
      "text/html": [
       "<div>\n",
       "<style scoped>\n",
       "    .dataframe tbody tr th:only-of-type {\n",
       "        vertical-align: middle;\n",
       "    }\n",
       "\n",
       "    .dataframe tbody tr th {\n",
       "        vertical-align: top;\n",
       "    }\n",
       "\n",
       "    .dataframe thead th {\n",
       "        text-align: right;\n",
       "    }\n",
       "</style>\n",
       "<table border=\"1\" class=\"dataframe\">\n",
       "  <thead>\n",
       "    <tr style=\"text-align: right;\">\n",
       "      <th></th>\n",
       "      <th>Departamento</th>\n",
       "    </tr>\n",
       "  </thead>\n",
       "  <tbody>\n",
       "    <tr>\n",
       "      <th>Distrito Capital de Bogotá</th>\n",
       "      <td>532189</td>\n",
       "    </tr>\n",
       "    <tr>\n",
       "      <th>Valle del Cauca</th>\n",
       "      <td>94533</td>\n",
       "    </tr>\n",
       "    <tr>\n",
       "      <th>Antioquia</th>\n",
       "      <td>63385</td>\n",
       "    </tr>\n",
       "    <tr>\n",
       "      <th>Santander</th>\n",
       "      <td>39743</td>\n",
       "    </tr>\n",
       "    <tr>\n",
       "      <th>Atlántico</th>\n",
       "      <td>29215</td>\n",
       "    </tr>\n",
       "    <tr>\n",
       "      <th>Tolima</th>\n",
       "      <td>24860</td>\n",
       "    </tr>\n",
       "    <tr>\n",
       "      <th>Cundinamarca</th>\n",
       "      <td>23674</td>\n",
       "    </tr>\n",
       "    <tr>\n",
       "      <th>Bolívar</th>\n",
       "      <td>22128</td>\n",
       "    </tr>\n",
       "    <tr>\n",
       "      <th>Risaralda</th>\n",
       "      <td>17564</td>\n",
       "    </tr>\n",
       "    <tr>\n",
       "      <th>Huila</th>\n",
       "      <td>16848</td>\n",
       "    </tr>\n",
       "    <tr>\n",
       "      <th>Meta</th>\n",
       "      <td>16066</td>\n",
       "    </tr>\n",
       "    <tr>\n",
       "      <th>Boyacá</th>\n",
       "      <td>15802</td>\n",
       "    </tr>\n",
       "    <tr>\n",
       "      <th>Quindío</th>\n",
       "      <td>15146</td>\n",
       "    </tr>\n",
       "    <tr>\n",
       "      <th>Caldas</th>\n",
       "      <td>14783</td>\n",
       "    </tr>\n",
       "    <tr>\n",
       "      <th>Norte de Santander</th>\n",
       "      <td>14685</td>\n",
       "    </tr>\n",
       "    <tr>\n",
       "      <th>Cauca</th>\n",
       "      <td>12575</td>\n",
       "    </tr>\n",
       "    <tr>\n",
       "      <th>Nariño</th>\n",
       "      <td>12237</td>\n",
       "    </tr>\n",
       "    <tr>\n",
       "      <th>Casanare</th>\n",
       "      <td>10850</td>\n",
       "    </tr>\n",
       "    <tr>\n",
       "      <th>Magdalena</th>\n",
       "      <td>10277</td>\n",
       "    </tr>\n",
       "    <tr>\n",
       "      <th>Sucre</th>\n",
       "      <td>8560</td>\n",
       "    </tr>\n",
       "    <tr>\n",
       "      <th>Cesar</th>\n",
       "      <td>8114</td>\n",
       "    </tr>\n",
       "    <tr>\n",
       "      <th>No Definido</th>\n",
       "      <td>6223</td>\n",
       "    </tr>\n",
       "    <tr>\n",
       "      <th>San Andrés, Providencia y Santa Catalina</th>\n",
       "      <td>6187</td>\n",
       "    </tr>\n",
       "    <tr>\n",
       "      <th>Putumayo</th>\n",
       "      <td>5473</td>\n",
       "    </tr>\n",
       "    <tr>\n",
       "      <th>Córdoba</th>\n",
       "      <td>5376</td>\n",
       "    </tr>\n",
       "    <tr>\n",
       "      <th>Caquetá</th>\n",
       "      <td>5255</td>\n",
       "    </tr>\n",
       "    <tr>\n",
       "      <th>Chocó</th>\n",
       "      <td>4874</td>\n",
       "    </tr>\n",
       "    <tr>\n",
       "      <th>La Guajira</th>\n",
       "      <td>3996</td>\n",
       "    </tr>\n",
       "    <tr>\n",
       "      <th>Arauca</th>\n",
       "      <td>3877</td>\n",
       "    </tr>\n",
       "    <tr>\n",
       "      <th>Vichada</th>\n",
       "      <td>1363</td>\n",
       "    </tr>\n",
       "    <tr>\n",
       "      <th>Amazonas</th>\n",
       "      <td>1018</td>\n",
       "    </tr>\n",
       "    <tr>\n",
       "      <th>Guaviare</th>\n",
       "      <td>899</td>\n",
       "    </tr>\n",
       "    <tr>\n",
       "      <th>Guainía</th>\n",
       "      <td>518</td>\n",
       "    </tr>\n",
       "    <tr>\n",
       "      <th>Vaupés</th>\n",
       "      <td>282</td>\n",
       "    </tr>\n",
       "  </tbody>\n",
       "</table>\n",
       "</div>"
      ],
      "text/plain": [
       "                                          Departamento\n",
       "Distrito Capital de Bogotá                      532189\n",
       "Valle del Cauca                                  94533\n",
       "Antioquia                                        63385\n",
       "Santander                                        39743\n",
       "Atlántico                                        29215\n",
       "Tolima                                           24860\n",
       "Cundinamarca                                     23674\n",
       "Bolívar                                          22128\n",
       "Risaralda                                        17564\n",
       "Huila                                            16848\n",
       "Meta                                             16066\n",
       "Boyacá                                           15802\n",
       "Quindío                                          15146\n",
       "Caldas                                           14783\n",
       "Norte de Santander                               14685\n",
       "Cauca                                            12575\n",
       "Nariño                                           12237\n",
       "Casanare                                         10850\n",
       "Magdalena                                        10277\n",
       "Sucre                                             8560\n",
       "Cesar                                             8114\n",
       "No Definido                                       6223\n",
       "San Andrés, Providencia y Santa Catalina          6187\n",
       "Putumayo                                          5473\n",
       "Córdoba                                           5376\n",
       "Caquetá                                           5255\n",
       "Chocó                                             4874\n",
       "La Guajira                                        3996\n",
       "Arauca                                            3877\n",
       "Vichada                                           1363\n",
       "Amazonas                                          1018\n",
       "Guaviare                                           899\n",
       "Guainía                                            518\n",
       "Vaupés                                             282"
      ]
     },
     "execution_count": 17,
     "metadata": {},
     "output_type": "execute_result"
    }
   ],
   "source": [
    "vb_departamento= pd.DataFrame(Punto1['Departamento'].value_counts(sort=True))\n",
    "vb_departamento"
   ]
  },
  {
   "cell_type": "markdown",
   "id": "70af5250",
   "metadata": {},
   "source": [
    "De la información anterior, se presentan las gráficas de la variable departamento:"
   ]
  },
  {
   "cell_type": "code",
   "execution_count": 18,
   "id": "8cd84926",
   "metadata": {},
   "outputs": [
    {
     "data": {
      "image/png": "[encoded data removed]",
      "text/plain": [
       "<Figure size 648x288 with 1 Axes>"
      ]
     },
     "metadata": {
      "needs_background": "light"
     },
     "output_type": "display_data"
    }
   ],
   "source": [
    "vb_departamento.plot(kind = 'bar', \n",
    "             stacked = 'True',          # Muestra las barras apiladas\n",
    "             alpha = 0.8,               # nivel de transparencia\n",
    "             width = 0.8,               # Grosor de las barras para dejar espacio entre ellas\n",
    "             figsize=(9,4));            # Cambiamos el tamaño de la figura"
   ]
  },
  {
   "cell_type": "markdown",
   "id": "76d601b8",
   "metadata": {},
   "source": [
    "De las gráficas anteriores, se evidenció que el 50% se suscribieron en la Distrito Capital de Bogotá, el 20% a los departamentos de Valle del Cauca, Antioquia, Santander y el 30% a los 30 Departamentos restantes y un 0,6% no se registró información."
   ]
  },
  {
   "cell_type": "markdown",
   "id": "a35f78cd",
   "metadata": {},
   "source": [
    "##### ¿Qué miden?, ¿Qué categorías admiten? ¿Cómo afecta el problema que nos compete?"
   ]
  },
  {
   "cell_type": "markdown",
   "id": "deef95da",
   "metadata": {},
   "source": [
    "La variable Departamento, presenta la información clasificada por cantidad de contratos suscritos por Departamento, en la categoría se admiten 32 departamentos y un distrito capital Bogotá. Por otra parte, se evidenció que el 50% de los contratos, es decir, 532.189 contratos se suscribieron en Bogotá.."
   ]
  },
  {
   "cell_type": "markdown",
   "id": "7dba431c",
   "metadata": {},
   "source": [
    "#### (v) Tipo de Contrato"
   ]
  },
  {
   "cell_type": "code",
   "execution_count": 19,
   "id": "5dd82634",
   "metadata": {},
   "outputs": [
    {
     "data": {
      "text/html": [
       "<div>\n",
       "<style scoped>\n",
       "    .dataframe tbody tr th:only-of-type {\n",
       "        vertical-align: middle;\n",
       "    }\n",
       "\n",
       "    .dataframe tbody tr th {\n",
       "        vertical-align: top;\n",
       "    }\n",
       "\n",
       "    .dataframe thead th {\n",
       "        text-align: right;\n",
       "    }\n",
       "</style>\n",
       "<table border=\"1\" class=\"dataframe\">\n",
       "  <thead>\n",
       "    <tr style=\"text-align: right;\">\n",
       "      <th></th>\n",
       "      <th>Tipo de Contrato</th>\n",
       "    </tr>\n",
       "  </thead>\n",
       "  <tbody>\n",
       "    <tr>\n",
       "      <th>Prestación de servicios</th>\n",
       "      <td>858743</td>\n",
       "    </tr>\n",
       "    <tr>\n",
       "      <th>Otro</th>\n",
       "      <td>47463</td>\n",
       "    </tr>\n",
       "    <tr>\n",
       "      <th>Compraventa</th>\n",
       "      <td>34902</td>\n",
       "    </tr>\n",
       "    <tr>\n",
       "      <th>Suministros</th>\n",
       "      <td>33816</td>\n",
       "    </tr>\n",
       "    <tr>\n",
       "      <th>DecreeLaw092/2017</th>\n",
       "      <td>27844</td>\n",
       "    </tr>\n",
       "    <tr>\n",
       "      <th>Obra</th>\n",
       "      <td>10541</td>\n",
       "    </tr>\n",
       "    <tr>\n",
       "      <th>Arrendamiento de inmuebles</th>\n",
       "      <td>9352</td>\n",
       "    </tr>\n",
       "    <tr>\n",
       "      <th>Interventoría</th>\n",
       "      <td>2884</td>\n",
       "    </tr>\n",
       "    <tr>\n",
       "      <th>Comodato</th>\n",
       "      <td>2736</td>\n",
       "    </tr>\n",
       "    <tr>\n",
       "      <th>Consultoría</th>\n",
       "      <td>2585</td>\n",
       "    </tr>\n",
       "    <tr>\n",
       "      <th>Seguros</th>\n",
       "      <td>1710</td>\n",
       "    </tr>\n",
       "    <tr>\n",
       "      <th>Asociación Público Privada</th>\n",
       "      <td>398</td>\n",
       "    </tr>\n",
       "    <tr>\n",
       "      <th>Arrendamiento de muebles</th>\n",
       "      <td>356</td>\n",
       "    </tr>\n",
       "    <tr>\n",
       "      <th>No Especificado</th>\n",
       "      <td>293</td>\n",
       "    </tr>\n",
       "    <tr>\n",
       "      <th>Servicios financieros</th>\n",
       "      <td>183</td>\n",
       "    </tr>\n",
       "    <tr>\n",
       "      <th>Emprestito</th>\n",
       "      <td>122</td>\n",
       "    </tr>\n",
       "    <tr>\n",
       "      <th>Venta muebles</th>\n",
       "      <td>85</td>\n",
       "    </tr>\n",
       "    <tr>\n",
       "      <th>Comisión</th>\n",
       "      <td>82</td>\n",
       "    </tr>\n",
       "    <tr>\n",
       "      <th>Concesión</th>\n",
       "      <td>69</td>\n",
       "    </tr>\n",
       "    <tr>\n",
       "      <th>Negocio fiduciario</th>\n",
       "      <td>64</td>\n",
       "    </tr>\n",
       "    <tr>\n",
       "      <th>Acuerdo Marco de Precios</th>\n",
       "      <td>26</td>\n",
       "    </tr>\n",
       "    <tr>\n",
       "      <th>Venta inmuebles</th>\n",
       "      <td>22</td>\n",
       "    </tr>\n",
       "    <tr>\n",
       "      <th>Acuerdo de cooperación</th>\n",
       "      <td>15</td>\n",
       "    </tr>\n",
       "  </tbody>\n",
       "</table>\n",
       "</div>"
      ],
      "text/plain": [
       "                            Tipo de Contrato\n",
       "Prestación de servicios               858743\n",
       "Otro                                   47463\n",
       "Compraventa                            34902\n",
       "Suministros                            33816\n",
       "DecreeLaw092/2017                      27844\n",
       "Obra                                   10541\n",
       "Arrendamiento de inmuebles              9352\n",
       "Interventoría                           2884\n",
       "Comodato                                2736\n",
       "Consultoría                             2585\n",
       "Seguros                                 1710\n",
       "Asociación Público Privada               398\n",
       "Arrendamiento de muebles                 356\n",
       "No Especificado                          293\n",
       "Servicios financieros                    183\n",
       "Emprestito                               122\n",
       "Venta muebles                             85\n",
       "Comisión                                  82\n",
       "Concesión                                 69\n",
       "Negocio fiduciario                        64\n",
       "Acuerdo Marco de Precios                  26\n",
       "Venta inmuebles                           22\n",
       "Acuerdo de cooperación                    15"
      ]
     },
     "execution_count": 19,
     "metadata": {},
     "output_type": "execute_result"
    }
   ],
   "source": [
    "vb_tipocontrato=pd.DataFrame(Punto1['Tipo de Contrato'].value_counts(sort=True))\n",
    "vb_tipocontrato"
   ]
  },
  {
   "cell_type": "markdown",
   "id": "2e875913",
   "metadata": {},
   "source": [
    "De la información anterior, se presentan las gráficas de la variable tipo de contrato:"
   ]
  },
  {
   "cell_type": "code",
   "execution_count": 20,
   "id": "61697b60",
   "metadata": {},
   "outputs": [
    {
     "data": {
      "image/png": "[encoded data removed]",
      "text/plain": [
       "<Figure size 648x288 with 1 Axes>"
      ]
     },
     "metadata": {
      "needs_background": "light"
     },
     "output_type": "display_data"
    }
   ],
   "source": [
    "vb_tipocontrato.plot(kind = 'bar', \n",
    "             stacked = 'True',          # Muestra las barras apiladas\n",
    "             alpha = 0.8,               # nivel de transparencia\n",
    "             width = 0.8,               # Grosor de las barras para dejar espacio entre ellas\n",
    "             figsize=(9,4));            # Cambiamos el tamaño de la figura"
   ]
  },
  {
   "cell_type": "code",
   "execution_count": 28,
   "id": "4b28f622",
   "metadata": {},
   "outputs": [
    {
     "data": {
      "image/png": "[encoded data removed]",
      "text/plain": [
       "<Figure size 432x288 with 1 Axes>"
      ]
     },
     "metadata": {},
     "output_type": "display_data"
    }
   ],
   "source": [
    "num= [858743,47463,34902,33816,27844,10541,9352,2884,2736,2585,1710,398,356,293,183,122,85,82,69,64,26,22,15]\n",
    "nombres = [\"Prestación de servicios\",\"Otro \",\"Compraventa \", \"Suministros \",\"DecreeLaw092/2017 \", \"Obra \",\"Arrendamiento de inmuebles \",\"Interventoría \", \"Comodato \",\"Consultoría \",\"Seguros \", \"Asociación Público Privada \",\"Arrendamiento de muebles \",\"No Especificado \",\"Servicios financieros \",\"Emprestito \",\"Venta muebles \",\"Comisión \",\"Concesión \",\"Negocio fiduciario \",\"Acuerdo Marco de Precios \",\"Venta inmuebles \",\"Acuerdo de cooperación \"]\n",
    "plt.pie(num, labels=nombres, startangle=50, explode = (0.1,0.1,0.1,0.1,0.1,0.1,0.1,0.1,0.1,0.1,0.1,0.1,0.1,0.1,0.1,0.1,0.1,0.1,0.1,0.1,0.1,0.1,0.1),\n",
    "        radius = 1,autopct=\"%1.1f %%\")\n",
    "plt.axis(\"equal\")\n",
    "plt.show()"
   ]
  },
  {
   "cell_type": "markdown",
   "id": "28e56948",
   "metadata": {},
   "source": [
    "De las gráficas anteriores, se evidenció que se suscribieron 23 tipos de contratos, de los cuales el 90% corresponden a contratos de prestación de servicios, Otros y Compraventa."
   ]
  },
  {
   "cell_type": "markdown",
   "id": "8dce0c25",
   "metadata": {},
   "source": [
    "##### ¿Qué miden?, ¿Qué categorías admiten? ¿Cómo afecta el problema que nos compete?"
   ]
  },
  {
   "cell_type": "markdown",
   "id": "19f0b98e",
   "metadata": {},
   "source": [
    "•\tDe la variable tipo de contrato, la variable mide el tipo de contrato que se suscribió, se admiten 23 categorías en la clasificación, de los cuales el 90% corresponden a contratos de prestación de servicios, Otros y Compraventa y el 10% restante a las otras veinte categorías.  "
   ]
  },
  {
   "cell_type": "markdown",
   "id": "60e0ff2f",
   "metadata": {},
   "source": [
    "#### (vi) Estado Contrato"
   ]
  },
  {
   "cell_type": "code",
   "execution_count": 24,
   "id": "482fd3ee",
   "metadata": {},
   "outputs": [
    {
     "data": {
      "text/html": [
       "<div>\n",
       "<style scoped>\n",
       "    .dataframe tbody tr th:only-of-type {\n",
       "        vertical-align: middle;\n",
       "    }\n",
       "\n",
       "    .dataframe tbody tr th {\n",
       "        vertical-align: top;\n",
       "    }\n",
       "\n",
       "    .dataframe thead th {\n",
       "        text-align: right;\n",
       "    }\n",
       "</style>\n",
       "<table border=\"1\" class=\"dataframe\">\n",
       "  <thead>\n",
       "    <tr style=\"text-align: right;\">\n",
       "      <th></th>\n",
       "      <th>Estado Contrato</th>\n",
       "    </tr>\n",
       "  </thead>\n",
       "  <tbody>\n",
       "    <tr>\n",
       "      <th>En ejecución</th>\n",
       "      <td>363774</td>\n",
       "    </tr>\n",
       "    <tr>\n",
       "      <th>Modificado</th>\n",
       "      <td>284415</td>\n",
       "    </tr>\n",
       "    <tr>\n",
       "      <th>Activo</th>\n",
       "      <td>181560</td>\n",
       "    </tr>\n",
       "    <tr>\n",
       "      <th>terminado</th>\n",
       "      <td>89810</td>\n",
       "    </tr>\n",
       "    <tr>\n",
       "      <th>Borrador</th>\n",
       "      <td>51887</td>\n",
       "    </tr>\n",
       "    <tr>\n",
       "      <th>Cerrado</th>\n",
       "      <td>42245</td>\n",
       "    </tr>\n",
       "    <tr>\n",
       "      <th>enviado Proveedor</th>\n",
       "      <td>16218</td>\n",
       "    </tr>\n",
       "    <tr>\n",
       "      <th>En aprobación</th>\n",
       "      <td>9130</td>\n",
       "    </tr>\n",
       "    <tr>\n",
       "      <th>cedido</th>\n",
       "      <td>8298</td>\n",
       "    </tr>\n",
       "    <tr>\n",
       "      <th>Suspendido</th>\n",
       "      <td>1114</td>\n",
       "    </tr>\n",
       "    <tr>\n",
       "      <th>Prorrogado</th>\n",
       "      <td>115</td>\n",
       "    </tr>\n",
       "  </tbody>\n",
       "</table>\n",
       "</div>"
      ],
      "text/plain": [
       "                   Estado Contrato\n",
       "En ejecución                363774\n",
       "Modificado                  284415\n",
       "Activo                      181560\n",
       "terminado                    89810\n",
       "Borrador                     51887\n",
       "Cerrado                      42245\n",
       "enviado Proveedor            16218\n",
       "En aprobación                 9130\n",
       "cedido                        8298\n",
       "Suspendido                    1114\n",
       "Prorrogado                     115"
      ]
     },
     "execution_count": 24,
     "metadata": {},
     "output_type": "execute_result"
    }
   ],
   "source": [
    "vb_estadocontrato= pd.DataFrame(Punto1['Estado Contrato'].value_counts(sort=True))\n",
    "vb_estadocontrato"
   ]
  },
  {
   "cell_type": "markdown",
   "id": "662b1405",
   "metadata": {},
   "source": [
    "De la información anterior, se presentan las gráficas de la variable estado del contrato:"
   ]
  },
  {
   "cell_type": "code",
   "execution_count": 25,
   "id": "9b54df4d",
   "metadata": {},
   "outputs": [
    {
     "data": {
      "image/png": "[encoded data removed]",
      "text/plain": [
       "<Figure size 648x288 with 1 Axes>"
      ]
     },
     "metadata": {
      "needs_background": "light"
     },
     "output_type": "display_data"
    }
   ],
   "source": [
    "vb_estadocontrato.plot(kind = 'bar', \n",
    "             stacked = 'True',          # Muestra las barras apiladas\n",
    "             alpha = 0.8,               # nivel de transparencia\n",
    "             width = 0.8,               # Grosor de las barras para dejar espacio entre ellas\n",
    "             figsize=(9,4));            # Cambiamos el tamaño de la figura"
   ]
  },
  {
   "cell_type": "code",
   "execution_count": 26,
   "id": "adc2e5dd",
   "metadata": {},
   "outputs": [
    {
     "data": {
      "image/png": "[encoded data removed]",
      "text/plain": [
       "<Figure size 432x288 with 1 Axes>"
      ]
     },
     "metadata": {},
     "output_type": "display_data"
    }
   ],
   "source": [
    "etiquetas = ['En ejecución', 'Modificado ', 'Activo ', 'terminado ', 'Borrador ', 'Cerrado ', 'enviado Proveedor ', 'En aprobación ', 'cedido ' ,'Suspendido ', 'Prorrogado '] \n",
    "porcentas = [363774,284415,181560,89810,51887,42245,16218,9130,8298,1114,115]\n",
    "\n",
    "plt.pie(porcentas, labels = etiquetas,\n",
    "        startangle=50, explode = (0.1,0.1,0.1,0.1,0.1,0.1,0.1,0.1,0.1,0.1,0.1),\n",
    "        radius = 2, autopct = '%1.1f%%')\n",
    "\n",
    "plt.show()"
   ]
  },
  {
   "cell_type": "markdown",
   "id": "fa8b6b4f",
   "metadata": {},
   "source": [
    "De la gráfica anterior, se evidenció que el 34,7% de los contratos se encuentran en ejecución, seguido de los contratos modificados en 27,1%, activos el 17.4% entre otros. "
   ]
  },
  {
   "cell_type": "markdown",
   "id": "36bbcbf1",
   "metadata": {},
   "source": [
    "##### ¿Qué miden?, ¿Qué categorías admiten? ¿Cómo afecta el problema que nos compete?"
   ]
  },
  {
   "cell_type": "markdown",
   "id": "32ce2e2a",
   "metadata": {},
   "source": [
    "De la variable estado del contrato, se logró evidenciar que mide el estado de cada contrato suscrito, donde admite 11 categorías que se clasifican en Activo, Borrador, cedido, Cerrado, En aprobación, En ejecución, enviado Proveedor, Modificado, Prorrogado, Suspendido y terminado. Ahora bien, respecto de si afecta el problema que compete, es impórtate resalta que la información arrojada es de gran utilidad, es decir, de la información se destaca que el  61% se encuentran  en ejecución y modificados."
   ]
  },
  {
   "cell_type": "markdown",
   "id": "fa191ae1",
   "metadata": {},
   "source": [
    "#### (vii) Es Pyme"
   ]
  },
  {
   "cell_type": "code",
   "execution_count": 29,
   "id": "b132f359",
   "metadata": {},
   "outputs": [
    {
     "data": {
      "text/html": [
       "<div>\n",
       "<style scoped>\n",
       "    .dataframe tbody tr th:only-of-type {\n",
       "        vertical-align: middle;\n",
       "    }\n",
       "\n",
       "    .dataframe tbody tr th {\n",
       "        vertical-align: top;\n",
       "    }\n",
       "\n",
       "    .dataframe thead th {\n",
       "        text-align: right;\n",
       "    }\n",
       "</style>\n",
       "<table border=\"1\" class=\"dataframe\">\n",
       "  <thead>\n",
       "    <tr style=\"text-align: right;\">\n",
       "      <th></th>\n",
       "      <th>Es Pyme</th>\n",
       "    </tr>\n",
       "  </thead>\n",
       "  <tbody>\n",
       "    <tr>\n",
       "      <th>No</th>\n",
       "      <td>849147</td>\n",
       "    </tr>\n",
       "    <tr>\n",
       "      <th>Si</th>\n",
       "      <td>185120</td>\n",
       "    </tr>\n",
       "  </tbody>\n",
       "</table>\n",
       "</div>"
      ],
      "text/plain": [
       "    Es Pyme\n",
       "No   849147\n",
       "Si   185120"
      ]
     },
     "execution_count": 29,
     "metadata": {},
     "output_type": "execute_result"
    }
   ],
   "source": [
    "vb_espyme= pd.DataFrame(Punto1['Es Pyme'].value_counts(sort=True))\n",
    "vb_espyme\n"
   ]
  },
  {
   "cell_type": "markdown",
   "id": "51cf0cc7",
   "metadata": {},
   "source": [
    "De la información anterior, se presentan las gráficas de la variable es pyme:"
   ]
  },
  {
   "cell_type": "code",
   "execution_count": 30,
   "id": "76a1ddd0",
   "metadata": {},
   "outputs": [
    {
     "data": {
      "image/png": "[encoded data removed]",
      "text/plain": [
       "<Figure size 648x288 with 1 Axes>"
      ]
     },
     "metadata": {
      "needs_background": "light"
     },
     "output_type": "display_data"
    }
   ],
   "source": [
    "vb_espyme.plot(kind = 'bar', \n",
    "             stacked = 'True',          # Muestra las barras apiladas\n",
    "             alpha = 0.8,               # nivel de transparencia\n",
    "             width = 0.8,               # Grosor de las barras para dejar espacio entre ellas\n",
    "             figsize=(9,4));            # Cambiamos el tamaño de la figura"
   ]
  },
  {
   "cell_type": "code",
   "execution_count": 31,
   "id": "5112f916",
   "metadata": {},
   "outputs": [
    {
     "data": {
      "image/png": "[encoded data removed]",
      "text/plain": [
       "<Figure size 432x288 with 1 Axes>"
      ]
     },
     "metadata": {},
     "output_type": "display_data"
    }
   ],
   "source": [
    "etiquetas = ['No','Si'] \n",
    "porcentas = [849147,185210]\n",
    "\n",
    "plt.pie(porcentas, labels = etiquetas,\n",
    "        startangle=50, explode = (0.1,0.1),\n",
    "        radius = 1.5, autopct = '%1.1f%%')\n",
    "\n",
    "plt.show()\n"
   ]
  },
  {
   "cell_type": "markdown",
   "id": "39abcd2a",
   "metadata": {},
   "source": [
    "##### ¿Qué miden?, ¿Qué categorías admiten? ¿Cómo afecta el problema que nos compete?"
   ]
  },
  {
   "cell_type": "markdown",
   "id": "392d1684",
   "metadata": {},
   "source": [
    "La variable Es Pyme, mide si los contratos se encuentras suscritos por una empresa Pyme. donde se admite si en el caso que se afirmativo y no cuando es lo contrario. En este sentido, el 82% de los contratos suscritos no son empresas Pyme como se evidencia en las gráficas anteriores. "
   ]
  },
  {
   "cell_type": "markdown",
   "id": "de9b87c3",
   "metadata": {},
   "source": [
    "## Ejercicio 2"
   ]
  },
  {
   "cell_type": "markdown",
   "id": "2f9c3c7f",
   "metadata": {},
   "source": [
    "Crear un reporte (con un miniaplicativo incluido) que permita visualizar lo siguiente:\n"
   ]
  },
  {
   "cell_type": "markdown",
   "id": "457c99b8",
   "metadata": {},
   "source": [
    "###### a) Cantidad de contratos por departamento segun sector y segun un rango de fechas que filtre con la fecha de inicio de contratos. Facilitar la consulta en regiones por año.\n"
   ]
  },
  {
   "cell_type": "code",
   "execution_count": 32,
   "id": "9b796083",
   "metadata": {},
   "outputs": [
    {
     "data": {
      "text/html": [
       "<div>\n",
       "<style scoped>\n",
       "    .dataframe tbody tr th:only-of-type {\n",
       "        vertical-align: middle;\n",
       "    }\n",
       "\n",
       "    .dataframe tbody tr th {\n",
       "        vertical-align: top;\n",
       "    }\n",
       "\n",
       "    .dataframe thead th {\n",
       "        text-align: right;\n",
       "    }\n",
       "</style>\n",
       "<table border=\"1\" class=\"dataframe\">\n",
       "  <thead>\n",
       "    <tr style=\"text-align: right;\">\n",
       "      <th></th>\n",
       "      <th>N</th>\n",
       "      <th>Sector</th>\n",
       "      <th>Departamento</th>\n",
       "      <th>Fecha de Inicio del Contrato</th>\n",
       "    </tr>\n",
       "  </thead>\n",
       "  <tbody>\n",
       "    <tr>\n",
       "      <th>0</th>\n",
       "      <td>1</td>\n",
       "      <td>Tecnologías de la Información y las Comunicaci...</td>\n",
       "      <td>Distrito Capital de Bogotá</td>\n",
       "      <td>2008-09-01 00:00:00</td>\n",
       "    </tr>\n",
       "    <tr>\n",
       "      <th>1</th>\n",
       "      <td>1</td>\n",
       "      <td>Salud y Protección Social</td>\n",
       "      <td>Distrito Capital de Bogotá</td>\n",
       "      <td>2008-10-01 00:00:00</td>\n",
       "    </tr>\n",
       "    <tr>\n",
       "      <th>2</th>\n",
       "      <td>1</td>\n",
       "      <td>Transporte</td>\n",
       "      <td>Distrito Capital de Bogotá</td>\n",
       "      <td>2010-06-03 00:00:00</td>\n",
       "    </tr>\n",
       "    <tr>\n",
       "      <th>3</th>\n",
       "      <td>1</td>\n",
       "      <td>agricultura</td>\n",
       "      <td>Distrito Capital de Bogotá</td>\n",
       "      <td>2010-12-03 00:00:00</td>\n",
       "    </tr>\n",
       "    <tr>\n",
       "      <th>4</th>\n",
       "      <td>1</td>\n",
       "      <td>Servicio Público</td>\n",
       "      <td>Antioquia</td>\n",
       "      <td>2015-05-11 00:00:00</td>\n",
       "    </tr>\n",
       "    <tr>\n",
       "      <th>...</th>\n",
       "      <td>...</td>\n",
       "      <td>...</td>\n",
       "      <td>...</td>\n",
       "      <td>...</td>\n",
       "    </tr>\n",
       "    <tr>\n",
       "      <th>1048570</th>\n",
       "      <td>1</td>\n",
       "      <td>Salud y Protección Social</td>\n",
       "      <td>Distrito Capital de Bogotá</td>\n",
       "      <td>NaN</td>\n",
       "    </tr>\n",
       "    <tr>\n",
       "      <th>1048571</th>\n",
       "      <td>1</td>\n",
       "      <td>Trabajo</td>\n",
       "      <td>Distrito Capital de Bogotá</td>\n",
       "      <td>NaN</td>\n",
       "    </tr>\n",
       "    <tr>\n",
       "      <th>1048572</th>\n",
       "      <td>1</td>\n",
       "      <td>Planeación</td>\n",
       "      <td>Distrito Capital de Bogotá</td>\n",
       "      <td>NaN</td>\n",
       "    </tr>\n",
       "    <tr>\n",
       "      <th>1048573</th>\n",
       "      <td>1</td>\n",
       "      <td>Cultura</td>\n",
       "      <td>Distrito Capital de Bogotá</td>\n",
       "      <td>NaN</td>\n",
       "    </tr>\n",
       "    <tr>\n",
       "      <th>1048574</th>\n",
       "      <td>1</td>\n",
       "      <td>Servicio Público</td>\n",
       "      <td>Risaralda</td>\n",
       "      <td>NaN</td>\n",
       "    </tr>\n",
       "  </tbody>\n",
       "</table>\n",
       "<p>1048575 rows × 4 columns</p>\n",
       "</div>"
      ],
      "text/plain": [
       "         N                                             Sector  \\\n",
       "0        1  Tecnologías de la Información y las Comunicaci...   \n",
       "1        1                          Salud y Protección Social   \n",
       "2        1                                         Transporte   \n",
       "3        1                                        agricultura   \n",
       "4        1                                   Servicio Público   \n",
       "...     ..                                                ...   \n",
       "1048570  1                          Salud y Protección Social   \n",
       "1048571  1                                            Trabajo   \n",
       "1048572  1                                         Planeación   \n",
       "1048573  1                                            Cultura   \n",
       "1048574  1                                   Servicio Público   \n",
       "\n",
       "                       Departamento Fecha de Inicio del Contrato  \n",
       "0        Distrito Capital de Bogotá          2008-09-01 00:00:00  \n",
       "1        Distrito Capital de Bogotá          2008-10-01 00:00:00  \n",
       "2        Distrito Capital de Bogotá          2010-06-03 00:00:00  \n",
       "3        Distrito Capital de Bogotá          2010-12-03 00:00:00  \n",
       "4                         Antioquia          2015-05-11 00:00:00  \n",
       "...                             ...                          ...  \n",
       "1048570  Distrito Capital de Bogotá                          NaN  \n",
       "1048571  Distrito Capital de Bogotá                          NaN  \n",
       "1048572  Distrito Capital de Bogotá                          NaN  \n",
       "1048573  Distrito Capital de Bogotá                          NaN  \n",
       "1048574                   Risaralda                          NaN  \n",
       "\n",
       "[1048575 rows x 4 columns]"
      ]
     },
     "execution_count": 32,
     "metadata": {},
     "output_type": "execute_result"
    }
   ],
   "source": [
    "punto2a= Base_df.loc[:,['N','Sector','Departamento','Fecha de Inicio del Contrato']]\n",
    "punto2a"
   ]
  },
  {
   "cell_type": "markdown",
   "id": "ce2a0eb0",
   "metadata": {},
   "source": [
    "Presentamos la cantidad de contratos por Departamento de Colombia:"
   ]
  },
  {
   "cell_type": "code",
   "execution_count": 33,
   "id": "080d7867",
   "metadata": {},
   "outputs": [
    {
     "data": {
      "image/png": "[encoded data removed]",
      "text/plain": [
       "<Figure size 1800x720 with 1 Axes>"
      ]
     },
     "metadata": {
      "needs_background": "light"
     },
     "output_type": "display_data"
    }
   ],
   "source": [
    "len(Base_df['Departamento'])\n",
    "fig, ax= plt.subplots( figsize=(25,10))\n",
    "plt.xticks(rotation=90, color='black',horizontalalignment=\"center\")\n",
    "ax = sns.countplot(x=\"Departamento\", color = 'magenta', data=Base_df)\n",
    "sns.set(rc={'figure.figsize':(3,8)})\n",
    "for p in ax.patches:\n",
    "    height = p.get_height()\n",
    "    ax.text(p.get_x()+p.get_width()/2., height + 10,'{:0.0f}'.format((height)), ha=\"center\")     "
   ]
  },
  {
   "cell_type": "markdown",
   "id": "d9e3833e",
   "metadata": {},
   "source": [
    "A continuación vamos a calcular la cantidad de contratos por departamento segun sector, rango de fechas y facilitar la consulta por Departamento y año:"
   ]
  },
  {
   "cell_type": "markdown",
   "id": "5547e936",
   "metadata": {},
   "source": [
    "-- ajustar variable \"Fecha de inicio\", para filtrar por año"
   ]
  },
  {
   "cell_type": "code",
   "execution_count": 34,
   "id": "025b6ae9",
   "metadata": {},
   "outputs": [],
   "source": [
    "punto2a['Fecha de Inicio del Contrato']=pd.to_datetime(punto2a['Fecha de Inicio del Contrato'], errors='coerce')  #Cómo convertir la columna del DataFrame a Datetime\n",
    "punto2a['año']=punto2a['Fecha de Inicio del Contrato'].dt.to_period('y')\n",
    "punto2a['año']=[str(i) for i in punto2a['año']] #Vb año en string "
   ]
  },
  {
   "cell_type": "markdown",
   "id": "167b8a19",
   "metadata": {},
   "source": [
    "De lo anterior, pasamos al miniaplicativo, que permita realiza la consulta de la siguiente manera:"
   ]
  },
  {
   "cell_type": "markdown",
   "id": "d483da2e",
   "metadata": {},
   "source": [
    "https://stackoverflow.com/questions/65057860/how-to-return-a-pandas-dataframe-from-an-ipywidgets-output"
   ]
  },
  {
   "cell_type": "code",
   "execution_count": 35,
   "id": "d1770016",
   "metadata": {},
   "outputs": [
    {
     "name": "stdout",
     "output_type": "stream",
     "text": [
      "\u001b[1m\u001b[34mBienvenidos al aplicativo de consulta\n",
      "                   \n"
     ]
    },
    {
     "data": {
      "application/vnd.jupyter.widget-view+json": {
       "model_id": "823b6357466243dc8a40dc71449a0485",
       "version_major": 2,
       "version_minor": 0
      },
      "text/plain": [
       "interactive(children=(Dropdown(description='Periodo', options=('2008', '2010', '2015', '2016', '2017', '2018',…"
      ]
     },
     "metadata": {},
     "output_type": "display_data"
    },
    {
     "data": {
      "text/plain": [
       "<function __main__.Nro_contrato(Periodo, Region)>"
      ]
     },
     "execution_count": 35,
     "metadata": {},
     "output_type": "execute_result"
    }
   ],
   "source": [
    "# construcción filtro y consulta en el miniaplicativo\n",
    "print(Style.BRIGHT+Fore.BLUE+\"Bienvenidos al aplicativo de consulta\") \n",
    "time.sleep(1)  #tiempo de 2 segundos para ejecutar la siguiente linea\n",
    "print('                   ') #separa los parrafos\n",
    "Periodo = widgets.Dropdown(description='Periodo', value='2008',\n",
    "    options=punto2a['año'].unique().tolist())\n",
    "\n",
    "Region = widgets.Dropdown(description='Region', value='Distrito Capital de Bogotá',\n",
    "    options=punto2a['Departamento'].unique().tolist())\n",
    "\n",
    "def Nro_contrato(Periodo,Region):\n",
    "    x=punto2a[punto2a['año']== Periodo]\n",
    "    x=x[x['Departamento']== Region]\n",
    "    Nro= x['N'].sum()\n",
    "        \n",
    "    print('Para el año', Periodo, 'se registraron', Nro , 'contratos suscritos por la Región', Region)\n",
    "\n",
    "interact(Nro_contrato, Periodo=Periodo, Region=Region)"
   ]
  },
  {
   "cell_type": "markdown",
   "id": "840e2275",
   "metadata": {},
   "source": [
    "###### b) En el reporte anterior incluir la suma del Valor Total de contratos por sector y por region, tambien deben visualizarse los contratos que no posean fecha de inicio ¿Cuantos son?"
   ]
  },
  {
   "cell_type": "code",
   "execution_count": 36,
   "id": "3e9ec8a0",
   "metadata": {},
   "outputs": [
    {
     "data": {
      "text/html": [
       "<div>\n",
       "<style scoped>\n",
       "    .dataframe tbody tr th:only-of-type {\n",
       "        vertical-align: middle;\n",
       "    }\n",
       "\n",
       "    .dataframe tbody tr th {\n",
       "        vertical-align: top;\n",
       "    }\n",
       "\n",
       "    .dataframe thead th {\n",
       "        text-align: right;\n",
       "    }\n",
       "</style>\n",
       "<table border=\"1\" class=\"dataframe\">\n",
       "  <thead>\n",
       "    <tr style=\"text-align: right;\">\n",
       "      <th></th>\n",
       "      <th>N</th>\n",
       "      <th>Sector</th>\n",
       "      <th>Departamento</th>\n",
       "      <th>Valor del Contrato</th>\n",
       "      <th>Fecha de Inicio del Contrato</th>\n",
       "    </tr>\n",
       "  </thead>\n",
       "  <tbody>\n",
       "    <tr>\n",
       "      <th>0</th>\n",
       "      <td>1</td>\n",
       "      <td>Tecnologías de la Información y las Comunicaci...</td>\n",
       "      <td>Distrito Capital de Bogotá</td>\n",
       "      <td>2.719200e+07</td>\n",
       "      <td>2008-09-01 00:00:00</td>\n",
       "    </tr>\n",
       "    <tr>\n",
       "      <th>1</th>\n",
       "      <td>1</td>\n",
       "      <td>Salud y Protección Social</td>\n",
       "      <td>Distrito Capital de Bogotá</td>\n",
       "      <td>1.507479e+07</td>\n",
       "      <td>2008-10-01 00:00:00</td>\n",
       "    </tr>\n",
       "    <tr>\n",
       "      <th>2</th>\n",
       "      <td>1</td>\n",
       "      <td>Transporte</td>\n",
       "      <td>Distrito Capital de Bogotá</td>\n",
       "      <td>7.800000e+07</td>\n",
       "      <td>2010-06-03 00:00:00</td>\n",
       "    </tr>\n",
       "    <tr>\n",
       "      <th>3</th>\n",
       "      <td>1</td>\n",
       "      <td>agricultura</td>\n",
       "      <td>Distrito Capital de Bogotá</td>\n",
       "      <td>5.600000e+07</td>\n",
       "      <td>2010-12-03 00:00:00</td>\n",
       "    </tr>\n",
       "    <tr>\n",
       "      <th>4</th>\n",
       "      <td>1</td>\n",
       "      <td>Servicio Público</td>\n",
       "      <td>Antioquia</td>\n",
       "      <td>4.716755e+07</td>\n",
       "      <td>2015-05-11 00:00:00</td>\n",
       "    </tr>\n",
       "    <tr>\n",
       "      <th>...</th>\n",
       "      <td>...</td>\n",
       "      <td>...</td>\n",
       "      <td>...</td>\n",
       "      <td>...</td>\n",
       "      <td>...</td>\n",
       "    </tr>\n",
       "    <tr>\n",
       "      <th>1048570</th>\n",
       "      <td>1</td>\n",
       "      <td>Salud y Protección Social</td>\n",
       "      <td>Distrito Capital de Bogotá</td>\n",
       "      <td>0.000000e+00</td>\n",
       "      <td>NaN</td>\n",
       "    </tr>\n",
       "    <tr>\n",
       "      <th>1048571</th>\n",
       "      <td>1</td>\n",
       "      <td>Trabajo</td>\n",
       "      <td>Distrito Capital de Bogotá</td>\n",
       "      <td>1.560000e+07</td>\n",
       "      <td>NaN</td>\n",
       "    </tr>\n",
       "    <tr>\n",
       "      <th>1048572</th>\n",
       "      <td>1</td>\n",
       "      <td>Planeación</td>\n",
       "      <td>Distrito Capital de Bogotá</td>\n",
       "      <td>3.028112e+10</td>\n",
       "      <td>NaN</td>\n",
       "    </tr>\n",
       "    <tr>\n",
       "      <th>1048573</th>\n",
       "      <td>1</td>\n",
       "      <td>Cultura</td>\n",
       "      <td>Distrito Capital de Bogotá</td>\n",
       "      <td>0.000000e+00</td>\n",
       "      <td>NaN</td>\n",
       "    </tr>\n",
       "    <tr>\n",
       "      <th>1048574</th>\n",
       "      <td>1</td>\n",
       "      <td>Servicio Público</td>\n",
       "      <td>Risaralda</td>\n",
       "      <td>3.308000e+06</td>\n",
       "      <td>NaN</td>\n",
       "    </tr>\n",
       "  </tbody>\n",
       "</table>\n",
       "<p>1048575 rows × 5 columns</p>\n",
       "</div>"
      ],
      "text/plain": [
       "         N                                             Sector  \\\n",
       "0        1  Tecnologías de la Información y las Comunicaci...   \n",
       "1        1                          Salud y Protección Social   \n",
       "2        1                                         Transporte   \n",
       "3        1                                        agricultura   \n",
       "4        1                                   Servicio Público   \n",
       "...     ..                                                ...   \n",
       "1048570  1                          Salud y Protección Social   \n",
       "1048571  1                                            Trabajo   \n",
       "1048572  1                                         Planeación   \n",
       "1048573  1                                            Cultura   \n",
       "1048574  1                                   Servicio Público   \n",
       "\n",
       "                       Departamento  Valor del Contrato  \\\n",
       "0        Distrito Capital de Bogotá        2.719200e+07   \n",
       "1        Distrito Capital de Bogotá        1.507479e+07   \n",
       "2        Distrito Capital de Bogotá        7.800000e+07   \n",
       "3        Distrito Capital de Bogotá        5.600000e+07   \n",
       "4                         Antioquia        4.716755e+07   \n",
       "...                             ...                 ...   \n",
       "1048570  Distrito Capital de Bogotá        0.000000e+00   \n",
       "1048571  Distrito Capital de Bogotá        1.560000e+07   \n",
       "1048572  Distrito Capital de Bogotá        3.028112e+10   \n",
       "1048573  Distrito Capital de Bogotá        0.000000e+00   \n",
       "1048574                   Risaralda        3.308000e+06   \n",
       "\n",
       "        Fecha de Inicio del Contrato  \n",
       "0                2008-09-01 00:00:00  \n",
       "1                2008-10-01 00:00:00  \n",
       "2                2010-06-03 00:00:00  \n",
       "3                2010-12-03 00:00:00  \n",
       "4                2015-05-11 00:00:00  \n",
       "...                              ...  \n",
       "1048570                          NaN  \n",
       "1048571                          NaN  \n",
       "1048572                          NaN  \n",
       "1048573                          NaN  \n",
       "1048574                          NaN  \n",
       "\n",
       "[1048575 rows x 5 columns]"
      ]
     },
     "execution_count": 36,
     "metadata": {},
     "output_type": "execute_result"
    }
   ],
   "source": [
    "punto2b= Base_df.loc[:,['N','Sector','Departamento','Valor del Contrato','Fecha de Inicio del Contrato']]\n",
    "punto2b"
   ]
  },
  {
   "cell_type": "code",
   "execution_count": 37,
   "id": "dc474668",
   "metadata": {},
   "outputs": [],
   "source": [
    "punto2b['Fecha de Inicio del Contrato']=pd.to_datetime(punto2a['Fecha de Inicio del Contrato'], errors='coerce')  #Cómo convertir la columna del DataFrame a Datetime\n",
    "punto2b['año']=punto2a['Fecha de Inicio del Contrato'].dt.to_period('y')\n",
    "punto2b['año']=[str(i) for i in punto2a['año']] #Vb año en string "
   ]
  },
  {
   "cell_type": "markdown",
   "id": "48e02121",
   "metadata": {},
   "source": [
    "De lo anterior, pasamos al miniaplicativo, que permita realiza la consulta de la siguiente manera:"
   ]
  },
  {
   "cell_type": "code",
   "execution_count": 38,
   "id": "18c8c04a",
   "metadata": {},
   "outputs": [
    {
     "name": "stdout",
     "output_type": "stream",
     "text": [
      "\u001b[1m\u001b[34mBienvenidos al aplicativo de consulta\n",
      "                   \n"
     ]
    },
    {
     "data": {
      "application/vnd.jupyter.widget-view+json": {
       "model_id": "44b121ccb95842b6b7fa88830c74c54e",
       "version_major": 2,
       "version_minor": 0
      },
      "text/plain": [
       "interactive(children=(Dropdown(description='Periodo', options=('2008', '2010', '2015', '2016', '2017', '2018',…"
      ]
     },
     "metadata": {},
     "output_type": "display_data"
    },
    {
     "data": {
      "text/plain": [
       "<function __main__.Nro_contrato(Periodo, Sector, Region)>"
      ]
     },
     "execution_count": 38,
     "metadata": {},
     "output_type": "execute_result"
    }
   ],
   "source": [
    "# construcción filtro y consulta en el miniaplicativo\n",
    "print(Style.BRIGHT+Fore.BLUE+\"Bienvenidos al aplicativo de consulta\") \n",
    "time.sleep(1)  #tiempo de 2 segundos para ejecutar la siguiente linea\n",
    "print('                   ') #separa los parrafos\n",
    "\n",
    "Periodo = widgets.Dropdown(description='Periodo', value='2008',\n",
    "    options=punto2b['año'].unique().tolist())\n",
    "\n",
    "Sector = widgets.Dropdown(description='Sector', value='Servicio Público',\n",
    "    options=punto2b['Sector'].unique().tolist())\n",
    "\n",
    "Region = widgets.Dropdown(description='Region', value='Distrito Capital de Bogotá',\n",
    "    options=punto2b['Departamento'].unique().tolist())\n",
    "\n",
    "def Nro_contrato(Periodo,Sector,Region):\n",
    "    x=punto2b[punto2b['año']== Periodo]\n",
    "    x=x[x['Departamento']== Region]\n",
    "    x=x[x['Sector']== Sector]\n",
    "    Nro= x['N'].sum()\n",
    "    v= x['Valor del Contrato'].sum()\n",
    "        \n",
    "    print('Para el año', Periodo, 'se registraron', Nro , 'contratos suscritos  por la Región', Region, 'por un valor total de', v, 'para el sector', Sector)\n",
    "\n",
    "interact(Nro_contrato, Periodo=Periodo, Sector=Sector, Region=Region)\n",
    "\n"
   ]
  },
  {
   "cell_type": "markdown",
   "id": "bf0dd31c",
   "metadata": {},
   "source": [
    "###### c) Permita excluir datos atıpicos, utilice un criterio debidamente justificado para excluir los contratos de alto valor\n",
    "    "
   ]
  },
  {
   "cell_type": "markdown",
   "id": "d364d197",
   "metadata": {},
   "source": [
    "A continuación, se excluiran los datos atipicos teniendo en cuenta la variable valor del contrato:"
   ]
  },
  {
   "cell_type": "code",
   "execution_count": 45,
   "id": "2f3f5944",
   "metadata": {},
   "outputs": [],
   "source": [
    "punto2c= Base_df.loc[:,['N','Sector','Departamento','Valor del Contrato','Fecha de Inicio del Contrato']]\n"
   ]
  },
  {
   "cell_type": "code",
   "execution_count": 46,
   "id": "980cf218",
   "metadata": {},
   "outputs": [],
   "source": [
    "# encontrar Q1, Q3 y rango intercuartílico para cada columna\n",
    "Q1 = punto2c[\"Valor del Contrato\"].quantile (q = .25)\n",
    "Q3 = punto2c[\"Valor del Contrato\"].quantile (q = .75)\n",
    "#IQR = dataVlrContrato.apply (stats.iqr)\n",
    "IQR=Q3-Q1"
   ]
  },
  {
   "cell_type": "code",
   "execution_count": 47,
   "id": "874dd784",
   "metadata": {},
   "outputs": [
    {
     "data": {
      "text/html": [
       "<div>\n",
       "<style scoped>\n",
       "    .dataframe tbody tr th:only-of-type {\n",
       "        vertical-align: middle;\n",
       "    }\n",
       "\n",
       "    .dataframe tbody tr th {\n",
       "        vertical-align: top;\n",
       "    }\n",
       "\n",
       "    .dataframe thead th {\n",
       "        text-align: right;\n",
       "    }\n",
       "</style>\n",
       "<table border=\"1\" class=\"dataframe\">\n",
       "  <thead>\n",
       "    <tr style=\"text-align: right;\">\n",
       "      <th></th>\n",
       "      <th>N</th>\n",
       "      <th>Sector</th>\n",
       "      <th>Departamento</th>\n",
       "      <th>Valor del Contrato</th>\n",
       "      <th>Fecha de Inicio del Contrato</th>\n",
       "      <th>VlrCont</th>\n",
       "    </tr>\n",
       "  </thead>\n",
       "  <tbody>\n",
       "    <tr>\n",
       "      <th>0</th>\n",
       "      <td>1</td>\n",
       "      <td>Tecnologías de la Información y las Comunicaci...</td>\n",
       "      <td>Distrito Capital de Bogotá</td>\n",
       "      <td>2.719200e+07</td>\n",
       "      <td>2008-09-01 00:00:00</td>\n",
       "      <td>Dato dentro de Rango</td>\n",
       "    </tr>\n",
       "    <tr>\n",
       "      <th>1</th>\n",
       "      <td>1</td>\n",
       "      <td>Salud y Protección Social</td>\n",
       "      <td>Distrito Capital de Bogotá</td>\n",
       "      <td>1.507479e+07</td>\n",
       "      <td>2008-10-01 00:00:00</td>\n",
       "      <td>Dato dentro de Rango</td>\n",
       "    </tr>\n",
       "    <tr>\n",
       "      <th>2</th>\n",
       "      <td>1</td>\n",
       "      <td>Transporte</td>\n",
       "      <td>Distrito Capital de Bogotá</td>\n",
       "      <td>7.800000e+07</td>\n",
       "      <td>2010-06-03 00:00:00</td>\n",
       "      <td>Dato dentro de Rango</td>\n",
       "    </tr>\n",
       "    <tr>\n",
       "      <th>3</th>\n",
       "      <td>1</td>\n",
       "      <td>agricultura</td>\n",
       "      <td>Distrito Capital de Bogotá</td>\n",
       "      <td>5.600000e+07</td>\n",
       "      <td>2010-12-03 00:00:00</td>\n",
       "      <td>Dato dentro de Rango</td>\n",
       "    </tr>\n",
       "    <tr>\n",
       "      <th>4</th>\n",
       "      <td>1</td>\n",
       "      <td>Servicio Público</td>\n",
       "      <td>Antioquia</td>\n",
       "      <td>4.716755e+07</td>\n",
       "      <td>2015-05-11 00:00:00</td>\n",
       "      <td>Dato dentro de Rango</td>\n",
       "    </tr>\n",
       "    <tr>\n",
       "      <th>...</th>\n",
       "      <td>...</td>\n",
       "      <td>...</td>\n",
       "      <td>...</td>\n",
       "      <td>...</td>\n",
       "      <td>...</td>\n",
       "      <td>...</td>\n",
       "    </tr>\n",
       "    <tr>\n",
       "      <th>1048570</th>\n",
       "      <td>1</td>\n",
       "      <td>Salud y Protección Social</td>\n",
       "      <td>Distrito Capital de Bogotá</td>\n",
       "      <td>0.000000e+00</td>\n",
       "      <td>NaN</td>\n",
       "      <td>Dato dentro de Rango</td>\n",
       "    </tr>\n",
       "    <tr>\n",
       "      <th>1048571</th>\n",
       "      <td>1</td>\n",
       "      <td>Trabajo</td>\n",
       "      <td>Distrito Capital de Bogotá</td>\n",
       "      <td>1.560000e+07</td>\n",
       "      <td>NaN</td>\n",
       "      <td>Dato dentro de Rango</td>\n",
       "    </tr>\n",
       "    <tr>\n",
       "      <th>1048572</th>\n",
       "      <td>1</td>\n",
       "      <td>Planeación</td>\n",
       "      <td>Distrito Capital de Bogotá</td>\n",
       "      <td>3.028112e+10</td>\n",
       "      <td>NaN</td>\n",
       "      <td>Outlier Superior</td>\n",
       "    </tr>\n",
       "    <tr>\n",
       "      <th>1048573</th>\n",
       "      <td>1</td>\n",
       "      <td>Cultura</td>\n",
       "      <td>Distrito Capital de Bogotá</td>\n",
       "      <td>0.000000e+00</td>\n",
       "      <td>NaN</td>\n",
       "      <td>Dato dentro de Rango</td>\n",
       "    </tr>\n",
       "    <tr>\n",
       "      <th>1048574</th>\n",
       "      <td>1</td>\n",
       "      <td>Servicio Público</td>\n",
       "      <td>Risaralda</td>\n",
       "      <td>3.308000e+06</td>\n",
       "      <td>NaN</td>\n",
       "      <td>Dato dentro de Rango</td>\n",
       "    </tr>\n",
       "  </tbody>\n",
       "</table>\n",
       "<p>1048575 rows × 6 columns</p>\n",
       "</div>"
      ],
      "text/plain": [
       "         N                                             Sector  \\\n",
       "0        1  Tecnologías de la Información y las Comunicaci...   \n",
       "1        1                          Salud y Protección Social   \n",
       "2        1                                         Transporte   \n",
       "3        1                                        agricultura   \n",
       "4        1                                   Servicio Público   \n",
       "...     ..                                                ...   \n",
       "1048570  1                          Salud y Protección Social   \n",
       "1048571  1                                            Trabajo   \n",
       "1048572  1                                         Planeación   \n",
       "1048573  1                                            Cultura   \n",
       "1048574  1                                   Servicio Público   \n",
       "\n",
       "                       Departamento  Valor del Contrato  \\\n",
       "0        Distrito Capital de Bogotá        2.719200e+07   \n",
       "1        Distrito Capital de Bogotá        1.507479e+07   \n",
       "2        Distrito Capital de Bogotá        7.800000e+07   \n",
       "3        Distrito Capital de Bogotá        5.600000e+07   \n",
       "4                         Antioquia        4.716755e+07   \n",
       "...                             ...                 ...   \n",
       "1048570  Distrito Capital de Bogotá        0.000000e+00   \n",
       "1048571  Distrito Capital de Bogotá        1.560000e+07   \n",
       "1048572  Distrito Capital de Bogotá        3.028112e+10   \n",
       "1048573  Distrito Capital de Bogotá        0.000000e+00   \n",
       "1048574                   Risaralda        3.308000e+06   \n",
       "\n",
       "        Fecha de Inicio del Contrato               VlrCont  \n",
       "0                2008-09-01 00:00:00  Dato dentro de Rango  \n",
       "1                2008-10-01 00:00:00  Dato dentro de Rango  \n",
       "2                2010-06-03 00:00:00  Dato dentro de Rango  \n",
       "3                2010-12-03 00:00:00  Dato dentro de Rango  \n",
       "4                2015-05-11 00:00:00  Dato dentro de Rango  \n",
       "...                              ...                   ...  \n",
       "1048570                          NaN  Dato dentro de Rango  \n",
       "1048571                          NaN  Dato dentro de Rango  \n",
       "1048572                          NaN      Outlier Superior  \n",
       "1048573                          NaN  Dato dentro de Rango  \n",
       "1048574                          NaN  Dato dentro de Rango  \n",
       "\n",
       "[1048575 rows x 6 columns]"
      ]
     },
     "execution_count": 47,
     "metadata": {},
     "output_type": "execute_result"
    }
   ],
   "source": [
    "punto2c= Base_df.loc[:,['N','Sector','Departamento','Valor del Contrato','Fecha de Inicio del Contrato']]\n",
    "\n",
    "conditionlist = [\n",
    "    (punto2c['Valor del Contrato'].isnull()) ,\n",
    "    (punto2c['Valor del Contrato'] <(Q1-1.5 * IQR)),\n",
    "    (punto2c['Valor del Contrato'] >(Q3+1.5 * IQR))]\n",
    "choicelist = ['Contrato sin Valor', 'Outlier Inferior', 'Outlier Superior']\n",
    "punto2c['VlrCont'] = np.select(conditionlist, choicelist, default='Dato dentro de Rango')\n",
    "punto2c"
   ]
  },
  {
   "cell_type": "code",
   "execution_count": 48,
   "id": "70c80ca8",
   "metadata": {},
   "outputs": [],
   "source": [
    "punto2c['Fecha de Inicio del Contrato']=pd.to_datetime(punto2c['Fecha de Inicio del Contrato'], errors='coerce')  #Cómo convertir la columna del DataFrame a Datetime\n",
    "punto2c['año']=punto2c['Fecha de Inicio del Contrato'].dt.to_period('y')\n",
    "punto2c['año']=[str(i) for i in punto2c['año']] #Vb año en string "
   ]
  },
  {
   "cell_type": "code",
   "execution_count": 49,
   "id": "e54d6d2d",
   "metadata": {},
   "outputs": [
    {
     "data": {
      "text/html": [
       "<div>\n",
       "<style scoped>\n",
       "    .dataframe tbody tr th:only-of-type {\n",
       "        vertical-align: middle;\n",
       "    }\n",
       "\n",
       "    .dataframe tbody tr th {\n",
       "        vertical-align: top;\n",
       "    }\n",
       "\n",
       "    .dataframe thead th {\n",
       "        text-align: right;\n",
       "    }\n",
       "</style>\n",
       "<table border=\"1\" class=\"dataframe\">\n",
       "  <thead>\n",
       "    <tr style=\"text-align: right;\">\n",
       "      <th></th>\n",
       "      <th>N</th>\n",
       "      <th>Sector</th>\n",
       "      <th>Departamento</th>\n",
       "      <th>Valor del Contrato</th>\n",
       "      <th>Fecha de Inicio del Contrato</th>\n",
       "      <th>VlrCont</th>\n",
       "      <th>año</th>\n",
       "    </tr>\n",
       "  </thead>\n",
       "  <tbody>\n",
       "    <tr>\n",
       "      <th>0</th>\n",
       "      <td>1</td>\n",
       "      <td>Tecnologías de la Información y las Comunicaci...</td>\n",
       "      <td>Distrito Capital de Bogotá</td>\n",
       "      <td>2.719200e+07</td>\n",
       "      <td>2008-09-01</td>\n",
       "      <td>Dato dentro de Rango</td>\n",
       "      <td>2008</td>\n",
       "    </tr>\n",
       "    <tr>\n",
       "      <th>1</th>\n",
       "      <td>1</td>\n",
       "      <td>Salud y Protección Social</td>\n",
       "      <td>Distrito Capital de Bogotá</td>\n",
       "      <td>1.507479e+07</td>\n",
       "      <td>2008-10-01</td>\n",
       "      <td>Dato dentro de Rango</td>\n",
       "      <td>2008</td>\n",
       "    </tr>\n",
       "    <tr>\n",
       "      <th>2</th>\n",
       "      <td>1</td>\n",
       "      <td>Transporte</td>\n",
       "      <td>Distrito Capital de Bogotá</td>\n",
       "      <td>7.800000e+07</td>\n",
       "      <td>2010-06-03</td>\n",
       "      <td>Dato dentro de Rango</td>\n",
       "      <td>2010</td>\n",
       "    </tr>\n",
       "    <tr>\n",
       "      <th>3</th>\n",
       "      <td>1</td>\n",
       "      <td>agricultura</td>\n",
       "      <td>Distrito Capital de Bogotá</td>\n",
       "      <td>5.600000e+07</td>\n",
       "      <td>2010-12-03</td>\n",
       "      <td>Dato dentro de Rango</td>\n",
       "      <td>2010</td>\n",
       "    </tr>\n",
       "    <tr>\n",
       "      <th>4</th>\n",
       "      <td>1</td>\n",
       "      <td>Servicio Público</td>\n",
       "      <td>Antioquia</td>\n",
       "      <td>4.716755e+07</td>\n",
       "      <td>2015-05-11</td>\n",
       "      <td>Dato dentro de Rango</td>\n",
       "      <td>2015</td>\n",
       "    </tr>\n",
       "    <tr>\n",
       "      <th>...</th>\n",
       "      <td>...</td>\n",
       "      <td>...</td>\n",
       "      <td>...</td>\n",
       "      <td>...</td>\n",
       "      <td>...</td>\n",
       "      <td>...</td>\n",
       "      <td>...</td>\n",
       "    </tr>\n",
       "    <tr>\n",
       "      <th>1048570</th>\n",
       "      <td>1</td>\n",
       "      <td>Salud y Protección Social</td>\n",
       "      <td>Distrito Capital de Bogotá</td>\n",
       "      <td>0.000000e+00</td>\n",
       "      <td>NaT</td>\n",
       "      <td>Dato dentro de Rango</td>\n",
       "      <td>NaT</td>\n",
       "    </tr>\n",
       "    <tr>\n",
       "      <th>1048571</th>\n",
       "      <td>1</td>\n",
       "      <td>Trabajo</td>\n",
       "      <td>Distrito Capital de Bogotá</td>\n",
       "      <td>1.560000e+07</td>\n",
       "      <td>NaT</td>\n",
       "      <td>Dato dentro de Rango</td>\n",
       "      <td>NaT</td>\n",
       "    </tr>\n",
       "    <tr>\n",
       "      <th>1048572</th>\n",
       "      <td>1</td>\n",
       "      <td>Planeación</td>\n",
       "      <td>Distrito Capital de Bogotá</td>\n",
       "      <td>3.028112e+10</td>\n",
       "      <td>NaT</td>\n",
       "      <td>Outlier Superior</td>\n",
       "      <td>NaT</td>\n",
       "    </tr>\n",
       "    <tr>\n",
       "      <th>1048573</th>\n",
       "      <td>1</td>\n",
       "      <td>Cultura</td>\n",
       "      <td>Distrito Capital de Bogotá</td>\n",
       "      <td>0.000000e+00</td>\n",
       "      <td>NaT</td>\n",
       "      <td>Dato dentro de Rango</td>\n",
       "      <td>NaT</td>\n",
       "    </tr>\n",
       "    <tr>\n",
       "      <th>1048574</th>\n",
       "      <td>1</td>\n",
       "      <td>Servicio Público</td>\n",
       "      <td>Risaralda</td>\n",
       "      <td>3.308000e+06</td>\n",
       "      <td>NaT</td>\n",
       "      <td>Dato dentro de Rango</td>\n",
       "      <td>NaT</td>\n",
       "    </tr>\n",
       "  </tbody>\n",
       "</table>\n",
       "<p>1048575 rows × 7 columns</p>\n",
       "</div>"
      ],
      "text/plain": [
       "         N                                             Sector  \\\n",
       "0        1  Tecnologías de la Información y las Comunicaci...   \n",
       "1        1                          Salud y Protección Social   \n",
       "2        1                                         Transporte   \n",
       "3        1                                        agricultura   \n",
       "4        1                                   Servicio Público   \n",
       "...     ..                                                ...   \n",
       "1048570  1                          Salud y Protección Social   \n",
       "1048571  1                                            Trabajo   \n",
       "1048572  1                                         Planeación   \n",
       "1048573  1                                            Cultura   \n",
       "1048574  1                                   Servicio Público   \n",
       "\n",
       "                       Departamento  Valor del Contrato  \\\n",
       "0        Distrito Capital de Bogotá        2.719200e+07   \n",
       "1        Distrito Capital de Bogotá        1.507479e+07   \n",
       "2        Distrito Capital de Bogotá        7.800000e+07   \n",
       "3        Distrito Capital de Bogotá        5.600000e+07   \n",
       "4                         Antioquia        4.716755e+07   \n",
       "...                             ...                 ...   \n",
       "1048570  Distrito Capital de Bogotá        0.000000e+00   \n",
       "1048571  Distrito Capital de Bogotá        1.560000e+07   \n",
       "1048572  Distrito Capital de Bogotá        3.028112e+10   \n",
       "1048573  Distrito Capital de Bogotá        0.000000e+00   \n",
       "1048574                   Risaralda        3.308000e+06   \n",
       "\n",
       "        Fecha de Inicio del Contrato               VlrCont   año  \n",
       "0                         2008-09-01  Dato dentro de Rango  2008  \n",
       "1                         2008-10-01  Dato dentro de Rango  2008  \n",
       "2                         2010-06-03  Dato dentro de Rango  2010  \n",
       "3                         2010-12-03  Dato dentro de Rango  2010  \n",
       "4                         2015-05-11  Dato dentro de Rango  2015  \n",
       "...                              ...                   ...   ...  \n",
       "1048570                          NaT  Dato dentro de Rango   NaT  \n",
       "1048571                          NaT  Dato dentro de Rango   NaT  \n",
       "1048572                          NaT      Outlier Superior   NaT  \n",
       "1048573                          NaT  Dato dentro de Rango   NaT  \n",
       "1048574                          NaT  Dato dentro de Rango   NaT  \n",
       "\n",
       "[1048575 rows x 7 columns]"
      ]
     },
     "execution_count": 49,
     "metadata": {},
     "output_type": "execute_result"
    }
   ],
   "source": [
    "punto2c"
   ]
  },
  {
   "cell_type": "code",
   "execution_count": 50,
   "id": "9f65c2f8",
   "metadata": {},
   "outputs": [
    {
     "name": "stdout",
     "output_type": "stream",
     "text": [
      "\u001b[1m\u001b[34mBienvenidos al aplicativo de consulta\n",
      "                   \n"
     ]
    },
    {
     "data": {
      "application/vnd.jupyter.widget-view+json": {
       "model_id": "01c90892e05444079b241bfd03e598cb",
       "version_major": 2,
       "version_minor": 0
      },
      "text/plain": [
       "interactive(children=(Dropdown(description='Periodo', options=('2008', '2010', '2015', '2016', '2017', '2018',…"
      ]
     },
     "metadata": {},
     "output_type": "display_data"
    },
    {
     "data": {
      "text/plain": [
       "<function __main__.Nro_contrato(Periodo, Sector, Region, VlrCont)>"
      ]
     },
     "execution_count": 50,
     "metadata": {},
     "output_type": "execute_result"
    }
   ],
   "source": [
    "# construcción filtro y consulta en el miniaplicativo\n",
    "print(Style.BRIGHT+Fore.BLUE+\"Bienvenidos al aplicativo de consulta\") \n",
    "time.sleep(1)  #tiempo de 2 segundos para ejecutar la siguiente linea\n",
    "print('                   ') #separa los parrafos\n",
    "\n",
    "Periodo = widgets.Dropdown(description='Periodo', value='2008',\n",
    "    options=punto2c['año'].unique().tolist())\n",
    "\n",
    "Sector = widgets.Dropdown(description='Sector', value='Servicio Público',\n",
    "    options=punto2c['Sector'].unique().tolist())\n",
    "\n",
    "Region = widgets.Dropdown(description='Region', value='Distrito Capital de Bogotá',\n",
    "    options=punto2c['Departamento'].unique().tolist())\n",
    "\n",
    "VlrCont = widgets.Dropdown(description='VlrCont', value='Dato dentro de Rango',\n",
    "    options=punto2c['VlrCont'].unique().tolist())\n",
    "\n",
    "def Nro_contrato(Periodo,Sector,Region,VlrCont):\n",
    "    x=punto2c[punto2c['año']== Periodo]\n",
    "    x=x[x['Departamento']== Region]\n",
    "    x=x[x['Sector']== Sector]\n",
    "    x=x[x['VlrCont']== VlrCont]\n",
    "    Nro= x['N'].sum()\n",
    "    v= x['Valor del Contrato'].sum()\n",
    "        \n",
    "    print('Para el año', Periodo, 'se registraron', Nro , 'contratos suscritos  por la Región', Region, 'por un valor total de', v, 'para el sector', Sector)\n",
    "\n",
    "interact(Nro_contrato, Periodo=Periodo, Sector=Sector, Region=Region, VlrCont=VlrCont)\n"
   ]
  },
  {
   "cell_type": "markdown",
   "id": "70d617dc",
   "metadata": {},
   "source": [
    "## Ejercicio 3"
   ]
  },
  {
   "cell_type": "markdown",
   "id": "29315e32",
   "metadata": {},
   "source": [
    "Resuma la información obtenida en el anterior reporte con gráficos y tablas que considere pertinentes.\n",
    "Justifique sus escogencias."
   ]
  },
  {
   "cell_type": "code",
   "execution_count": 51,
   "id": "8b490f4e",
   "metadata": {},
   "outputs": [
    {
     "data": {
      "text/html": [
       "<div>\n",
       "<style scoped>\n",
       "    .dataframe tbody tr th:only-of-type {\n",
       "        vertical-align: middle;\n",
       "    }\n",
       "\n",
       "    .dataframe tbody tr th {\n",
       "        vertical-align: top;\n",
       "    }\n",
       "\n",
       "    .dataframe thead th {\n",
       "        text-align: right;\n",
       "    }\n",
       "</style>\n",
       "<table border=\"1\" class=\"dataframe\">\n",
       "  <thead>\n",
       "    <tr style=\"text-align: right;\">\n",
       "      <th></th>\n",
       "      <th>N</th>\n",
       "      <th>Departamento</th>\n",
       "      <th>Tipo de Contrato</th>\n",
       "      <th>Tipo de Contrato</th>\n",
       "      <th>Valor del Contrato</th>\n",
       "    </tr>\n",
       "  </thead>\n",
       "  <tbody>\n",
       "    <tr>\n",
       "      <th>0</th>\n",
       "      <td>1</td>\n",
       "      <td>Distrito Capital de Bogotá</td>\n",
       "      <td>Prestación de servicios</td>\n",
       "      <td>Prestación de servicios</td>\n",
       "      <td>2.719200e+07</td>\n",
       "    </tr>\n",
       "    <tr>\n",
       "      <th>1</th>\n",
       "      <td>1</td>\n",
       "      <td>Distrito Capital de Bogotá</td>\n",
       "      <td>Prestación de servicios</td>\n",
       "      <td>Prestación de servicios</td>\n",
       "      <td>1.507479e+07</td>\n",
       "    </tr>\n",
       "    <tr>\n",
       "      <th>2</th>\n",
       "      <td>1</td>\n",
       "      <td>Distrito Capital de Bogotá</td>\n",
       "      <td>Prestación de servicios</td>\n",
       "      <td>Prestación de servicios</td>\n",
       "      <td>7.800000e+07</td>\n",
       "    </tr>\n",
       "    <tr>\n",
       "      <th>3</th>\n",
       "      <td>1</td>\n",
       "      <td>Distrito Capital de Bogotá</td>\n",
       "      <td>Prestación de servicios</td>\n",
       "      <td>Prestación de servicios</td>\n",
       "      <td>5.600000e+07</td>\n",
       "    </tr>\n",
       "    <tr>\n",
       "      <th>4</th>\n",
       "      <td>1</td>\n",
       "      <td>Antioquia</td>\n",
       "      <td>Obra</td>\n",
       "      <td>Obra</td>\n",
       "      <td>4.716755e+07</td>\n",
       "    </tr>\n",
       "    <tr>\n",
       "      <th>...</th>\n",
       "      <td>...</td>\n",
       "      <td>...</td>\n",
       "      <td>...</td>\n",
       "      <td>...</td>\n",
       "      <td>...</td>\n",
       "    </tr>\n",
       "    <tr>\n",
       "      <th>1048570</th>\n",
       "      <td>1</td>\n",
       "      <td>Distrito Capital de Bogotá</td>\n",
       "      <td>Prestación de servicios</td>\n",
       "      <td>Prestación de servicios</td>\n",
       "      <td>0.000000e+00</td>\n",
       "    </tr>\n",
       "    <tr>\n",
       "      <th>1048571</th>\n",
       "      <td>1</td>\n",
       "      <td>Distrito Capital de Bogotá</td>\n",
       "      <td>Prestación de servicios</td>\n",
       "      <td>Prestación de servicios</td>\n",
       "      <td>1.560000e+07</td>\n",
       "    </tr>\n",
       "    <tr>\n",
       "      <th>1048572</th>\n",
       "      <td>1</td>\n",
       "      <td>Distrito Capital de Bogotá</td>\n",
       "      <td>Otro</td>\n",
       "      <td>Otro</td>\n",
       "      <td>3.028112e+10</td>\n",
       "    </tr>\n",
       "    <tr>\n",
       "      <th>1048573</th>\n",
       "      <td>1</td>\n",
       "      <td>Distrito Capital de Bogotá</td>\n",
       "      <td>Prestación de servicios</td>\n",
       "      <td>Prestación de servicios</td>\n",
       "      <td>0.000000e+00</td>\n",
       "    </tr>\n",
       "    <tr>\n",
       "      <th>1048574</th>\n",
       "      <td>1</td>\n",
       "      <td>Risaralda</td>\n",
       "      <td>Prestación de servicios</td>\n",
       "      <td>Prestación de servicios</td>\n",
       "      <td>3.308000e+06</td>\n",
       "    </tr>\n",
       "  </tbody>\n",
       "</table>\n",
       "<p>1048575 rows × 5 columns</p>\n",
       "</div>"
      ],
      "text/plain": [
       "         N                Departamento         Tipo de Contrato  \\\n",
       "0        1  Distrito Capital de Bogotá  Prestación de servicios   \n",
       "1        1  Distrito Capital de Bogotá  Prestación de servicios   \n",
       "2        1  Distrito Capital de Bogotá  Prestación de servicios   \n",
       "3        1  Distrito Capital de Bogotá  Prestación de servicios   \n",
       "4        1                   Antioquia                     Obra   \n",
       "...     ..                         ...                      ...   \n",
       "1048570  1  Distrito Capital de Bogotá  Prestación de servicios   \n",
       "1048571  1  Distrito Capital de Bogotá  Prestación de servicios   \n",
       "1048572  1  Distrito Capital de Bogotá                     Otro   \n",
       "1048573  1  Distrito Capital de Bogotá  Prestación de servicios   \n",
       "1048574  1                   Risaralda  Prestación de servicios   \n",
       "\n",
       "                Tipo de Contrato  Valor del Contrato  \n",
       "0        Prestación de servicios        2.719200e+07  \n",
       "1        Prestación de servicios        1.507479e+07  \n",
       "2        Prestación de servicios        7.800000e+07  \n",
       "3        Prestación de servicios        5.600000e+07  \n",
       "4                           Obra        4.716755e+07  \n",
       "...                          ...                 ...  \n",
       "1048570  Prestación de servicios        0.000000e+00  \n",
       "1048571  Prestación de servicios        1.560000e+07  \n",
       "1048572                     Otro        3.028112e+10  \n",
       "1048573  Prestación de servicios        0.000000e+00  \n",
       "1048574  Prestación de servicios        3.308000e+06  \n",
       "\n",
       "[1048575 rows x 5 columns]"
      ]
     },
     "execution_count": 51,
     "metadata": {},
     "output_type": "execute_result"
    }
   ],
   "source": [
    "punto3= Base_df.loc[:,['N','Departamento','Tipo de Contrato','Tipo de Contrato','Valor del Contrato']]\n",
    "punto3"
   ]
  },
  {
   "cell_type": "markdown",
   "id": "61886c1a",
   "metadata": {},
   "source": [
    "De la información analizada, se realizará un análisis de los Departamentos Valle del Cauca y Norte de Santander, debido a que el Departamento de Norte de Santander presenta 14.685 contratos suscritos alcanzando los  7.188.541.909.707.070 de  pesos, es decir, es el departamento seguido de Bogotá que mayor recursos estimo para la contratación, caso contrario con el Departamento del Valle del cauda que registró 94.533 siendo el segundo con la mayor cantidad de contratos suscritos con un total de   4.266.152.098.074.6190"
   ]
  },
  {
   "cell_type": "markdown",
   "id": "760dc8c5",
   "metadata": {},
   "source": [
    "Como nos arroja las siguientes consultas:"
   ]
  },
  {
   "cell_type": "code",
   "execution_count": 52,
   "id": "707ebac3",
   "metadata": {},
   "outputs": [
    {
     "name": "stdout",
     "output_type": "stream",
     "text": [
      "\u001b[1m\u001b[34mBienvenidos al aplicativo de consulta\n",
      "                   \n"
     ]
    },
    {
     "data": {
      "application/vnd.jupyter.widget-view+json": {
       "model_id": "f0067930633547628e0fc3c4d692a393",
       "version_major": 2,
       "version_minor": 0
      },
      "text/plain": [
       "interactive(children=(Dropdown(description='Region', index=20, options=('Distrito Capital de Bogotá', 'Antioqu…"
      ]
     },
     "metadata": {},
     "output_type": "display_data"
    },
    {
     "data": {
      "text/plain": [
       "<function __main__.contrato(Region)>"
      ]
     },
     "execution_count": 52,
     "metadata": {},
     "output_type": "execute_result"
    }
   ],
   "source": [
    "# construcción filtro y consulta en el miniaplicativo\n",
    "print(Style.BRIGHT+Fore.BLUE+\"Bienvenidos al aplicativo de consulta\") \n",
    "time.sleep(1)  #tiempo de 2 segundos para ejecutar la siguiente linea\n",
    "print('                   ') #separa los parrafos\n",
    "\n",
    "Region = widgets.Dropdown(description='Region', value='Norte de Santander',\n",
    "    options=Base_df['Departamento'].unique().tolist())\n",
    "\n",
    "\n",
    "def contrato(Region):\n",
    "    x=Base_df[Base_df['Departamento']== Region]\n",
    "    Valor= x['Valor del Contrato'].sum()\n",
    "    Nro3= x['N'].sum()\n",
    "    \n",
    "    \n",
    "    print('Se registraron', Nro3 , 'contratos paara la Región', Region, ', por un total de', Valor, 'pesos')\n",
    "\n",
    "\n",
    "interact(contrato, Region=Region)"
   ]
  },
  {
   "cell_type": "markdown",
   "id": "26c53224",
   "metadata": {},
   "source": [
    "Asimismo, se logró determinar que las contrataciones para el Departamento de Norte de Santander y Valle del Cauca se realizaron por lo siguiente: "
   ]
  },
  {
   "cell_type": "code",
   "execution_count": 53,
   "id": "a25c56d3",
   "metadata": {},
   "outputs": [
    {
     "name": "stdout",
     "output_type": "stream",
     "text": [
      "╒════════════════════╤═════════════════╤════════════════════════╕\n",
      "│ Departamento       │   Nro Contratos │   Valor Total Contrato │\n",
      "╞════════════════════╪═════════════════╪════════════════════════╡\n",
      "│ Norte de Santander │           14685 │       7188541909707070 │\n",
      "├────────────────────┼─────────────────┼────────────────────────┤\n",
      "│ Valle del Cauca    │           94533 │       4266152098074610 │\n",
      "╘════════════════════╧═════════════════╧════════════════════════╛\n"
     ]
    }
   ],
   "source": [
    "from tabulate import tabulate #Luego importamos la función tabular de la biblioteca tabular\n",
    "\n",
    "table = [['Departamento', 'Nro Contratos', 'Valor Total Contrato'], ['Norte de Santander', '14685', 7188541909707070 ], ['Valle del Cauca', '94533', 4266152098074610]]\n",
    "print(tabulate(table, headers='firstrow', tablefmt='fancy_grid'))\n"
   ]
  },
  {
   "cell_type": "markdown",
   "id": "495f0792",
   "metadata": {},
   "source": [
    "La siguiente gráfica presenta el porcentaje respecto del número de contratos del Departamento de Norte de Santander y Valle del Cauca:"
   ]
  },
  {
   "cell_type": "code",
   "execution_count": 54,
   "id": "2f4a6f54",
   "metadata": {},
   "outputs": [
    {
     "data": {
      "image/png": "[encoded data removed]",
      "text/plain": [
       "<Figure size 216x576 with 1 Axes>"
      ]
     },
     "metadata": {},
     "output_type": "display_data"
    }
   ],
   "source": [
    "etiquetas = ['Norte de Santander',' Valle del Cauca  '] \n",
    "porcentas = [14685,94533]\n",
    "plt.pie(porcentas, labels = etiquetas,\n",
    "        startangle=50, explode = (0.1,0.1),\n",
    "        radius = 1.5, autopct = '%1.1f%%')\n",
    "plt.show()"
   ]
  },
  {
   "cell_type": "markdown",
   "id": "4e83ba7c",
   "metadata": {},
   "source": [
    "Asimismo, se presenta el porcentaje respecto del valor total de los contratos del Departamento de Norte de Santander y Valle del Cauca:"
   ]
  },
  {
   "cell_type": "code",
   "execution_count": 55,
   "id": "4863ad96",
   "metadata": {},
   "outputs": [
    {
     "data": {
      "text/plain": [
       "([<matplotlib.patches.Wedge at 0x2331f3ff3a0>,\n",
       "  <matplotlib.patches.Wedge at 0x2331f3df0d0>],\n",
       " [Text(-1.6731877083146036, 0.5127795752025672, 'Norte de Santander'),\n",
       "  Text(1.6731877563244848, -0.5127794185474261, ' Valle del Cauca  ')],\n",
       " [Text(-0.956107261894059, 0.2930169001157527, '62.8%'),\n",
       "  Text(0.956107289328277, -0.29301681059852924, '37.2%')])"
      ]
     },
     "execution_count": 55,
     "metadata": {},
     "output_type": "execute_result"
    },
    {
     "data": {
      "image/png": "[encoded data removed]",
      "text/plain": [
       "<Figure size 216x576 with 1 Axes>"
      ]
     },
     "metadata": {},
     "output_type": "display_data"
    }
   ],
   "source": [
    "etiquetas = ['Norte de Santander',' Valle del Cauca  '] \n",
    "porcentas = [7188541909707070, 4266152098074610 ]\n",
    "plt.pie(porcentas, labels = etiquetas,\n",
    "        startangle=50, explode = (0.1,0.1),\n",
    "        radius = 1.5, autopct = '%1.1f%%')"
   ]
  },
  {
   "cell_type": "markdown",
   "id": "56aee329",
   "metadata": {},
   "source": [
    "## Ejercicio 4"
   ]
  },
  {
   "cell_type": "markdown",
   "id": "603d6fac",
   "metadata": {},
   "source": [
    "¿Cuáles son los sectores mas importantes de cada departamento? ¿Se ha mantenido esa tendencia en\n",
    "cada año medido? Cree algunas métricas que identifiquen esa importancia (Cantidad de contratos,\n",
    "porcentaje de inversión en el sector por departamento, etc...)."
   ]
  },
  {
   "cell_type": "markdown",
   "id": "7ce00413",
   "metadata": {},
   "source": [
    "Los sectores mas importante de cada departamento son los siguientes:"
   ]
  },
  {
   "cell_type": "code",
   "execution_count": 56,
   "id": "c9c13845",
   "metadata": {},
   "outputs": [],
   "source": [
    "punto4= Base_df.loc[:,['N','Departamento','Sector','Destino Gasto','Valor del Contrato','Fecha de Inicio del Contrato']]\n"
   ]
  },
  {
   "cell_type": "code",
   "execution_count": 57,
   "id": "64afe72f",
   "metadata": {},
   "outputs": [
    {
     "data": {
      "text/html": [
       "<div>\n",
       "<style scoped>\n",
       "    .dataframe tbody tr th:only-of-type {\n",
       "        vertical-align: middle;\n",
       "    }\n",
       "\n",
       "    .dataframe tbody tr th {\n",
       "        vertical-align: top;\n",
       "    }\n",
       "\n",
       "    .dataframe thead th {\n",
       "        text-align: right;\n",
       "    }\n",
       "</style>\n",
       "<table border=\"1\" class=\"dataframe\">\n",
       "  <thead>\n",
       "    <tr style=\"text-align: right;\">\n",
       "      <th></th>\n",
       "      <th>Departamento</th>\n",
       "    </tr>\n",
       "  </thead>\n",
       "  <tbody>\n",
       "    <tr>\n",
       "      <th>Distrito Capital de Bogotá</th>\n",
       "      <td>532189</td>\n",
       "    </tr>\n",
       "    <tr>\n",
       "      <th>Valle del Cauca</th>\n",
       "      <td>94533</td>\n",
       "    </tr>\n",
       "    <tr>\n",
       "      <th>Antioquia</th>\n",
       "      <td>63385</td>\n",
       "    </tr>\n",
       "    <tr>\n",
       "      <th>Santander</th>\n",
       "      <td>39743</td>\n",
       "    </tr>\n",
       "    <tr>\n",
       "      <th>Atlántico</th>\n",
       "      <td>29215</td>\n",
       "    </tr>\n",
       "    <tr>\n",
       "      <th>Tolima</th>\n",
       "      <td>24860</td>\n",
       "    </tr>\n",
       "    <tr>\n",
       "      <th>Cundinamarca</th>\n",
       "      <td>23674</td>\n",
       "    </tr>\n",
       "    <tr>\n",
       "      <th>Bolívar</th>\n",
       "      <td>22128</td>\n",
       "    </tr>\n",
       "    <tr>\n",
       "      <th>Risaralda</th>\n",
       "      <td>17564</td>\n",
       "    </tr>\n",
       "    <tr>\n",
       "      <th>Huila</th>\n",
       "      <td>16848</td>\n",
       "    </tr>\n",
       "    <tr>\n",
       "      <th>Meta</th>\n",
       "      <td>16066</td>\n",
       "    </tr>\n",
       "    <tr>\n",
       "      <th>Boyacá</th>\n",
       "      <td>15802</td>\n",
       "    </tr>\n",
       "    <tr>\n",
       "      <th>Quindío</th>\n",
       "      <td>15146</td>\n",
       "    </tr>\n",
       "    <tr>\n",
       "      <th>Caldas</th>\n",
       "      <td>14783</td>\n",
       "    </tr>\n",
       "    <tr>\n",
       "      <th>Norte de Santander</th>\n",
       "      <td>14685</td>\n",
       "    </tr>\n",
       "    <tr>\n",
       "      <th>Cauca</th>\n",
       "      <td>12575</td>\n",
       "    </tr>\n",
       "    <tr>\n",
       "      <th>Nariño</th>\n",
       "      <td>12237</td>\n",
       "    </tr>\n",
       "    <tr>\n",
       "      <th>Casanare</th>\n",
       "      <td>10850</td>\n",
       "    </tr>\n",
       "    <tr>\n",
       "      <th>Magdalena</th>\n",
       "      <td>10277</td>\n",
       "    </tr>\n",
       "    <tr>\n",
       "      <th>Sucre</th>\n",
       "      <td>8560</td>\n",
       "    </tr>\n",
       "    <tr>\n",
       "      <th>Cesar</th>\n",
       "      <td>8114</td>\n",
       "    </tr>\n",
       "    <tr>\n",
       "      <th>No Definido</th>\n",
       "      <td>6223</td>\n",
       "    </tr>\n",
       "    <tr>\n",
       "      <th>San Andrés, Providencia y Santa Catalina</th>\n",
       "      <td>6187</td>\n",
       "    </tr>\n",
       "    <tr>\n",
       "      <th>Putumayo</th>\n",
       "      <td>5473</td>\n",
       "    </tr>\n",
       "    <tr>\n",
       "      <th>Córdoba</th>\n",
       "      <td>5376</td>\n",
       "    </tr>\n",
       "    <tr>\n",
       "      <th>Caquetá</th>\n",
       "      <td>5255</td>\n",
       "    </tr>\n",
       "    <tr>\n",
       "      <th>Chocó</th>\n",
       "      <td>4874</td>\n",
       "    </tr>\n",
       "    <tr>\n",
       "      <th>La Guajira</th>\n",
       "      <td>3996</td>\n",
       "    </tr>\n",
       "    <tr>\n",
       "      <th>Arauca</th>\n",
       "      <td>3877</td>\n",
       "    </tr>\n",
       "    <tr>\n",
       "      <th>Vichada</th>\n",
       "      <td>1363</td>\n",
       "    </tr>\n",
       "    <tr>\n",
       "      <th>Amazonas</th>\n",
       "      <td>1018</td>\n",
       "    </tr>\n",
       "    <tr>\n",
       "      <th>Guaviare</th>\n",
       "      <td>899</td>\n",
       "    </tr>\n",
       "    <tr>\n",
       "      <th>Guainía</th>\n",
       "      <td>518</td>\n",
       "    </tr>\n",
       "    <tr>\n",
       "      <th>Vaupés</th>\n",
       "      <td>282</td>\n",
       "    </tr>\n",
       "  </tbody>\n",
       "</table>\n",
       "</div>"
      ],
      "text/plain": [
       "                                          Departamento\n",
       "Distrito Capital de Bogotá                      532189\n",
       "Valle del Cauca                                  94533\n",
       "Antioquia                                        63385\n",
       "Santander                                        39743\n",
       "Atlántico                                        29215\n",
       "Tolima                                           24860\n",
       "Cundinamarca                                     23674\n",
       "Bolívar                                          22128\n",
       "Risaralda                                        17564\n",
       "Huila                                            16848\n",
       "Meta                                             16066\n",
       "Boyacá                                           15802\n",
       "Quindío                                          15146\n",
       "Caldas                                           14783\n",
       "Norte de Santander                               14685\n",
       "Cauca                                            12575\n",
       "Nariño                                           12237\n",
       "Casanare                                         10850\n",
       "Magdalena                                        10277\n",
       "Sucre                                             8560\n",
       "Cesar                                             8114\n",
       "No Definido                                       6223\n",
       "San Andrés, Providencia y Santa Catalina          6187\n",
       "Putumayo                                          5473\n",
       "Córdoba                                           5376\n",
       "Caquetá                                           5255\n",
       "Chocó                                             4874\n",
       "La Guajira                                        3996\n",
       "Arauca                                            3877\n",
       "Vichada                                           1363\n",
       "Amazonas                                          1018\n",
       "Guaviare                                           899\n",
       "Guainía                                            518\n",
       "Vaupés                                             282"
      ]
     },
     "execution_count": 57,
     "metadata": {},
     "output_type": "execute_result"
    }
   ],
   "source": [
    "vb_departamento= pd.DataFrame(punto4['Departamento'].value_counts(sort=True))\n",
    "vb_departamento"
   ]
  },
  {
   "cell_type": "markdown",
   "id": "dcf209ab",
   "metadata": {},
   "source": [
    "Se detallará los cinco (5) Departamentos con el 72% de los contratos suscritos, así:"
   ]
  },
  {
   "cell_type": "markdown",
   "id": "57a803f2",
   "metadata": {},
   "source": [
    "#### - Departamento - Distrito Capital de Bogotá"
   ]
  },
  {
   "cell_type": "code",
   "execution_count": 58,
   "id": "b61eae6d",
   "metadata": {},
   "outputs": [
    {
     "data": {
      "text/html": [
       "<div>\n",
       "<style scoped>\n",
       "    .dataframe tbody tr th:only-of-type {\n",
       "        vertical-align: middle;\n",
       "    }\n",
       "\n",
       "    .dataframe tbody tr th {\n",
       "        vertical-align: top;\n",
       "    }\n",
       "\n",
       "    .dataframe thead th {\n",
       "        text-align: right;\n",
       "    }\n",
       "</style>\n",
       "<table border=\"1\" class=\"dataframe\">\n",
       "  <thead>\n",
       "    <tr style=\"text-align: right;\">\n",
       "      <th></th>\n",
       "      <th>N</th>\n",
       "      <th>Departamento</th>\n",
       "      <th>Sector</th>\n",
       "      <th>Destino Gasto</th>\n",
       "      <th>Valor del Contrato</th>\n",
       "      <th>Fecha de Inicio del Contrato</th>\n",
       "    </tr>\n",
       "  </thead>\n",
       "  <tbody>\n",
       "    <tr>\n",
       "      <th>0</th>\n",
       "      <td>1</td>\n",
       "      <td>Distrito Capital de Bogotá</td>\n",
       "      <td>Tecnologías de la Información y las Comunicaci...</td>\n",
       "      <td>Inversión</td>\n",
       "      <td>2.719200e+07</td>\n",
       "      <td>2008-09-01 00:00:00</td>\n",
       "    </tr>\n",
       "    <tr>\n",
       "      <th>1</th>\n",
       "      <td>1</td>\n",
       "      <td>Distrito Capital de Bogotá</td>\n",
       "      <td>Salud y Protección Social</td>\n",
       "      <td>Funcionamiento</td>\n",
       "      <td>1.507479e+07</td>\n",
       "      <td>2008-10-01 00:00:00</td>\n",
       "    </tr>\n",
       "    <tr>\n",
       "      <th>2</th>\n",
       "      <td>1</td>\n",
       "      <td>Distrito Capital de Bogotá</td>\n",
       "      <td>Transporte</td>\n",
       "      <td>Inversión</td>\n",
       "      <td>7.800000e+07</td>\n",
       "      <td>2010-06-03 00:00:00</td>\n",
       "    </tr>\n",
       "    <tr>\n",
       "      <th>3</th>\n",
       "      <td>1</td>\n",
       "      <td>Distrito Capital de Bogotá</td>\n",
       "      <td>agricultura</td>\n",
       "      <td>Inversión</td>\n",
       "      <td>5.600000e+07</td>\n",
       "      <td>2010-12-03 00:00:00</td>\n",
       "    </tr>\n",
       "    <tr>\n",
       "      <th>5</th>\n",
       "      <td>1</td>\n",
       "      <td>Distrito Capital de Bogotá</td>\n",
       "      <td>Planeación</td>\n",
       "      <td>Funcionamiento</td>\n",
       "      <td>7.327620e+05</td>\n",
       "      <td>2015-08-07 00:00:00</td>\n",
       "    </tr>\n",
       "    <tr>\n",
       "      <th>...</th>\n",
       "      <td>...</td>\n",
       "      <td>...</td>\n",
       "      <td>...</td>\n",
       "      <td>...</td>\n",
       "      <td>...</td>\n",
       "      <td>...</td>\n",
       "    </tr>\n",
       "    <tr>\n",
       "      <th>1048569</th>\n",
       "      <td>1</td>\n",
       "      <td>Distrito Capital de Bogotá</td>\n",
       "      <td>Información Estadística</td>\n",
       "      <td>Inversión</td>\n",
       "      <td>0.000000e+00</td>\n",
       "      <td>NaN</td>\n",
       "    </tr>\n",
       "    <tr>\n",
       "      <th>1048570</th>\n",
       "      <td>1</td>\n",
       "      <td>Distrito Capital de Bogotá</td>\n",
       "      <td>Salud y Protección Social</td>\n",
       "      <td>Funcionamiento</td>\n",
       "      <td>0.000000e+00</td>\n",
       "      <td>NaN</td>\n",
       "    </tr>\n",
       "    <tr>\n",
       "      <th>1048571</th>\n",
       "      <td>1</td>\n",
       "      <td>Distrito Capital de Bogotá</td>\n",
       "      <td>Trabajo</td>\n",
       "      <td>Inversión</td>\n",
       "      <td>1.560000e+07</td>\n",
       "      <td>NaN</td>\n",
       "    </tr>\n",
       "    <tr>\n",
       "      <th>1048572</th>\n",
       "      <td>1</td>\n",
       "      <td>Distrito Capital de Bogotá</td>\n",
       "      <td>Planeación</td>\n",
       "      <td>Inversión</td>\n",
       "      <td>3.028112e+10</td>\n",
       "      <td>NaN</td>\n",
       "    </tr>\n",
       "    <tr>\n",
       "      <th>1048573</th>\n",
       "      <td>1</td>\n",
       "      <td>Distrito Capital de Bogotá</td>\n",
       "      <td>Cultura</td>\n",
       "      <td>Inversión</td>\n",
       "      <td>0.000000e+00</td>\n",
       "      <td>NaN</td>\n",
       "    </tr>\n",
       "  </tbody>\n",
       "</table>\n",
       "<p>532189 rows × 6 columns</p>\n",
       "</div>"
      ],
      "text/plain": [
       "         N                Departamento  \\\n",
       "0        1  Distrito Capital de Bogotá   \n",
       "1        1  Distrito Capital de Bogotá   \n",
       "2        1  Distrito Capital de Bogotá   \n",
       "3        1  Distrito Capital de Bogotá   \n",
       "5        1  Distrito Capital de Bogotá   \n",
       "...     ..                         ...   \n",
       "1048569  1  Distrito Capital de Bogotá   \n",
       "1048570  1  Distrito Capital de Bogotá   \n",
       "1048571  1  Distrito Capital de Bogotá   \n",
       "1048572  1  Distrito Capital de Bogotá   \n",
       "1048573  1  Distrito Capital de Bogotá   \n",
       "\n",
       "                                                    Sector   Destino Gasto  \\\n",
       "0        Tecnologías de la Información y las Comunicaci...       Inversión   \n",
       "1                                Salud y Protección Social  Funcionamiento   \n",
       "2                                               Transporte       Inversión   \n",
       "3                                              agricultura       Inversión   \n",
       "5                                               Planeación  Funcionamiento   \n",
       "...                                                    ...             ...   \n",
       "1048569                            Información Estadística       Inversión   \n",
       "1048570                          Salud y Protección Social  Funcionamiento   \n",
       "1048571                                            Trabajo       Inversión   \n",
       "1048572                                         Planeación       Inversión   \n",
       "1048573                                            Cultura       Inversión   \n",
       "\n",
       "         Valor del Contrato Fecha de Inicio del Contrato  \n",
       "0              2.719200e+07          2008-09-01 00:00:00  \n",
       "1              1.507479e+07          2008-10-01 00:00:00  \n",
       "2              7.800000e+07          2010-06-03 00:00:00  \n",
       "3              5.600000e+07          2010-12-03 00:00:00  \n",
       "5              7.327620e+05          2015-08-07 00:00:00  \n",
       "...                     ...                          ...  \n",
       "1048569        0.000000e+00                          NaN  \n",
       "1048570        0.000000e+00                          NaN  \n",
       "1048571        1.560000e+07                          NaN  \n",
       "1048572        3.028112e+10                          NaN  \n",
       "1048573        0.000000e+00                          NaN  \n",
       "\n",
       "[532189 rows x 6 columns]"
      ]
     },
     "execution_count": 58,
     "metadata": {},
     "output_type": "execute_result"
    }
   ],
   "source": [
    "punto4.dtypes\n",
    "punto4.value_counts('Departamento')\n",
    "Departamento_Bogota =punto4[punto4['Departamento'] =='Distrito Capital de Bogotá']\n",
    "Departamento_Bogota"
   ]
  },
  {
   "cell_type": "code",
   "execution_count": 59,
   "id": "ce6e2a76",
   "metadata": {},
   "outputs": [
    {
     "data": {
      "image/png": "[encoded data removed]",
      "text/plain": [
       "<Figure size 216x576 with 1 Axes>"
      ]
     },
     "metadata": {},
     "output_type": "display_data"
    }
   ],
   "source": [
    "etiquetas = [\"Salud y Protección Social\",\"Inclusión Social y Reconciliación\",\"defensa\",\"otros 22 sectores\" ] \n",
    "porcentas = [111713, 50264,50184,320028]\n",
    "plt.pie(porcentas,labels = etiquetas, radius = 2,\n",
    "        startangle=70, autopct = '%1.1f%%')\n",
    "plt.show()\n"
   ]
  },
  {
   "cell_type": "code",
   "execution_count": 60,
   "id": "f05771c2",
   "metadata": {},
   "outputs": [
    {
     "data": {
      "image/png": "[encoded data removed]",
      "text/plain": [
       "<Figure size 360x720 with 1 Axes>"
      ]
     },
     "metadata": {},
     "output_type": "display_data"
    }
   ],
   "source": [
    "len(Departamento_Bogota['Destino Gasto'])\n",
    "fig, ax= plt.subplots( figsize=(5,10))\n",
    "plt.xticks(rotation=90,color='black',horizontalalignment=\"center\")\n",
    "ax = sns.countplot(x=\"Destino Gasto\", color = 'blue', data=Departamento_Bogota)\n",
    "sns.set(rc={'figure.figsize':(3,9)})\n",
    "for p in ax.patches:\n",
    "    height = p.get_height()\n",
    "    ax.text(p.get_x()+p.get_width()/2., height ,'{:0.0f}'.format((height)), ha=\"center\")     "
   ]
  },
  {
   "cell_type": "markdown",
   "id": "905074e7",
   "metadata": {},
   "source": [
    "La Ciudad de Bogotá suscribió 532.189 contratos, donde se evidenció que los tres (3) sectores más representativos con el 40% de participación son el sector de Salud y Protección Social, Inclusión Social y Reconciliación y defensa.\n",
    "\n",
    "Por otra parte, los contratos suscritos en Bogotá se registraron el 52% se destinaron para inversión, es decir, 277.608 contratos.\n",
    "Nota: 8.082 contratos no registraron el destino del gasto."
   ]
  },
  {
   "cell_type": "markdown",
   "id": "13933bb8",
   "metadata": {},
   "source": [
    "#### -Departamento Valle del Cauca"
   ]
  },
  {
   "cell_type": "code",
   "execution_count": 61,
   "id": "f2ca1847",
   "metadata": {},
   "outputs": [
    {
     "data": {
      "text/html": [
       "<div>\n",
       "<style scoped>\n",
       "    .dataframe tbody tr th:only-of-type {\n",
       "        vertical-align: middle;\n",
       "    }\n",
       "\n",
       "    .dataframe tbody tr th {\n",
       "        vertical-align: top;\n",
       "    }\n",
       "\n",
       "    .dataframe thead th {\n",
       "        text-align: right;\n",
       "    }\n",
       "</style>\n",
       "<table border=\"1\" class=\"dataframe\">\n",
       "  <thead>\n",
       "    <tr style=\"text-align: right;\">\n",
       "      <th></th>\n",
       "      <th>N</th>\n",
       "      <th>Departamento</th>\n",
       "      <th>Sector</th>\n",
       "      <th>Destino Gasto</th>\n",
       "      <th>Valor del Contrato</th>\n",
       "      <th>Fecha de Inicio del Contrato</th>\n",
       "    </tr>\n",
       "  </thead>\n",
       "  <tbody>\n",
       "    <tr>\n",
       "      <th>1431</th>\n",
       "      <td>1</td>\n",
       "      <td>Valle del Cauca</td>\n",
       "      <td>Servicio Público</td>\n",
       "      <td>Inversión</td>\n",
       "      <td>385868941.0</td>\n",
       "      <td>2017-01-08 00:00:00</td>\n",
       "    </tr>\n",
       "    <tr>\n",
       "      <th>1583</th>\n",
       "      <td>1</td>\n",
       "      <td>Valle del Cauca</td>\n",
       "      <td>defensa</td>\n",
       "      <td>No Definido</td>\n",
       "      <td>6312000.0</td>\n",
       "      <td>2017-01-09 00:00:00</td>\n",
       "    </tr>\n",
       "    <tr>\n",
       "      <th>1710</th>\n",
       "      <td>1</td>\n",
       "      <td>Valle del Cauca</td>\n",
       "      <td>defensa</td>\n",
       "      <td>Funcionamiento</td>\n",
       "      <td>6622186.0</td>\n",
       "      <td>2017-01-10 00:00:00</td>\n",
       "    </tr>\n",
       "    <tr>\n",
       "      <th>1713</th>\n",
       "      <td>1</td>\n",
       "      <td>Valle del Cauca</td>\n",
       "      <td>defensa</td>\n",
       "      <td>Funcionamiento</td>\n",
       "      <td>9704225.0</td>\n",
       "      <td>2017-01-10 00:00:00</td>\n",
       "    </tr>\n",
       "    <tr>\n",
       "      <th>1715</th>\n",
       "      <td>1</td>\n",
       "      <td>Valle del Cauca</td>\n",
       "      <td>defensa</td>\n",
       "      <td>Funcionamiento</td>\n",
       "      <td>14960000.0</td>\n",
       "      <td>2017-01-10 00:00:00</td>\n",
       "    </tr>\n",
       "    <tr>\n",
       "      <th>...</th>\n",
       "      <td>...</td>\n",
       "      <td>...</td>\n",
       "      <td>...</td>\n",
       "      <td>...</td>\n",
       "      <td>...</td>\n",
       "      <td>...</td>\n",
       "    </tr>\n",
       "    <tr>\n",
       "      <th>1048514</th>\n",
       "      <td>1</td>\n",
       "      <td>Valle del Cauca</td>\n",
       "      <td>Salud y Protección Social</td>\n",
       "      <td>Funcionamiento</td>\n",
       "      <td>0.0</td>\n",
       "      <td>NaN</td>\n",
       "    </tr>\n",
       "    <tr>\n",
       "      <th>1048525</th>\n",
       "      <td>1</td>\n",
       "      <td>Valle del Cauca</td>\n",
       "      <td>deportes</td>\n",
       "      <td>Inversión</td>\n",
       "      <td>3551200.0</td>\n",
       "      <td>NaN</td>\n",
       "    </tr>\n",
       "    <tr>\n",
       "      <th>1048547</th>\n",
       "      <td>1</td>\n",
       "      <td>Valle del Cauca</td>\n",
       "      <td>Hacienda y Crédito Público</td>\n",
       "      <td>Funcionamiento</td>\n",
       "      <td>14580000.0</td>\n",
       "      <td>NaN</td>\n",
       "    </tr>\n",
       "    <tr>\n",
       "      <th>1048556</th>\n",
       "      <td>1</td>\n",
       "      <td>Valle del Cauca</td>\n",
       "      <td>Servicio Público</td>\n",
       "      <td>Funcionamiento</td>\n",
       "      <td>0.0</td>\n",
       "      <td>NaN</td>\n",
       "    </tr>\n",
       "    <tr>\n",
       "      <th>1048563</th>\n",
       "      <td>1</td>\n",
       "      <td>Valle del Cauca</td>\n",
       "      <td>No aplica/No pertenece</td>\n",
       "      <td>Funcionamiento</td>\n",
       "      <td>0.0</td>\n",
       "      <td>NaN</td>\n",
       "    </tr>\n",
       "  </tbody>\n",
       "</table>\n",
       "<p>94533 rows × 6 columns</p>\n",
       "</div>"
      ],
      "text/plain": [
       "         N     Departamento                      Sector   Destino Gasto  \\\n",
       "1431     1  Valle del Cauca            Servicio Público       Inversión   \n",
       "1583     1  Valle del Cauca                     defensa     No Definido   \n",
       "1710     1  Valle del Cauca                     defensa  Funcionamiento   \n",
       "1713     1  Valle del Cauca                     defensa  Funcionamiento   \n",
       "1715     1  Valle del Cauca                     defensa  Funcionamiento   \n",
       "...     ..              ...                         ...             ...   \n",
       "1048514  1  Valle del Cauca   Salud y Protección Social  Funcionamiento   \n",
       "1048525  1  Valle del Cauca                    deportes       Inversión   \n",
       "1048547  1  Valle del Cauca  Hacienda y Crédito Público  Funcionamiento   \n",
       "1048556  1  Valle del Cauca            Servicio Público  Funcionamiento   \n",
       "1048563  1  Valle del Cauca      No aplica/No pertenece  Funcionamiento   \n",
       "\n",
       "         Valor del Contrato Fecha de Inicio del Contrato  \n",
       "1431            385868941.0          2017-01-08 00:00:00  \n",
       "1583              6312000.0          2017-01-09 00:00:00  \n",
       "1710              6622186.0          2017-01-10 00:00:00  \n",
       "1713              9704225.0          2017-01-10 00:00:00  \n",
       "1715             14960000.0          2017-01-10 00:00:00  \n",
       "...                     ...                          ...  \n",
       "1048514                 0.0                          NaN  \n",
       "1048525           3551200.0                          NaN  \n",
       "1048547          14580000.0                          NaN  \n",
       "1048556                 0.0                          NaN  \n",
       "1048563                 0.0                          NaN  \n",
       "\n",
       "[94533 rows x 6 columns]"
      ]
     },
     "execution_count": 61,
     "metadata": {},
     "output_type": "execute_result"
    }
   ],
   "source": [
    "punto4.dtypes\n",
    "punto4.value_counts('Departamento')\n",
    "Departamento_Valle =punto4[punto4['Departamento'] =='Valle del Cauca']\n",
    "Departamento_Valle"
   ]
  },
  {
   "cell_type": "code",
   "execution_count": 62,
   "id": "ae3a0643",
   "metadata": {},
   "outputs": [
    {
     "data": {
      "image/png": "[encoded data removed]",
      "text/plain": [
       "<Figure size 216x648 with 1 Axes>"
      ]
     },
     "metadata": {},
     "output_type": "display_data"
    }
   ],
   "source": [
    "etiquetas = [\"No aplica/No pertenece\",\"Servicio Público\",\"Deportes\",\"otros 16 sectores\"] \n",
    "porcentas = [19748,11605,9279,53901]\n",
    "plt.pie(porcentas,labels = etiquetas, radius = 2,\n",
    "        startangle=70, autopct = '%1.1f%%')\n",
    "plt.show()\n"
   ]
  },
  {
   "cell_type": "code",
   "execution_count": 63,
   "id": "fdf174d0",
   "metadata": {},
   "outputs": [
    {
     "data": {
      "image/png": "[encoded data removed]",
      "text/plain": [
       "<Figure size 360x720 with 1 Axes>"
      ]
     },
     "metadata": {},
     "output_type": "display_data"
    }
   ],
   "source": [
    "len(Departamento_Valle['Destino Gasto'])\n",
    "fig, ax= plt.subplots( figsize=(5,10))\n",
    "plt.xticks(rotation=90,color='black',horizontalalignment=\"center\")\n",
    "ax = sns.countplot(x=\"Destino Gasto\", color = 'blue', data=Departamento_Valle)\n",
    "sns.set(rc={'figure.figsize':(3,9)})\n",
    "for p in ax.patches:\n",
    "    height = p.get_height()\n",
    "    ax.text(p.get_x()+p.get_width()/2., height ,'{:0.0f}'.format((height)), ha=\"center\")     "
   ]
  },
  {
   "cell_type": "markdown",
   "id": "30faf363",
   "metadata": {},
   "source": [
    "El Departamento del Valle del Cauca suscribió 94.533 contratos, donde se evidenció que los tres (3) sectores más representativos con el 43%, se registraron en  No aplica/No pertenece, Servicio Público y deportes. \n",
    "\n",
    "Por otra parte, los contratos suscritos en el Valle del Cauca se registraron el 77% se destinaron para inversión, es decir, 72.765.\n",
    "Nota: 628 contratos no registraron el destino del gasto."
   ]
  },
  {
   "cell_type": "markdown",
   "id": "bb40ef11",
   "metadata": {},
   "source": [
    "#### -Departamento Antioquia"
   ]
  },
  {
   "cell_type": "code",
   "execution_count": 64,
   "id": "0a2725e6",
   "metadata": {},
   "outputs": [
    {
     "data": {
      "text/html": [
       "<div>\n",
       "<style scoped>\n",
       "    .dataframe tbody tr th:only-of-type {\n",
       "        vertical-align: middle;\n",
       "    }\n",
       "\n",
       "    .dataframe tbody tr th {\n",
       "        vertical-align: top;\n",
       "    }\n",
       "\n",
       "    .dataframe thead th {\n",
       "        text-align: right;\n",
       "    }\n",
       "</style>\n",
       "<table border=\"1\" class=\"dataframe\">\n",
       "  <thead>\n",
       "    <tr style=\"text-align: right;\">\n",
       "      <th></th>\n",
       "      <th>N</th>\n",
       "      <th>Departamento</th>\n",
       "      <th>Sector</th>\n",
       "      <th>Destino Gasto</th>\n",
       "      <th>Valor del Contrato</th>\n",
       "      <th>Fecha de Inicio del Contrato</th>\n",
       "    </tr>\n",
       "  </thead>\n",
       "  <tbody>\n",
       "    <tr>\n",
       "      <th>4</th>\n",
       "      <td>1</td>\n",
       "      <td>Antioquia</td>\n",
       "      <td>Servicio Público</td>\n",
       "      <td>Inversión</td>\n",
       "      <td>4.716755e+07</td>\n",
       "      <td>2015-05-11 00:00:00</td>\n",
       "    </tr>\n",
       "    <tr>\n",
       "      <th>17</th>\n",
       "      <td>1</td>\n",
       "      <td>Antioquia</td>\n",
       "      <td>Educación Nacional</td>\n",
       "      <td>Funcionamiento</td>\n",
       "      <td>9.137397e+09</td>\n",
       "      <td>2016-01-04 00:00:00</td>\n",
       "    </tr>\n",
       "    <tr>\n",
       "      <th>607</th>\n",
       "      <td>1</td>\n",
       "      <td>Antioquia</td>\n",
       "      <td>Servicio Público</td>\n",
       "      <td>Funcionamiento</td>\n",
       "      <td>4.957704e+07</td>\n",
       "      <td>2016-07-10 00:00:00</td>\n",
       "    </tr>\n",
       "    <tr>\n",
       "      <th>733</th>\n",
       "      <td>1</td>\n",
       "      <td>Antioquia</td>\n",
       "      <td>Servicio Público</td>\n",
       "      <td>Funcionamiento</td>\n",
       "      <td>3.360281e+07</td>\n",
       "      <td>2016-09-09 00:00:00</td>\n",
       "    </tr>\n",
       "    <tr>\n",
       "      <th>1384</th>\n",
       "      <td>1</td>\n",
       "      <td>Antioquia</td>\n",
       "      <td>Transporte</td>\n",
       "      <td>Funcionamiento</td>\n",
       "      <td>2.020000e+06</td>\n",
       "      <td>2017-01-06 00:00:00</td>\n",
       "    </tr>\n",
       "    <tr>\n",
       "      <th>...</th>\n",
       "      <td>...</td>\n",
       "      <td>...</td>\n",
       "      <td>...</td>\n",
       "      <td>...</td>\n",
       "      <td>...</td>\n",
       "      <td>...</td>\n",
       "    </tr>\n",
       "    <tr>\n",
       "      <th>1048532</th>\n",
       "      <td>1</td>\n",
       "      <td>Antioquia</td>\n",
       "      <td>Servicio Público</td>\n",
       "      <td>Inversión</td>\n",
       "      <td>5.058182e+07</td>\n",
       "      <td>NaN</td>\n",
       "    </tr>\n",
       "    <tr>\n",
       "      <th>1048533</th>\n",
       "      <td>1</td>\n",
       "      <td>Antioquia</td>\n",
       "      <td>deportes</td>\n",
       "      <td>Inversión</td>\n",
       "      <td>0.000000e+00</td>\n",
       "      <td>NaN</td>\n",
       "    </tr>\n",
       "    <tr>\n",
       "      <th>1048546</th>\n",
       "      <td>1</td>\n",
       "      <td>Antioquia</td>\n",
       "      <td>Salud y Protección Social</td>\n",
       "      <td>Funcionamiento</td>\n",
       "      <td>6.500000e+07</td>\n",
       "      <td>NaN</td>\n",
       "    </tr>\n",
       "    <tr>\n",
       "      <th>1048558</th>\n",
       "      <td>1</td>\n",
       "      <td>Antioquia</td>\n",
       "      <td>Ley de Justicia</td>\n",
       "      <td>Funcionamiento</td>\n",
       "      <td>7.250863e+06</td>\n",
       "      <td>NaN</td>\n",
       "    </tr>\n",
       "    <tr>\n",
       "      <th>1048564</th>\n",
       "      <td>1</td>\n",
       "      <td>Antioquia</td>\n",
       "      <td>Planeación</td>\n",
       "      <td>Inversión</td>\n",
       "      <td>1.414018e+08</td>\n",
       "      <td>NaN</td>\n",
       "    </tr>\n",
       "  </tbody>\n",
       "</table>\n",
       "<p>63385 rows × 6 columns</p>\n",
       "</div>"
      ],
      "text/plain": [
       "         N Departamento                     Sector   Destino Gasto  \\\n",
       "4        1    Antioquia           Servicio Público       Inversión   \n",
       "17       1    Antioquia         Educación Nacional  Funcionamiento   \n",
       "607      1    Antioquia           Servicio Público  Funcionamiento   \n",
       "733      1    Antioquia           Servicio Público  Funcionamiento   \n",
       "1384     1    Antioquia                 Transporte  Funcionamiento   \n",
       "...     ..          ...                        ...             ...   \n",
       "1048532  1    Antioquia           Servicio Público       Inversión   \n",
       "1048533  1    Antioquia                   deportes       Inversión   \n",
       "1048546  1    Antioquia  Salud y Protección Social  Funcionamiento   \n",
       "1048558  1    Antioquia            Ley de Justicia  Funcionamiento   \n",
       "1048564  1    Antioquia                 Planeación       Inversión   \n",
       "\n",
       "         Valor del Contrato Fecha de Inicio del Contrato  \n",
       "4              4.716755e+07          2015-05-11 00:00:00  \n",
       "17             9.137397e+09          2016-01-04 00:00:00  \n",
       "607            4.957704e+07          2016-07-10 00:00:00  \n",
       "733            3.360281e+07          2016-09-09 00:00:00  \n",
       "1384           2.020000e+06          2017-01-06 00:00:00  \n",
       "...                     ...                          ...  \n",
       "1048532        5.058182e+07                          NaN  \n",
       "1048533        0.000000e+00                          NaN  \n",
       "1048546        6.500000e+07                          NaN  \n",
       "1048558        7.250863e+06                          NaN  \n",
       "1048564        1.414018e+08                          NaN  \n",
       "\n",
       "[63385 rows x 6 columns]"
      ]
     },
     "execution_count": 64,
     "metadata": {},
     "output_type": "execute_result"
    }
   ],
   "source": [
    "punto4.dtypes\n",
    "punto4.value_counts('Departamento')\n",
    "Departamento_Antioquia =punto4[punto4['Departamento'] =='Antioquia']\n",
    "Departamento_Antioquia"
   ]
  },
  {
   "cell_type": "code",
   "execution_count": 65,
   "id": "3087b8bf",
   "metadata": {},
   "outputs": [
    {
     "data": {
      "image/png": "[encoded data removed]",
      "text/plain": [
       "<Figure size 216x648 with 1 Axes>"
      ]
     },
     "metadata": {},
     "output_type": "display_data"
    }
   ],
   "source": [
    "etiquetas = [\"Educación Nacional\",\"Servicio Público\",\"Trabajo\",\"otros 17 sectores\"] \n",
    "porcentas = [11624,8715,7494,35552]\n",
    "plt.pie(porcentas,labels = etiquetas, radius = 2,\n",
    "        startangle=70, autopct = '%1.1f%%')\n",
    "plt.show()\n"
   ]
  },
  {
   "cell_type": "code",
   "execution_count": 66,
   "id": "a1717b40",
   "metadata": {},
   "outputs": [
    {
     "data": {
      "image/png": "[encoded data removed]",
      "text/plain": [
       "<Figure size 360x720 with 1 Axes>"
      ]
     },
     "metadata": {},
     "output_type": "display_data"
    }
   ],
   "source": [
    "len(Departamento_Antioquia['Destino Gasto'])\n",
    "fig, ax= plt.subplots( figsize=(5,10))\n",
    "plt.xticks(rotation=90,color='black',horizontalalignment=\"center\")\n",
    "ax = sns.countplot(x=\"Destino Gasto\", color = 'blue', data=Departamento_Antioquia)\n",
    "sns.set(rc={'figure.figsize':(3,9)})\n",
    "for p in ax.patches:\n",
    "    height = p.get_height()\n",
    "    ax.text(p.get_x()+p.get_width()/2., height ,'{:0.0f}'.format((height)), ha=\"center\")     "
   ]
  },
  {
   "cell_type": "markdown",
   "id": "43d9431d",
   "metadata": {},
   "source": [
    "El Departamento de Antioquia suscribió 63.385 contratos, donde se evidenció que los tres (3) sectores más representativos con el 44% son Educación Nacional, Servicio Público y Trabajo. \n",
    "\n",
    "Por otra parte, los contratos suscritos en Antioquia se registraron el 56% se destinaron para inversión, es decir, 35.692\n",
    "Nota: 878 contratos no registraron el destino del gasto.\n"
   ]
  },
  {
   "cell_type": "markdown",
   "id": "dcabb760",
   "metadata": {},
   "source": [
    "#### - Departamento Santander"
   ]
  },
  {
   "cell_type": "code",
   "execution_count": 67,
   "id": "fe1d2291",
   "metadata": {},
   "outputs": [
    {
     "data": {
      "text/html": [
       "<div>\n",
       "<style scoped>\n",
       "    .dataframe tbody tr th:only-of-type {\n",
       "        vertical-align: middle;\n",
       "    }\n",
       "\n",
       "    .dataframe tbody tr th {\n",
       "        vertical-align: top;\n",
       "    }\n",
       "\n",
       "    .dataframe thead th {\n",
       "        text-align: right;\n",
       "    }\n",
       "</style>\n",
       "<table border=\"1\" class=\"dataframe\">\n",
       "  <thead>\n",
       "    <tr style=\"text-align: right;\">\n",
       "      <th></th>\n",
       "      <th>N</th>\n",
       "      <th>Departamento</th>\n",
       "      <th>Sector</th>\n",
       "      <th>Destino Gasto</th>\n",
       "      <th>Valor del Contrato</th>\n",
       "      <th>Fecha de Inicio del Contrato</th>\n",
       "    </tr>\n",
       "  </thead>\n",
       "  <tbody>\n",
       "    <tr>\n",
       "      <th>810</th>\n",
       "      <td>1</td>\n",
       "      <td>Santander</td>\n",
       "      <td>No aplica/No pertenece</td>\n",
       "      <td>Funcionamiento</td>\n",
       "      <td>1.233000e+07</td>\n",
       "      <td>2016-11-03 00:00:00</td>\n",
       "    </tr>\n",
       "    <tr>\n",
       "      <th>1076</th>\n",
       "      <td>1</td>\n",
       "      <td>Santander</td>\n",
       "      <td>Servicio Público</td>\n",
       "      <td>Funcionamiento</td>\n",
       "      <td>1.500000e+07</td>\n",
       "      <td>2017-01-02 00:00:00</td>\n",
       "    </tr>\n",
       "    <tr>\n",
       "      <th>1085</th>\n",
       "      <td>1</td>\n",
       "      <td>Santander</td>\n",
       "      <td>Servicio Público</td>\n",
       "      <td>Inversión</td>\n",
       "      <td>1.500000e+07</td>\n",
       "      <td>2017-01-02 00:00:00</td>\n",
       "    </tr>\n",
       "    <tr>\n",
       "      <th>1107</th>\n",
       "      <td>1</td>\n",
       "      <td>Santander</td>\n",
       "      <td>Servicio Público</td>\n",
       "      <td>Inversión</td>\n",
       "      <td>1.000000e+07</td>\n",
       "      <td>2017-01-02 00:00:00</td>\n",
       "    </tr>\n",
       "    <tr>\n",
       "      <th>1115</th>\n",
       "      <td>1</td>\n",
       "      <td>Santander</td>\n",
       "      <td>Servicio Público</td>\n",
       "      <td>Inversión</td>\n",
       "      <td>1.800000e+07</td>\n",
       "      <td>2017-01-02 00:00:00</td>\n",
       "    </tr>\n",
       "    <tr>\n",
       "      <th>...</th>\n",
       "      <td>...</td>\n",
       "      <td>...</td>\n",
       "      <td>...</td>\n",
       "      <td>...</td>\n",
       "      <td>...</td>\n",
       "      <td>...</td>\n",
       "    </tr>\n",
       "    <tr>\n",
       "      <th>1048463</th>\n",
       "      <td>1</td>\n",
       "      <td>Santander</td>\n",
       "      <td>Servicio Público</td>\n",
       "      <td>Inversión</td>\n",
       "      <td>1.288800e+09</td>\n",
       "      <td>NaN</td>\n",
       "    </tr>\n",
       "    <tr>\n",
       "      <th>1048470</th>\n",
       "      <td>1</td>\n",
       "      <td>Santander</td>\n",
       "      <td>Servicio Público</td>\n",
       "      <td>Inversión</td>\n",
       "      <td>1.750000e+07</td>\n",
       "      <td>NaN</td>\n",
       "    </tr>\n",
       "    <tr>\n",
       "      <th>1048541</th>\n",
       "      <td>1</td>\n",
       "      <td>Santander</td>\n",
       "      <td>defensa</td>\n",
       "      <td>Funcionamiento</td>\n",
       "      <td>3.843840e+07</td>\n",
       "      <td>NaN</td>\n",
       "    </tr>\n",
       "    <tr>\n",
       "      <th>1048554</th>\n",
       "      <td>1</td>\n",
       "      <td>Santander</td>\n",
       "      <td>Salud y Protección Social</td>\n",
       "      <td>Funcionamiento</td>\n",
       "      <td>2.200000e+06</td>\n",
       "      <td>NaN</td>\n",
       "    </tr>\n",
       "    <tr>\n",
       "      <th>1048559</th>\n",
       "      <td>1</td>\n",
       "      <td>Santander</td>\n",
       "      <td>Servicio Público</td>\n",
       "      <td>Inversión</td>\n",
       "      <td>8.000000e+06</td>\n",
       "      <td>NaN</td>\n",
       "    </tr>\n",
       "  </tbody>\n",
       "</table>\n",
       "<p>39743 rows × 6 columns</p>\n",
       "</div>"
      ],
      "text/plain": [
       "         N Departamento                     Sector   Destino Gasto  \\\n",
       "810      1    Santander     No aplica/No pertenece  Funcionamiento   \n",
       "1076     1    Santander           Servicio Público  Funcionamiento   \n",
       "1085     1    Santander           Servicio Público       Inversión   \n",
       "1107     1    Santander           Servicio Público       Inversión   \n",
       "1115     1    Santander           Servicio Público       Inversión   \n",
       "...     ..          ...                        ...             ...   \n",
       "1048463  1    Santander           Servicio Público       Inversión   \n",
       "1048470  1    Santander           Servicio Público       Inversión   \n",
       "1048541  1    Santander                    defensa  Funcionamiento   \n",
       "1048554  1    Santander  Salud y Protección Social  Funcionamiento   \n",
       "1048559  1    Santander           Servicio Público       Inversión   \n",
       "\n",
       "         Valor del Contrato Fecha de Inicio del Contrato  \n",
       "810            1.233000e+07          2016-11-03 00:00:00  \n",
       "1076           1.500000e+07          2017-01-02 00:00:00  \n",
       "1085           1.500000e+07          2017-01-02 00:00:00  \n",
       "1107           1.000000e+07          2017-01-02 00:00:00  \n",
       "1115           1.800000e+07          2017-01-02 00:00:00  \n",
       "...                     ...                          ...  \n",
       "1048463        1.288800e+09                          NaN  \n",
       "1048470        1.750000e+07                          NaN  \n",
       "1048541        3.843840e+07                          NaN  \n",
       "1048554        2.200000e+06                          NaN  \n",
       "1048559        8.000000e+06                          NaN  \n",
       "\n",
       "[39743 rows x 6 columns]"
      ]
     },
     "execution_count": 67,
     "metadata": {},
     "output_type": "execute_result"
    }
   ],
   "source": [
    "punto4.dtypes\n",
    "punto4.value_counts('Departamento')\n",
    "Departamento_Santander =punto4[punto4['Departamento'] =='Santander']\n",
    "Departamento_Santander"
   ]
  },
  {
   "cell_type": "code",
   "execution_count": 68,
   "id": "42efc762",
   "metadata": {},
   "outputs": [
    {
     "data": {
      "image/png": "[encoded data removed]",
      "text/plain": [
       "<Figure size 216x648 with 1 Axes>"
      ]
     },
     "metadata": {},
     "output_type": "display_data"
    }
   ],
   "source": [
    "etiquetas = [\"Servicio Público\",\"Trabajo\",\"No aplica/No pertenece\",\"otros 13 sectores\"] \n",
    "porcentas = [17161,5168,3872,26201]\n",
    "plt.pie(porcentas,labels = etiquetas, radius = 2,\n",
    "        startangle=70, autopct = '%1.1f%%')\n",
    "plt.show()\n"
   ]
  },
  {
   "cell_type": "code",
   "execution_count": 69,
   "id": "1a49e7ee",
   "metadata": {},
   "outputs": [
    {
     "data": {
      "image/png": "[encoded data removed]",
      "text/plain": [
       "<Figure size 360x720 with 1 Axes>"
      ]
     },
     "metadata": {},
     "output_type": "display_data"
    }
   ],
   "source": [
    "len(Departamento_Santander['Destino Gasto'])\n",
    "fig, ax= plt.subplots( figsize=(5,10))\n",
    "plt.xticks(rotation=90,color='black',horizontalalignment=\"center\")\n",
    "ax = sns.countplot(x=\"Destino Gasto\", color = 'blue', data=Departamento_Santander)\n",
    "sns.set(rc={'figure.figsize':(3,9)})\n",
    "for p in ax.patches:\n",
    "    height = p.get_height()\n",
    "    ax.text(p.get_x()+p.get_width()/2., height ,'{:0.0f}'.format((height)), ha=\"center\")    "
   ]
  },
  {
   "cell_type": "markdown",
   "id": "ed7377a7",
   "metadata": {},
   "source": [
    "El Departamento de Santander suscribió 39.743 contratos, donde se evidenció que los tres (3) sectores más representativos con el 66% son Educación Nacional, Servicio Público y Trabajo. \n",
    "\n",
    "Por otra parte, los contratos suscritos en Santander se registraron el 71% se destinaron para inversión, es decir, 28.2532\n",
    "Nota: 427 contratos no registraron el destino del gasto."
   ]
  },
  {
   "cell_type": "markdown",
   "id": "db196ac8",
   "metadata": {},
   "source": [
    "#### - Departamento Atlántico"
   ]
  },
  {
   "cell_type": "code",
   "execution_count": 70,
   "id": "788a902b",
   "metadata": {},
   "outputs": [
    {
     "data": {
      "text/html": [
       "<div>\n",
       "<style scoped>\n",
       "    .dataframe tbody tr th:only-of-type {\n",
       "        vertical-align: middle;\n",
       "    }\n",
       "\n",
       "    .dataframe tbody tr th {\n",
       "        vertical-align: top;\n",
       "    }\n",
       "\n",
       "    .dataframe thead th {\n",
       "        text-align: right;\n",
       "    }\n",
       "</style>\n",
       "<table border=\"1\" class=\"dataframe\">\n",
       "  <thead>\n",
       "    <tr style=\"text-align: right;\">\n",
       "      <th></th>\n",
       "      <th>N</th>\n",
       "      <th>Departamento</th>\n",
       "      <th>Sector</th>\n",
       "      <th>Destino Gasto</th>\n",
       "      <th>Valor del Contrato</th>\n",
       "      <th>Fecha de Inicio del Contrato</th>\n",
       "    </tr>\n",
       "  </thead>\n",
       "  <tbody>\n",
       "    <tr>\n",
       "      <th>1289</th>\n",
       "      <td>1</td>\n",
       "      <td>Atlántico</td>\n",
       "      <td>defensa</td>\n",
       "      <td>Funcionamiento</td>\n",
       "      <td>338045633.0</td>\n",
       "      <td>2017-01-04 00:00:00</td>\n",
       "    </tr>\n",
       "    <tr>\n",
       "      <th>2118</th>\n",
       "      <td>1</td>\n",
       "      <td>Atlántico</td>\n",
       "      <td>defensa</td>\n",
       "      <td>Funcionamiento</td>\n",
       "      <td>5776437.0</td>\n",
       "      <td>2017-01-12 00:00:00</td>\n",
       "    </tr>\n",
       "    <tr>\n",
       "      <th>2399</th>\n",
       "      <td>1</td>\n",
       "      <td>Atlántico</td>\n",
       "      <td>defensa</td>\n",
       "      <td>Funcionamiento</td>\n",
       "      <td>2766780.0</td>\n",
       "      <td>2017-01-12 00:00:00</td>\n",
       "    </tr>\n",
       "    <tr>\n",
       "      <th>2889</th>\n",
       "      <td>1</td>\n",
       "      <td>Atlántico</td>\n",
       "      <td>Servicio Público</td>\n",
       "      <td>Inversión</td>\n",
       "      <td>33886559.0</td>\n",
       "      <td>2017-02-10 00:00:00</td>\n",
       "    </tr>\n",
       "    <tr>\n",
       "      <th>2894</th>\n",
       "      <td>1</td>\n",
       "      <td>Atlántico</td>\n",
       "      <td>defensa</td>\n",
       "      <td>Funcionamiento</td>\n",
       "      <td>5000000.0</td>\n",
       "      <td>2017-02-10 00:00:00</td>\n",
       "    </tr>\n",
       "    <tr>\n",
       "      <th>...</th>\n",
       "      <td>...</td>\n",
       "      <td>...</td>\n",
       "      <td>...</td>\n",
       "      <td>...</td>\n",
       "      <td>...</td>\n",
       "      <td>...</td>\n",
       "    </tr>\n",
       "    <tr>\n",
       "      <th>1048368</th>\n",
       "      <td>1</td>\n",
       "      <td>Atlántico</td>\n",
       "      <td>Transporte</td>\n",
       "      <td>Inversión</td>\n",
       "      <td>39680189.0</td>\n",
       "      <td>NaN</td>\n",
       "    </tr>\n",
       "    <tr>\n",
       "      <th>1048399</th>\n",
       "      <td>1</td>\n",
       "      <td>Atlántico</td>\n",
       "      <td>Información Estadística</td>\n",
       "      <td>Sin registro</td>\n",
       "      <td>NaN</td>\n",
       "      <td>NaN</td>\n",
       "    </tr>\n",
       "    <tr>\n",
       "      <th>1048498</th>\n",
       "      <td>1</td>\n",
       "      <td>Atlántico</td>\n",
       "      <td>Información Estadística</td>\n",
       "      <td>Sin registro</td>\n",
       "      <td>NaN</td>\n",
       "      <td>NaN</td>\n",
       "    </tr>\n",
       "    <tr>\n",
       "      <th>1048537</th>\n",
       "      <td>1</td>\n",
       "      <td>Atlántico</td>\n",
       "      <td>Servicio Público</td>\n",
       "      <td>Funcionamiento</td>\n",
       "      <td>3500000.0</td>\n",
       "      <td>NaN</td>\n",
       "    </tr>\n",
       "    <tr>\n",
       "      <th>1048552</th>\n",
       "      <td>1</td>\n",
       "      <td>Atlántico</td>\n",
       "      <td>defensa</td>\n",
       "      <td>Funcionamiento</td>\n",
       "      <td>5000000.0</td>\n",
       "      <td>NaN</td>\n",
       "    </tr>\n",
       "  </tbody>\n",
       "</table>\n",
       "<p>29215 rows × 6 columns</p>\n",
       "</div>"
      ],
      "text/plain": [
       "         N Departamento                   Sector   Destino Gasto  \\\n",
       "1289     1    Atlántico                  defensa  Funcionamiento   \n",
       "2118     1    Atlántico                  defensa  Funcionamiento   \n",
       "2399     1    Atlántico                  defensa  Funcionamiento   \n",
       "2889     1    Atlántico         Servicio Público       Inversión   \n",
       "2894     1    Atlántico                  defensa  Funcionamiento   \n",
       "...     ..          ...                      ...             ...   \n",
       "1048368  1    Atlántico               Transporte       Inversión   \n",
       "1048399  1    Atlántico  Información Estadística    Sin registro   \n",
       "1048498  1    Atlántico  Información Estadística    Sin registro   \n",
       "1048537  1    Atlántico         Servicio Público  Funcionamiento   \n",
       "1048552  1    Atlántico                  defensa  Funcionamiento   \n",
       "\n",
       "         Valor del Contrato Fecha de Inicio del Contrato  \n",
       "1289            338045633.0          2017-01-04 00:00:00  \n",
       "2118              5776437.0          2017-01-12 00:00:00  \n",
       "2399              2766780.0          2017-01-12 00:00:00  \n",
       "2889             33886559.0          2017-02-10 00:00:00  \n",
       "2894              5000000.0          2017-02-10 00:00:00  \n",
       "...                     ...                          ...  \n",
       "1048368          39680189.0                          NaN  \n",
       "1048399                 NaN                          NaN  \n",
       "1048498                 NaN                          NaN  \n",
       "1048537           3500000.0                          NaN  \n",
       "1048552           5000000.0                          NaN  \n",
       "\n",
       "[29215 rows x 6 columns]"
      ]
     },
     "execution_count": 70,
     "metadata": {},
     "output_type": "execute_result"
    }
   ],
   "source": [
    "punto4.dtypes\n",
    "punto4.value_counts('Departamento')\n",
    "Departamento_Atlántico =punto4[punto4['Departamento'] =='Atlántico']\n",
    "Departamento_Atlántico"
   ]
  },
  {
   "cell_type": "code",
   "execution_count": 71,
   "id": "29471427",
   "metadata": {},
   "outputs": [
    {
     "data": {
      "image/png": "[encoded data removed]",
      "text/plain": [
       "<Figure size 216x648 with 1 Axes>"
      ]
     },
     "metadata": {},
     "output_type": "display_data"
    }
   ],
   "source": [
    "etiquetas = [\"Servicio Público\",\"Información Estadística\",\"Educación Nacional\", \"otros sectores\"] \n",
    "porcentas = [14199,4289,2488,8239]\n",
    "plt.pie(porcentas,labels = etiquetas, radius = 2,\n",
    "        startangle=70, autopct = '%1.1f%%')\n",
    "plt.show()\n"
   ]
  },
  {
   "cell_type": "code",
   "execution_count": 72,
   "id": "51460089",
   "metadata": {},
   "outputs": [
    {
     "data": {
      "image/png": "[encoded data removed]",
      "text/plain": [
       "<Figure size 360x720 with 1 Axes>"
      ]
     },
     "metadata": {},
     "output_type": "display_data"
    }
   ],
   "source": [
    "len(Departamento_Atlántico['Destino Gasto'])\n",
    "fig, ax= plt.subplots( figsize=(5,10))\n",
    "plt.xticks(rotation=90,color='black',horizontalalignment=\"center\")\n",
    "ax = sns.countplot(x=\"Destino Gasto\", color = 'blue', data=Departamento_Atlántico)\n",
    "sns.set(rc={'figure.figsize':(3,9)})\n",
    "for p in ax.patches:\n",
    "    height = p.get_height()\n",
    "    ax.text(p.get_x()+p.get_width()/2., height ,'{:0.0f}'.format((height)), ha=\"center\")    "
   ]
  },
  {
   "cell_type": "markdown",
   "id": "5c3e3c02",
   "metadata": {},
   "source": [
    "El Departamento de Santander suscribió 39.743 contratos, donde se evidenció que los tres (3) sectores más representativos con el 66% son Educación Nacional, Servicio Público y Trabajo. \n",
    "\n",
    "Por otra parte, los contratos suscritos en Santander se registraron el 60% se destinaron para inversión, es decir, 17.747\n",
    "Nota: 567 contratos no registraron el destino del gasto."
   ]
  },
  {
   "cell_type": "markdown",
   "id": "c54d04a6",
   "metadata": {},
   "source": [
    "## Ejercicio 5"
   ]
  },
  {
   "cell_type": "markdown",
   "id": "91189f5a",
   "metadata": {},
   "source": [
    "Incluya lo anterior en el mini aplicativo del Ejercicio 2."
   ]
  },
  {
   "cell_type": "code",
   "execution_count": 73,
   "id": "ad997a74",
   "metadata": {},
   "outputs": [],
   "source": [
    "punto4['Fecha de Inicio del Contrato']=pd.to_datetime(punto4['Fecha de Inicio del Contrato'], errors='coerce')  #Cómo convertir la columna del DataFrame a Datetime\n",
    "punto4['año']=punto4['Fecha de Inicio del Contrato'].dt.to_period('y')\n",
    "punto4['año']=[str(i) for i in punto4['año']] #Vb año en string "
   ]
  },
  {
   "cell_type": "code",
   "execution_count": 74,
   "id": "cb0938cd",
   "metadata": {},
   "outputs": [
    {
     "name": "stdout",
     "output_type": "stream",
     "text": [
      "\u001b[1m\u001b[34mBienvenidos al aplicativo de consulta\n",
      "                   \n"
     ]
    },
    {
     "data": {
      "application/vnd.jupyter.widget-view+json": {
       "model_id": "8124de6ee6c944f9ba398b087cda6c56",
       "version_major": 2,
       "version_minor": 0
      },
      "text/plain": [
       "interactive(children=(Dropdown(description='Periodo', options=('2008', '2010', '2015', '2016', '2017', '2018',…"
      ]
     },
     "metadata": {},
     "output_type": "display_data"
    },
    {
     "data": {
      "text/plain": [
       "<function __main__.Nro_contrato(Periodo, Region, Gasto, Sector)>"
      ]
     },
     "execution_count": 74,
     "metadata": {},
     "output_type": "execute_result"
    }
   ],
   "source": [
    "# construcción filtro y consulta en el miniaplicativo\n",
    "print(Style.BRIGHT+Fore.BLUE+\"Bienvenidos al aplicativo de consulta\") \n",
    "time.sleep(1)  #tiempo de 2 segundos para ejecutar la siguiente linea\n",
    "print('                   ') #separa los parrafos\n",
    "Periodo = widgets.Dropdown(description='Periodo', value='2008',\n",
    "    options=punto4['año'].unique().tolist())\n",
    "\n",
    "Region = widgets.Dropdown(description='Region', value='Distrito Capital de Bogotá',\n",
    "    options=punto4['Departamento'].unique().tolist())\n",
    "\n",
    "Gasto = widgets.Dropdown(description='Gasto', value='Inversión',\n",
    "    options=punto4['Destino Gasto'].unique().tolist())\n",
    "\n",
    "Sector = widgets.Dropdown(description='Sector', value='Cultura',\n",
    "    options=punto4['Sector'].unique().tolist())\n",
    "\n",
    "def Nro_contrato(Periodo, Region, Gasto, Sector):\n",
    "    x=punto4[punto4['año']== Periodo]\n",
    "    x=x[x['Departamento']== Region]\n",
    "    x=x[x['Destino Gasto']== Gasto]\n",
    "    x=x[x['Sector']== Sector]\n",
    "    Nro= x['N'].sum()\n",
    "    v= x['Valor del Contrato'].sum()\n",
    "    y= x['Sector']\n",
    "        \n",
    "    print('Para el año', Periodo, 'se registró', Nro , 'contrato(s) sucrito(s)  por la Región', Region, 'y con destino a un gasto de', Gasto)\n",
    "\n",
    "interact(Nro_contrato, Periodo=Periodo, Region=Region, Gasto=Gasto, Sector=Sector)\n",
    "\n"
   ]
  },
  {
   "cell_type": "markdown",
   "id": "97957abd",
   "metadata": {},
   "source": [
    "Otro miniaplicativo, detallando la consulta por sector:"
   ]
  },
  {
   "cell_type": "code",
   "execution_count": 75,
   "id": "b15f7074",
   "metadata": {},
   "outputs": [
    {
     "name": "stdout",
     "output_type": "stream",
     "text": [
      "\u001b[1m\u001b[34mBienvenidos al aplicativo de consulta\n",
      "                   \n"
     ]
    },
    {
     "data": {
      "application/vnd.jupyter.widget-view+json": {
       "model_id": "96e11f41fecc4711855b79328ceb9df2",
       "version_major": 2,
       "version_minor": 0
      },
      "text/plain": [
       "interactive(children=(Dropdown(description='Periodo', options=('2008', '2010', '2015', '2016', '2017', '2018',…"
      ]
     },
     "metadata": {},
     "output_type": "display_data"
    },
    {
     "data": {
      "text/plain": [
       "<function __main__.Nro_contrato(Periodo, Region, Gasto)>"
      ]
     },
     "execution_count": 75,
     "metadata": {},
     "output_type": "execute_result"
    }
   ],
   "source": [
    "# construcción filtro y consulta en el miniaplicativo\n",
    "print(Style.BRIGHT+Fore.BLUE+\"Bienvenidos al aplicativo de consulta\") \n",
    "time.sleep(1)  #tiempo de 2 segundos para ejecutar la siguiente linea\n",
    "print('                   ') #separa los parrafos\n",
    "Periodo = widgets.Dropdown(description='Periodo', value='2008',\n",
    "    options=punto4['año'].unique().tolist())\n",
    "\n",
    "Region = widgets.Dropdown(description='Region', value='Distrito Capital de Bogotá',\n",
    "    options=punto4['Departamento'].unique().tolist())\n",
    "\n",
    "Gasto = widgets.Dropdown(description='Gasto', value='Inversión',\n",
    "    options=punto4['Destino Gasto'].unique().tolist())\n",
    "\n",
    "\n",
    "def Nro_contrato(Periodo, Region, Gasto):\n",
    "    x=punto4[punto4['año']== Periodo]\n",
    "    x=x[x['Departamento']== Region]\n",
    "    x=x[x['Destino Gasto']== Gasto]\n",
    "    Nro= x['N'].sum()\n",
    "    v= x['Valor del Contrato'].sum()\n",
    "    y= x['Sector']\n",
    "        \n",
    "    print('Para el año', Periodo, 'se registró', Nro , 'contrato(s) sucrito(s)  por la Región', Region, 'y con destino a un gasto de', Gasto, '. Para los siguientes sectores:'\n",
    "         '                                                                                       ',\n",
    "         '                                                                                       ',\n",
    "          y)\n",
    "\n",
    "interact(Nro_contrato, Periodo=Periodo, Region=Region, Gasto=Gasto)\n",
    "\n"
   ]
  }
 ],
 "metadata": {
  "kernelspec": {
   "display_name": "Python 3",
   "language": "python",
   "name": "python3"
  },
  "language_info": {
   "codemirror_mode": {
    "name": "ipython",
    "version": 3
   },
   "file_extension": ".py",
   "mimetype": "text/x-python",
   "name": "python",
   "nbconvert_exporter": "python",
   "pygments_lexer": "ipython3",
   "version": "3.8.8"
  }
 },
 "nbformat": 4,
 "nbformat_minor": 5
}
