{
 "cells": [
  {
   "cell_type": "markdown",
   "metadata": {},
   "source": [
    "### <center><h1>Universidad Externado de Colombia </center></h1>\n",
    "#### <center><h1>Analisis de la Contratación Estatal en Diferentes Departamentos de Colombia </center></h1>\n",
    " "
   ]
  },
  {
   "cell_type": "markdown",
   "metadata": {},
   "source": [
    "#### <center><h1> Anjely Amazo, Julieth Perea y Liliana Hernandez <center><h1> "
   ]
  },
  {
   "cell_type": "markdown",
   "metadata": {},
   "source": [
    "<img alt=\"\" src=\"http://www.eafit.edu.co/cec/Documents/newsletter/img/julio2016/guia%20academica/Banner_Contratacion_Estatal.png\" align=\"center\" style=\"height: 80%;\">\n",
    "<div style=\"text-align: center;\">"
   ]
  },
  {
   "cell_type": "markdown",
   "metadata": {},
   "source": [
    "## Introduccion\n",
    "A continuacion presentaremos un analisis del comportamiento de los departamentos en Colombia frente a la contratación estatal. Este analisis se hace con el objetivo de conocer el comportamiento de las diferentes variables que contiene la base de datos y presentar unas conclusiones finales que sirvan para conocer el comportamiento de los diferentes territorios"
   ]
  },
  {
   "cell_type": "markdown",
   "metadata": {},
   "source": [
    "La fuente de nuestra base de datos la encontramos en el siguiente enlace:"
   ]
  },
  {
   "cell_type": "markdown",
   "metadata": {},
   "source": [
    " https://www.datos.gov.co/es/Gastos-Gubernamentales/SECOP-II-Contratos-Electr-nicos/jbjy-vk9h/data\n"
   ]
  },
  {
   "cell_type": "markdown",
   "metadata": {},
   "source": [
    "A continuación se muestran las librerias que usaremos para el analisis:\n",
    "    "
   ]
  },
  {
   "cell_type": "code",
   "execution_count": 1,
   "metadata": {
    "scrolled": true
   },
   "outputs": [],
   "source": [
    "#instalar librerias\n",
    "import sodapy\n",
    "import matplotlib.pyplot as plt\n",
    "import plotly.express as px\n",
    "import pandas as pd\n",
    "from sodapy import Socrata\n"
   ]
  },
  {
   "cell_type": "markdown",
   "metadata": {},
   "source": [
    "Descargamos la base completa de SECOP"
   ]
  },
  {
   "cell_type": "code",
   "execution_count": 3,
   "metadata": {},
   "outputs": [],
   "source": [
    "usuario= 'lphernandezroa@hotmail.com'\n",
    "pssw= '**********'"
   ]
  },
  {
   "cell_type": "code",
   "execution_count": null,
   "metadata": {},
   "outputs": [],
   "source": [
    "client = Socrata('www.datos.gov.co',\n",
    "                  'aPduKkjSfS3LatOJfLoDjhgpG',\n",
    "                  username=usuario,\n",
    "                  password=pssw)\n",
    "\n",
    "# Returned as JSON from API / converted to Python list of dictionaries by sodapy.\n",
    "results = client.get(\"jbjy-vk9h\", limit=1500000)\n",
    "\n",
    "# Convert to pandas DataFrame\n",
    "results_df = pd.DataFrame.from_records(results)"
   ]
  },
  {
   "cell_type": "markdown",
   "metadata": {},
   "source": [
    "### Haciendo un analisis preliminar de la base"
   ]
  },
  {
   "cell_type": "code",
   "execution_count": 11,
   "metadata": {},
   "outputs": [
    {
     "data": {
      "text/plain": [
       "'Primeros 3 registros'"
      ]
     },
     "metadata": {},
     "output_type": "display_data"
    },
    {
     "data": {
      "text/html": [
       "<div>\n",
       "<style scoped>\n",
       "    .dataframe tbody tr th:only-of-type {\n",
       "        vertical-align: middle;\n",
       "    }\n",
       "\n",
       "    .dataframe tbody tr th {\n",
       "        vertical-align: top;\n",
       "    }\n",
       "\n",
       "    .dataframe thead th {\n",
       "        text-align: right;\n",
       "    }\n",
       "</style>\n",
       "<table border=\"1\" class=\"dataframe\">\n",
       "  <thead>\n",
       "    <tr style=\"text-align: right;\">\n",
       "      <th></th>\n",
       "      <th>anno_bpin</th>\n",
       "      <th>c_digo_bpin</th>\n",
       "      <th>ciudad</th>\n",
       "      <th>codigo_de_categoria_principal</th>\n",
       "      <th>codigo_entidad</th>\n",
       "      <th>codigo_proveedor</th>\n",
       "      <th>condiciones_de_entrega</th>\n",
       "      <th>departamento</th>\n",
       "      <th>descripcion_del_proceso</th>\n",
       "      <th>destino_gasto</th>\n",
       "      <th>...</th>\n",
       "      <th>ultima_actualizacion</th>\n",
       "      <th>urlproceso</th>\n",
       "      <th>valor_amortizado</th>\n",
       "      <th>valor_de_pago_adelantado</th>\n",
       "      <th>valor_del_contrato</th>\n",
       "      <th>valor_facturado</th>\n",
       "      <th>valor_pagado</th>\n",
       "      <th>valor_pendiente_de</th>\n",
       "      <th>valor_pendiente_de_ejecucion</th>\n",
       "      <th>valor_pendiente_de_pago</th>\n",
       "    </tr>\n",
       "  </thead>\n",
       "  <tbody>\n",
       "    <tr>\n",
       "      <th>0</th>\n",
       "      <td>2018</td>\n",
       "      <td>No Definido</td>\n",
       "      <td>Caldas</td>\n",
       "      <td>V1.80111601</td>\n",
       "      <td>704161553</td>\n",
       "      <td>708133640</td>\n",
       "      <td>Transporte incluido</td>\n",
       "      <td>Antioquia</td>\n",
       "      <td>prestar los servicios profesionales de carácte...</td>\n",
       "      <td>Funcionamiento</td>\n",
       "      <td>...</td>\n",
       "      <td>2020-12-31T00:00:00.000</td>\n",
       "      <td>{'url': 'https://community.secop.gov.co/Public...</td>\n",
       "      <td>0</td>\n",
       "      <td>0</td>\n",
       "      <td>36962200</td>\n",
       "      <td>36962200</td>\n",
       "      <td>36962200</td>\n",
       "      <td>0</td>\n",
       "      <td>0</td>\n",
       "      <td>0</td>\n",
       "    </tr>\n",
       "    <tr>\n",
       "      <th>1</th>\n",
       "      <td>2019</td>\n",
       "      <td>No Definido</td>\n",
       "      <td>Bogotá</td>\n",
       "      <td>V1.80111701</td>\n",
       "      <td>702730482</td>\n",
       "      <td>703349027</td>\n",
       "      <td>A convenir</td>\n",
       "      <td>Distrito Capital de Bogotá</td>\n",
       "      <td>PRESTAR SERVICIOS DE APOYO A LA GESTION ASISTE...</td>\n",
       "      <td>Funcionamiento</td>\n",
       "      <td>...</td>\n",
       "      <td>2021-07-10T00:00:00.000</td>\n",
       "      <td>{'url': 'https://community.secop.gov.co/Public...</td>\n",
       "      <td>0</td>\n",
       "      <td>0</td>\n",
       "      <td>3100000</td>\n",
       "      <td>0</td>\n",
       "      <td>0</td>\n",
       "      <td>0</td>\n",
       "      <td>3100000</td>\n",
       "      <td>3100000</td>\n",
       "    </tr>\n",
       "    <tr>\n",
       "      <th>2</th>\n",
       "      <td>2021</td>\n",
       "      <td>2021666820035</td>\n",
       "      <td>Santa Rosa De Cabal</td>\n",
       "      <td>V1.80121601</td>\n",
       "      <td>705489250</td>\n",
       "      <td>715030144</td>\n",
       "      <td>A convenir</td>\n",
       "      <td>Risaralda</td>\n",
       "      <td>Prestación de servicios profesionales como abo...</td>\n",
       "      <td>Inversión</td>\n",
       "      <td>...</td>\n",
       "      <td>2021-11-03T00:00:00.000</td>\n",
       "      <td>{'url': 'https://community.secop.gov.co/Public...</td>\n",
       "      <td>0</td>\n",
       "      <td>0</td>\n",
       "      <td>7572000</td>\n",
       "      <td>0</td>\n",
       "      <td>0</td>\n",
       "      <td>0</td>\n",
       "      <td>7572000</td>\n",
       "      <td>7572000</td>\n",
       "    </tr>\n",
       "  </tbody>\n",
       "</table>\n",
       "<p>3 rows × 70 columns</p>\n",
       "</div>"
      ],
      "text/plain": [
       "  anno_bpin    c_digo_bpin               ciudad codigo_de_categoria_principal  \\\n",
       "0      2018    No Definido               Caldas                   V1.80111601   \n",
       "1      2019    No Definido               Bogotá                   V1.80111701   \n",
       "2      2021  2021666820035  Santa Rosa De Cabal                   V1.80121601   \n",
       "\n",
       "  codigo_entidad codigo_proveedor condiciones_de_entrega  \\\n",
       "0      704161553        708133640    Transporte incluido   \n",
       "1      702730482        703349027             A convenir   \n",
       "2      705489250        715030144             A convenir   \n",
       "\n",
       "                 departamento  \\\n",
       "0                   Antioquia   \n",
       "1  Distrito Capital de Bogotá   \n",
       "2                   Risaralda   \n",
       "\n",
       "                             descripcion_del_proceso   destino_gasto  \\\n",
       "0  prestar los servicios profesionales de carácte...  Funcionamiento   \n",
       "1  PRESTAR SERVICIOS DE APOYO A LA GESTION ASISTE...  Funcionamiento   \n",
       "2  Prestación de servicios profesionales como abo...       Inversión   \n",
       "\n",
       "            ...               ultima_actualizacion  \\\n",
       "0           ...            2020-12-31T00:00:00.000   \n",
       "1           ...            2021-07-10T00:00:00.000   \n",
       "2           ...            2021-11-03T00:00:00.000   \n",
       "\n",
       "                                          urlproceso valor_amortizado  \\\n",
       "0  {'url': 'https://community.secop.gov.co/Public...                0   \n",
       "1  {'url': 'https://community.secop.gov.co/Public...                0   \n",
       "2  {'url': 'https://community.secop.gov.co/Public...                0   \n",
       "\n",
       "  valor_de_pago_adelantado valor_del_contrato valor_facturado valor_pagado  \\\n",
       "0                        0           36962200        36962200     36962200   \n",
       "1                        0            3100000               0            0   \n",
       "2                        0            7572000               0            0   \n",
       "\n",
       "  valor_pendiente_de valor_pendiente_de_ejecucion valor_pendiente_de_pago  \n",
       "0                  0                            0                       0  \n",
       "1                  0                      3100000                 3100000  \n",
       "2                  0                      7572000                 7572000  \n",
       "\n",
       "[3 rows x 70 columns]"
      ]
     },
     "metadata": {},
     "output_type": "display_data"
    }
   ],
   "source": [
    "display(\"Primeros 3 registros\",results_df.head(3))\n"
   ]
  },
  {
   "cell_type": "code",
   "execution_count": 12,
   "metadata": {},
   "outputs": [
    {
     "data": {
      "text/plain": [
       "'3 últimos registros'"
      ]
     },
     "metadata": {},
     "output_type": "display_data"
    },
    {
     "data": {
      "text/html": [
       "<div>\n",
       "<style scoped>\n",
       "    .dataframe tbody tr th:only-of-type {\n",
       "        vertical-align: middle;\n",
       "    }\n",
       "\n",
       "    .dataframe tbody tr th {\n",
       "        vertical-align: top;\n",
       "    }\n",
       "\n",
       "    .dataframe thead th {\n",
       "        text-align: right;\n",
       "    }\n",
       "</style>\n",
       "<table border=\"1\" class=\"dataframe\">\n",
       "  <thead>\n",
       "    <tr style=\"text-align: right;\">\n",
       "      <th></th>\n",
       "      <th>anno_bpin</th>\n",
       "      <th>c_digo_bpin</th>\n",
       "      <th>ciudad</th>\n",
       "      <th>codigo_de_categoria_principal</th>\n",
       "      <th>codigo_entidad</th>\n",
       "      <th>codigo_proveedor</th>\n",
       "      <th>condiciones_de_entrega</th>\n",
       "      <th>departamento</th>\n",
       "      <th>descripcion_del_proceso</th>\n",
       "      <th>destino_gasto</th>\n",
       "      <th>...</th>\n",
       "      <th>ultima_actualizacion</th>\n",
       "      <th>urlproceso</th>\n",
       "      <th>valor_amortizado</th>\n",
       "      <th>valor_de_pago_adelantado</th>\n",
       "      <th>valor_del_contrato</th>\n",
       "      <th>valor_facturado</th>\n",
       "      <th>valor_pagado</th>\n",
       "      <th>valor_pendiente_de</th>\n",
       "      <th>valor_pendiente_de_ejecucion</th>\n",
       "      <th>valor_pendiente_de_pago</th>\n",
       "    </tr>\n",
       "  </thead>\n",
       "  <tbody>\n",
       "    <tr>\n",
       "      <th>1305588</th>\n",
       "      <td>2021</td>\n",
       "      <td>2020110010074</td>\n",
       "      <td>No Definido</td>\n",
       "      <td>V1.80111600</td>\n",
       "      <td>700367014</td>\n",
       "      <td>703566422</td>\n",
       "      <td>Como acordado previamente</td>\n",
       "      <td>Distrito Capital de Bogotá</td>\n",
       "      <td>PRESTAR SERVICIOS PERSONALES COMO MANIPULADOR ...</td>\n",
       "      <td>Inversión</td>\n",
       "      <td>...</td>\n",
       "      <td>2021-12-09T00:00:00.000</td>\n",
       "      <td>{'url': 'https://community.secop.gov.co/Public...</td>\n",
       "      <td>0</td>\n",
       "      <td>0</td>\n",
       "      <td>17199000</td>\n",
       "      <td>0</td>\n",
       "      <td>0</td>\n",
       "      <td>0</td>\n",
       "      <td>17199000</td>\n",
       "      <td>17199000</td>\n",
       "    </tr>\n",
       "    <tr>\n",
       "      <th>1305589</th>\n",
       "      <td>2021</td>\n",
       "      <td>2020520010086</td>\n",
       "      <td>Pasto</td>\n",
       "      <td>V1.80111600</td>\n",
       "      <td>700694094</td>\n",
       "      <td>711110635</td>\n",
       "      <td>A convenir</td>\n",
       "      <td>Nariño</td>\n",
       "      <td>La contratista se compromete para con el Munic...</td>\n",
       "      <td>Inversión</td>\n",
       "      <td>...</td>\n",
       "      <td>2021-10-04T00:00:00.000</td>\n",
       "      <td>{'url': 'https://community.secop.gov.co/Public...</td>\n",
       "      <td>0</td>\n",
       "      <td>0</td>\n",
       "      <td>3000000</td>\n",
       "      <td>0</td>\n",
       "      <td>0</td>\n",
       "      <td>0</td>\n",
       "      <td>3000000</td>\n",
       "      <td>3000000</td>\n",
       "    </tr>\n",
       "    <tr>\n",
       "      <th>1305590</th>\n",
       "      <td>2018</td>\n",
       "      <td>No Definido</td>\n",
       "      <td>Cali</td>\n",
       "      <td>V1.80111501</td>\n",
       "      <td>704025808</td>\n",
       "      <td>705463891</td>\n",
       "      <td>Como acordado previamente</td>\n",
       "      <td>Valle del Cauca</td>\n",
       "      <td>Prestar los servicios Profesionales  con el fi...</td>\n",
       "      <td>Funcionamiento</td>\n",
       "      <td>...</td>\n",
       "      <td>2020-10-29T00:00:00.000</td>\n",
       "      <td>{'url': 'https://community.secop.gov.co/Public...</td>\n",
       "      <td>0</td>\n",
       "      <td>0</td>\n",
       "      <td>16879880</td>\n",
       "      <td>0</td>\n",
       "      <td>0</td>\n",
       "      <td>0</td>\n",
       "      <td>16879880</td>\n",
       "      <td>16879880</td>\n",
       "    </tr>\n",
       "  </tbody>\n",
       "</table>\n",
       "<p>3 rows × 70 columns</p>\n",
       "</div>"
      ],
      "text/plain": [
       "        anno_bpin    c_digo_bpin       ciudad codigo_de_categoria_principal  \\\n",
       "1305588      2021  2020110010074  No Definido                   V1.80111600   \n",
       "1305589      2021  2020520010086        Pasto                   V1.80111600   \n",
       "1305590      2018    No Definido         Cali                   V1.80111501   \n",
       "\n",
       "        codigo_entidad codigo_proveedor     condiciones_de_entrega  \\\n",
       "1305588      700367014        703566422  Como acordado previamente   \n",
       "1305589      700694094        711110635                 A convenir   \n",
       "1305590      704025808        705463891  Como acordado previamente   \n",
       "\n",
       "                       departamento  \\\n",
       "1305588  Distrito Capital de Bogotá   \n",
       "1305589                      Nariño   \n",
       "1305590             Valle del Cauca   \n",
       "\n",
       "                                   descripcion_del_proceso   destino_gasto  \\\n",
       "1305588  PRESTAR SERVICIOS PERSONALES COMO MANIPULADOR ...       Inversión   \n",
       "1305589  La contratista se compromete para con el Munic...       Inversión   \n",
       "1305590  Prestar los servicios Profesionales  con el fi...  Funcionamiento   \n",
       "\n",
       "                  ...               ultima_actualizacion  \\\n",
       "1305588           ...            2021-12-09T00:00:00.000   \n",
       "1305589           ...            2021-10-04T00:00:00.000   \n",
       "1305590           ...            2020-10-29T00:00:00.000   \n",
       "\n",
       "                                                urlproceso valor_amortizado  \\\n",
       "1305588  {'url': 'https://community.secop.gov.co/Public...                0   \n",
       "1305589  {'url': 'https://community.secop.gov.co/Public...                0   \n",
       "1305590  {'url': 'https://community.secop.gov.co/Public...                0   \n",
       "\n",
       "        valor_de_pago_adelantado valor_del_contrato valor_facturado  \\\n",
       "1305588                        0           17199000               0   \n",
       "1305589                        0            3000000               0   \n",
       "1305590                        0           16879880               0   \n",
       "\n",
       "        valor_pagado valor_pendiente_de valor_pendiente_de_ejecucion  \\\n",
       "1305588            0                  0                     17199000   \n",
       "1305589            0                  0                      3000000   \n",
       "1305590            0                  0                     16879880   \n",
       "\n",
       "        valor_pendiente_de_pago  \n",
       "1305588                17199000  \n",
       "1305589                 3000000  \n",
       "1305590                16879880  \n",
       "\n",
       "[3 rows x 70 columns]"
      ]
     },
     "metadata": {},
     "output_type": "display_data"
    }
   ],
   "source": [
    "display(\"3 últimos registros\",results_df.tail(3))"
   ]
  },
  {
   "cell_type": "code",
   "execution_count": 13,
   "metadata": {},
   "outputs": [
    {
     "data": {
      "text/plain": [
       "'Columnas:'"
      ]
     },
     "metadata": {},
     "output_type": "display_data"
    },
    {
     "data": {
      "text/plain": [
       "Index(['anno_bpin', 'c_digo_bpin', 'ciudad', 'codigo_de_categoria_principal',\n",
       "       'codigo_entidad', 'codigo_proveedor', 'condiciones_de_entrega',\n",
       "       'departamento', 'descripcion_del_proceso', 'destino_gasto',\n",
       "       'dias_adicionados', 'documento_proveedor', 'entidad_centralizada',\n",
       "       'es_grupo', 'es_pyme', 'espostconflicto', 'estado_bpin',\n",
       "       'estado_contrato', 'fecha_de_fin_de_ejecucion',\n",
       "       'fecha_de_fin_del_contrato', 'fecha_de_firma',\n",
       "       'fecha_de_inicio_de_ejecucion', 'fecha_de_inicio_del_contrato',\n",
       "       'fecha_fin_liquidacion', 'fecha_inicio_liquidacion',\n",
       "       'g_nero_representante_legal', 'habilita_pago_adelantado', 'id_contrato',\n",
       "       'identificaci_n_representante_legal', 'justificacion_modalidad_de',\n",
       "       'liquidaci_n', 'localizaci_n', 'modalidad_de_contratacion',\n",
       "       'nacionalidad_representante_legal', 'nit_entidad', 'nombre_entidad',\n",
       "       'nombre_representante_legal', 'obligaci_n_ambiental',\n",
       "       'obligaciones_postconsumo', 'orden', 'origen_de_los_recursos',\n",
       "       'pilares_del_acuerdo', 'presupuesto_general_de_la_nacion_pgn',\n",
       "       'proceso_de_compra', 'proveedor_adjudicado', 'puntos_del_acuerdo',\n",
       "       'rama', 'recursos_de_credito', 'recursos_propios',\n",
       "       'recursos_propios_alcald_as_gobernaciones_y_resguardos_ind_genas_',\n",
       "       'referencia_del_contrato', 'reversion', 'saldo_cdp', 'saldo_vigencia',\n",
       "       'sector', 'sistema_general_de_participaciones',\n",
       "       'sistema_general_de_regal_as', 'tipo_de_contrato',\n",
       "       'tipo_de_identificaci_n_representante_legal', 'tipodocproveedor',\n",
       "       'ultima_actualizacion', 'urlproceso', 'valor_amortizado',\n",
       "       'valor_de_pago_adelantado', 'valor_del_contrato', 'valor_facturado',\n",
       "       'valor_pagado', 'valor_pendiente_de', 'valor_pendiente_de_ejecucion',\n",
       "       'valor_pendiente_de_pago'],\n",
       "      dtype='object')"
      ]
     },
     "metadata": {},
     "output_type": "display_data"
    }
   ],
   "source": [
    "display(\"Columnas:\",results_df.columns)"
   ]
  },
  {
   "cell_type": "code",
   "execution_count": 6,
   "metadata": {},
   "outputs": [
    {
     "data": {
      "text/plain": [
       "'Índices:'"
      ]
     },
     "metadata": {},
     "output_type": "display_data"
    },
    {
     "data": {
      "text/plain": [
       "RangeIndex(start=0, stop=1305591, step=1)"
      ]
     },
     "metadata": {},
     "output_type": "display_data"
    }
   ],
   "source": [
    "display(\"Índices:\",results_df.index)"
   ]
  },
  {
   "cell_type": "code",
   "execution_count": 15,
   "metadata": {},
   "outputs": [
    {
     "data": {
      "text/plain": [
       "'Tipos de registros en el DataFrame'"
      ]
     },
     "metadata": {},
     "output_type": "display_data"
    },
    {
     "data": {
      "text/plain": [
       "anno_bpin                                                           object\n",
       "c_digo_bpin                                                         object\n",
       "ciudad                                                              object\n",
       "codigo_de_categoria_principal                                       object\n",
       "codigo_entidad                                                      object\n",
       "codigo_proveedor                                                    object\n",
       "condiciones_de_entrega                                              object\n",
       "departamento                                                        object\n",
       "descripcion_del_proceso                                             object\n",
       "destino_gasto                                                       object\n",
       "dias_adicionados                                                    object\n",
       "documento_proveedor                                                 object\n",
       "entidad_centralizada                                                object\n",
       "es_grupo                                                            object\n",
       "es_pyme                                                             object\n",
       "espostconflicto                                                     object\n",
       "estado_bpin                                                         object\n",
       "estado_contrato                                                     object\n",
       "fecha_de_fin_de_ejecucion                                           object\n",
       "fecha_de_fin_del_contrato                                           object\n",
       "fecha_de_firma                                                      object\n",
       "fecha_de_inicio_de_ejecucion                                        object\n",
       "fecha_de_inicio_del_contrato                                        object\n",
       "fecha_fin_liquidacion                                               object\n",
       "fecha_inicio_liquidacion                                            object\n",
       "g_nero_representante_legal                                          object\n",
       "habilita_pago_adelantado                                            object\n",
       "id_contrato                                                         object\n",
       "identificaci_n_representante_legal                                  object\n",
       "justificacion_modalidad_de                                          object\n",
       "                                                                     ...  \n",
       "origen_de_los_recursos                                              object\n",
       "pilares_del_acuerdo                                                 object\n",
       "presupuesto_general_de_la_nacion_pgn                                object\n",
       "proceso_de_compra                                                   object\n",
       "proveedor_adjudicado                                                object\n",
       "puntos_del_acuerdo                                                  object\n",
       "rama                                                                object\n",
       "recursos_de_credito                                                 object\n",
       "recursos_propios                                                    object\n",
       "recursos_propios_alcald_as_gobernaciones_y_resguardos_ind_genas_    object\n",
       "referencia_del_contrato                                             object\n",
       "reversion                                                           object\n",
       "saldo_cdp                                                           object\n",
       "saldo_vigencia                                                      object\n",
       "sector                                                              object\n",
       "sistema_general_de_participaciones                                  object\n",
       "sistema_general_de_regal_as                                         object\n",
       "tipo_de_contrato                                                    object\n",
       "tipo_de_identificaci_n_representante_legal                          object\n",
       "tipodocproveedor                                                    object\n",
       "ultima_actualizacion                                                object\n",
       "urlproceso                                                          object\n",
       "valor_amortizado                                                    object\n",
       "valor_de_pago_adelantado                                            object\n",
       "valor_del_contrato                                                  object\n",
       "valor_facturado                                                     object\n",
       "valor_pagado                                                        object\n",
       "valor_pendiente_de                                                  object\n",
       "valor_pendiente_de_ejecucion                                        object\n",
       "valor_pendiente_de_pago                                             object\n",
       "Length: 70, dtype: object"
      ]
     },
     "metadata": {},
     "output_type": "display_data"
    }
   ],
   "source": [
    "display(\"Tipos de registros en el DataFrame\",results_df.dtypes)"
   ]
  },
  {
   "cell_type": "code",
   "execution_count": 16,
   "metadata": {},
   "outputs": [
    {
     "data": {
      "text/plain": [
       "'Muestra aleatoria de 3 registros'"
      ]
     },
     "metadata": {},
     "output_type": "display_data"
    },
    {
     "data": {
      "text/html": [
       "<div>\n",
       "<style scoped>\n",
       "    .dataframe tbody tr th:only-of-type {\n",
       "        vertical-align: middle;\n",
       "    }\n",
       "\n",
       "    .dataframe tbody tr th {\n",
       "        vertical-align: top;\n",
       "    }\n",
       "\n",
       "    .dataframe thead th {\n",
       "        text-align: right;\n",
       "    }\n",
       "</style>\n",
       "<table border=\"1\" class=\"dataframe\">\n",
       "  <thead>\n",
       "    <tr style=\"text-align: right;\">\n",
       "      <th></th>\n",
       "      <th>anno_bpin</th>\n",
       "      <th>c_digo_bpin</th>\n",
       "      <th>ciudad</th>\n",
       "      <th>codigo_de_categoria_principal</th>\n",
       "      <th>codigo_entidad</th>\n",
       "      <th>codigo_proveedor</th>\n",
       "      <th>condiciones_de_entrega</th>\n",
       "      <th>departamento</th>\n",
       "      <th>descripcion_del_proceso</th>\n",
       "      <th>destino_gasto</th>\n",
       "      <th>...</th>\n",
       "      <th>ultima_actualizacion</th>\n",
       "      <th>urlproceso</th>\n",
       "      <th>valor_amortizado</th>\n",
       "      <th>valor_de_pago_adelantado</th>\n",
       "      <th>valor_del_contrato</th>\n",
       "      <th>valor_facturado</th>\n",
       "      <th>valor_pagado</th>\n",
       "      <th>valor_pendiente_de</th>\n",
       "      <th>valor_pendiente_de_ejecucion</th>\n",
       "      <th>valor_pendiente_de_pago</th>\n",
       "    </tr>\n",
       "  </thead>\n",
       "  <tbody>\n",
       "    <tr>\n",
       "      <th>207496</th>\n",
       "      <td>2021</td>\n",
       "      <td>2017011000189</td>\n",
       "      <td>Bogotá</td>\n",
       "      <td>V1.77101801</td>\n",
       "      <td>700696065</td>\n",
       "      <td>701116006</td>\n",
       "      <td>Como acordado previamente</td>\n",
       "      <td>Distrito Capital de Bogotá</td>\n",
       "      <td>PRESTAR LOS SERVICIOS PROFESIONALES PARA REALI...</td>\n",
       "      <td>Inversión</td>\n",
       "      <td>...</td>\n",
       "      <td>2021-11-08T00:00:00.000</td>\n",
       "      <td>{'url': 'https://community.secop.gov.co/Public...</td>\n",
       "      <td>0</td>\n",
       "      <td>0</td>\n",
       "      <td>31000000</td>\n",
       "      <td>0</td>\n",
       "      <td>0</td>\n",
       "      <td>0</td>\n",
       "      <td>31000000</td>\n",
       "      <td>31000000</td>\n",
       "    </tr>\n",
       "    <tr>\n",
       "      <th>824953</th>\n",
       "      <td>2020</td>\n",
       "      <td>2017004540382</td>\n",
       "      <td>Cúcuta</td>\n",
       "      <td>V1.81101500</td>\n",
       "      <td>709391528</td>\n",
       "      <td>711082362</td>\n",
       "      <td>Como acordado previamente</td>\n",
       "      <td>Norte de Santander</td>\n",
       "      <td>EL CONTRATISTA SE OBLIGA PARA CON EL DEPARTAME...</td>\n",
       "      <td>Inversión</td>\n",
       "      <td>...</td>\n",
       "      <td>2021-12-10T00:00:00.000</td>\n",
       "      <td>{'url': 'https://community.secop.gov.co/Public...</td>\n",
       "      <td>0</td>\n",
       "      <td>0</td>\n",
       "      <td>9600000</td>\n",
       "      <td>9600000</td>\n",
       "      <td>9600000</td>\n",
       "      <td>0</td>\n",
       "      <td>9600000</td>\n",
       "      <td>0</td>\n",
       "    </tr>\n",
       "    <tr>\n",
       "      <th>733106</th>\n",
       "      <td>2020</td>\n",
       "      <td>11001000001190</td>\n",
       "      <td>No Definido</td>\n",
       "      <td>V1.80111500</td>\n",
       "      <td>701993388</td>\n",
       "      <td>708782222</td>\n",
       "      <td>Como acordado previamente</td>\n",
       "      <td>Distrito Capital de Bogotá</td>\n",
       "      <td>Prestar servicios técnicos en la Dirección de ...</td>\n",
       "      <td>Inversión</td>\n",
       "      <td>...</td>\n",
       "      <td>2020-10-08T00:00:00.000</td>\n",
       "      <td>{'url': 'https://community.secop.gov.co/Public...</td>\n",
       "      <td>0</td>\n",
       "      <td>0</td>\n",
       "      <td>17919498</td>\n",
       "      <td>0</td>\n",
       "      <td>0</td>\n",
       "      <td>0</td>\n",
       "      <td>17919498</td>\n",
       "      <td>17919498</td>\n",
       "    </tr>\n",
       "  </tbody>\n",
       "</table>\n",
       "<p>3 rows × 70 columns</p>\n",
       "</div>"
      ],
      "text/plain": [
       "       anno_bpin     c_digo_bpin       ciudad codigo_de_categoria_principal  \\\n",
       "207496      2021   2017011000189       Bogotá                   V1.77101801   \n",
       "824953      2020   2017004540382       Cúcuta                   V1.81101500   \n",
       "733106      2020  11001000001190  No Definido                   V1.80111500   \n",
       "\n",
       "       codigo_entidad codigo_proveedor     condiciones_de_entrega  \\\n",
       "207496      700696065        701116006  Como acordado previamente   \n",
       "824953      709391528        711082362  Como acordado previamente   \n",
       "733106      701993388        708782222  Como acordado previamente   \n",
       "\n",
       "                      departamento  \\\n",
       "207496  Distrito Capital de Bogotá   \n",
       "824953          Norte de Santander   \n",
       "733106  Distrito Capital de Bogotá   \n",
       "\n",
       "                                  descripcion_del_proceso destino_gasto  \\\n",
       "207496  PRESTAR LOS SERVICIOS PROFESIONALES PARA REALI...     Inversión   \n",
       "824953  EL CONTRATISTA SE OBLIGA PARA CON EL DEPARTAME...     Inversión   \n",
       "733106  Prestar servicios técnicos en la Dirección de ...     Inversión   \n",
       "\n",
       "                 ...               ultima_actualizacion  \\\n",
       "207496           ...            2021-11-08T00:00:00.000   \n",
       "824953           ...            2021-12-10T00:00:00.000   \n",
       "733106           ...            2020-10-08T00:00:00.000   \n",
       "\n",
       "                                               urlproceso valor_amortizado  \\\n",
       "207496  {'url': 'https://community.secop.gov.co/Public...                0   \n",
       "824953  {'url': 'https://community.secop.gov.co/Public...                0   \n",
       "733106  {'url': 'https://community.secop.gov.co/Public...                0   \n",
       "\n",
       "       valor_de_pago_adelantado valor_del_contrato valor_facturado  \\\n",
       "207496                        0           31000000               0   \n",
       "824953                        0            9600000         9600000   \n",
       "733106                        0           17919498               0   \n",
       "\n",
       "       valor_pagado valor_pendiente_de valor_pendiente_de_ejecucion  \\\n",
       "207496            0                  0                     31000000   \n",
       "824953      9600000                  0                      9600000   \n",
       "733106            0                  0                     17919498   \n",
       "\n",
       "       valor_pendiente_de_pago  \n",
       "207496                31000000  \n",
       "824953                       0  \n",
       "733106                17919498  \n",
       "\n",
       "[3 rows x 70 columns]"
      ]
     },
     "metadata": {},
     "output_type": "display_data"
    }
   ],
   "source": [
    "display(\"Muestra aleatoria de 3 registros\",results_df.sample(3))"
   ]
  },
  {
   "cell_type": "code",
   "execution_count": 17,
   "metadata": {},
   "outputs": [
    {
     "data": {
      "text/plain": [
       "'dimensión'"
      ]
     },
     "metadata": {},
     "output_type": "display_data"
    },
    {
     "data": {
      "text/plain": [
       "(1305591, 70)"
      ]
     },
     "metadata": {},
     "output_type": "display_data"
    }
   ],
   "source": [
    "display(\"dimensión\",results_df.shape)"
   ]
  },
  {
   "cell_type": "markdown",
   "metadata": {},
   "source": [
    "### Haciendo un analísis exploratorio de los datos"
   ]
  },
  {
   "cell_type": "code",
   "execution_count": 10,
   "metadata": {},
   "outputs": [
    {
     "name": "stdout",
     "output_type": "stream",
     "text": [
      "En ejecución         452526\n",
      "Modificado           354432\n",
      "Activo               226109\n",
      "terminado            111691\n",
      "Borrador              64741\n",
      "Cerrado               52633\n",
      "enviado Proveedor     20087\n",
      "En aprobación         11424\n",
      "cedido                10394\n",
      "Suspendido             1408\n",
      "Prorrogado              146\n",
      "Name: estado_contrato, dtype: int64\n"
     ]
    }
   ],
   "source": [
    "print(results_df[\"estado_contrato\"].value_counts())"
   ]
  },
  {
   "cell_type": "code",
   "execution_count": 8,
   "metadata": {},
   "outputs": [
    {
     "data": {
      "text/plain": [
       "(1228018, 70)"
      ]
     },
     "execution_count": 8,
     "metadata": {},
     "output_type": "execute_result"
    }
   ],
   "source": [
    "results_df1= results_df.query(\"estado_contrato!='En aprobación'\")\n",
    "results_df2= results_df1.query(\"estado_contrato!='Suspendido'\")\n",
    "results_df3= results_df2.query(\"estado_contrato!='Borrador'\")\n",
    "df_Final= results_df3.query(\"estado_contrato!='Suspendido'\")\n",
    "df_Final.shape"
   ]
  },
  {
   "cell_type": "code",
   "execution_count": 20,
   "metadata": {},
   "outputs": [
    {
     "data": {
      "text/plain": [
       "En ejecución         452526\n",
       "Modificado           354432\n",
       "Activo               226109\n",
       "terminado            111691\n",
       "Cerrado               52633\n",
       "enviado Proveedor     20087\n",
       "cedido                10394\n",
       "Prorrogado              146\n",
       "Name: estado_contrato, dtype: int64"
      ]
     },
     "execution_count": 20,
     "metadata": {},
     "output_type": "execute_result"
    }
   ],
   "source": [
    "df_resumen=df_Final[\"estado_contrato\"].value_counts()\n",
    "df_resumen"
   ]
  },
  {
   "cell_type": "code",
   "execution_count": 21,
   "metadata": {},
   "outputs": [
    {
     "data": {
      "image/png": "[encoded data removed]",
      "text/plain": [
       "<Figure size 648x288 with 1 Axes>"
      ]
     },
     "metadata": {},
     "output_type": "display_data"
    }
   ],
   "source": [
    "df_resumen.plot(kind = 'bar', \n",
    "             stacked = 'True',          # Muestra las barras apiladas\n",
    "             alpha = 0.9,               # nivel de transparencia\n",
    "             width = 0.9,               # Grosor de las barras para dejar espacio entre ellas\n",
    "             figsize=(9,4));            # Cambiamos el tamaño de la figura"
   ]
  },
  {
   "cell_type": "code",
   "execution_count": null,
   "metadata": {},
   "outputs": [],
   "source": [
    "#df_Valores=df_Final.groupby(['departamento'])['valor_del_contrato'].agg(['sum','count'])\n",
    "#df_Valores"
   ]
  },
  {
   "cell_type": "markdown",
   "metadata": {},
   "source": [
    "## Trabajando con un subconjunto de la base"
   ]
  },
  {
   "cell_type": "code",
   "execution_count": 2,
   "metadata": {},
   "outputs": [
    {
     "name": "stdout",
     "output_type": "stream",
     "text": [
      "Requirement already satisfied: squarify in c:\\users\\marlon\\anaconda3\\lib\\site-packages (0.4.3)\n",
      "Note: you may need to restart the kernel to use updated packages.\n"
     ]
    }
   ],
   "source": [
    "pip install squarify"
   ]
  },
  {
   "cell_type": "code",
   "execution_count": 3,
   "metadata": {},
   "outputs": [],
   "source": [
    "#Importamos archivo excel\n",
    "Base= pd.read_excel('C:/Users/Marlon/Desktop/MAESTRIA/MAESTRIA/2do Semestre/3. Seminario de programación/SECOPTALLERCOLUMNAS.xlsx')\n"
   ]
  },
  {
   "cell_type": "code",
   "execution_count": 4,
   "metadata": {},
   "outputs": [],
   "source": [
    "# Convert to pandas DataFrame\n",
    "results_df = pd.DataFrame.from_records(Base)"
   ]
  },
  {
   "cell_type": "code",
   "execution_count": 5,
   "metadata": {},
   "outputs": [
    {
     "data": {
      "text/plain": [
       "(1048575, 8)"
      ]
     },
     "execution_count": 5,
     "metadata": {},
     "output_type": "execute_result"
    }
   ],
   "source": [
    "# Conocemos cuantos datos (filas y columnas), tiene nuestra base de datos\n",
    "results_df.shape"
   ]
  },
  {
   "cell_type": "code",
   "execution_count": 10,
   "metadata": {
    "scrolled": true
   },
   "outputs": [
    {
     "name": "stdout",
     "output_type": "stream",
     "text": [
      "                                             NombreEntidad  \\\n",
      "0        SENA REGIONAL ANTIOQUIA Grupo Administrativo CRNR   \n",
      "1         SUBRED INTEGRADA DE SERVICIOS DE SALUD SUR E.S.E   \n",
      "2                         MUNICIPIO DE SANTA ROSA DE CABAL   \n",
      "3        PARQUES NACIONALES NATURALES DE COLOMBIA - DIR...   \n",
      "4        DIRECCION DE SANIDAD EJERCITO DISPENSARIO MÉDI...   \n",
      "...                                                    ...   \n",
      "1048570  COMANDO DE RECLUTAMIENTO Y CONTROL RESERVAS DE...   \n",
      "1048571  SANTIAGO DE CALI DISTRITO ESPECIAL - SECRETARI...   \n",
      "1048572                       MUNICIPIO DE PEREIRA-OFICIAL   \n",
      "1048573                       MUNICIPIO DE ARMENIA QUINDIO   \n",
      "1048574  ALCALDÍA DEL DISTRITO TURÍSTICO Y CULTURAL DE ...   \n",
      "\n",
      "                       Departamento               Ciudad  \\\n",
      "0                         Antioquia               Caldas   \n",
      "1        Distrito Capital de Bogotá               Bogotá   \n",
      "2                         Risaralda  Santa Rosa De Cabal   \n",
      "3                         Magdalena          Santa Marta   \n",
      "4        Distrito Capital de Bogotá          No Definido   \n",
      "...                             ...                  ...   \n",
      "1048570  Distrito Capital de Bogotá               Bogotá   \n",
      "1048571             Valle del Cauca                 Cali   \n",
      "1048572                   Risaralda              Pereira   \n",
      "1048573                     Quindío              Armenia   \n",
      "1048574                     Bolívar            Cartagena   \n",
      "\n",
      "                                    Sector EstadoContrato  \\\n",
      "0                                  Trabajo      terminado   \n",
      "1                Salud y Protección Social      terminado   \n",
      "2                         Servicio Público   En ejecución   \n",
      "3         Ambiente y Desarrollo Sostenible   En ejecución   \n",
      "4                                  defensa         Activo   \n",
      "...                                    ...            ...   \n",
      "1048570                            defensa        Cerrado   \n",
      "1048571  Inclusión Social y Reconciliación   En ejecución   \n",
      "1048572                   Servicio Público         Activo   \n",
      "1048573                   Servicio Público   En ejecución   \n",
      "1048574             No aplica/No pertenece   En ejecución   \n",
      "\n",
      "                    TipoContrato      TipoDocProveedor  ValorContrato  \\\n",
      "0        Prestación de servicios  Cédula de Ciudadanía     36962200.0   \n",
      "1        Prestación de servicios  Cédula de Ciudadanía      3100000.0   \n",
      "2        Prestación de servicios  Cédula de Ciudadanía      7572000.0   \n",
      "3        Prestación de servicios  Cédula de Ciudadanía     15000000.0   \n",
      "4        Prestación de servicios  Cédula de Ciudadanía      6121332.0   \n",
      "...                          ...                   ...            ...   \n",
      "1048570  Prestación de servicios                   NIT     13500000.0   \n",
      "1048571  Prestación de servicios  Cédula de Ciudadanía     21099850.0   \n",
      "1048572  Prestación de servicios  Cédula de Ciudadanía      3308000.0   \n",
      "1048573  Prestación de servicios  Cédula de Ciudadanía     11550000.0   \n",
      "1048574  Prestación de servicios  Cédula de Ciudadanía      4500000.0   \n",
      "\n",
      "             SaldoCDP    Diferencia  \n",
      "0        3.835700e+07  1.394800e+06  \n",
      "1        3.300000e+09  3.296900e+09  \n",
      "2        8.000000e+06  4.280000e+05  \n",
      "3        1.500000e+07  0.000000e+00  \n",
      "4        6.121332e+06  0.000000e+00  \n",
      "...               ...           ...  \n",
      "1048570  4.100411e+09  4.086911e+09  \n",
      "1048571  2.109985e+07  0.000000e+00  \n",
      "1048572  0.000000e+00 -3.308000e+06  \n",
      "1048573  1.155000e+07  0.000000e+00  \n",
      "1048574  9.000000e+06  4.500000e+06  \n",
      "\n",
      "[1048575 rows x 10 columns]\n"
     ]
    }
   ],
   "source": [
    "print(results_df)"
   ]
  },
  {
   "cell_type": "markdown",
   "metadata": {},
   "source": [
    "Ahora veremos una descripcion informativa de lo que contiene la base de datos:"
   ]
  },
  {
   "cell_type": "code",
   "execution_count": 6,
   "metadata": {
    "scrolled": false
   },
   "outputs": [
    {
     "data": {
      "text/plain": [
       "'Primeros 3 registros'"
      ]
     },
     "metadata": {},
     "output_type": "display_data"
    },
    {
     "data": {
      "text/html": [
       "<div>\n",
       "<style scoped>\n",
       "    .dataframe tbody tr th:only-of-type {\n",
       "        vertical-align: middle;\n",
       "    }\n",
       "\n",
       "    .dataframe tbody tr th {\n",
       "        vertical-align: top;\n",
       "    }\n",
       "\n",
       "    .dataframe thead th {\n",
       "        text-align: right;\n",
       "    }\n",
       "</style>\n",
       "<table border=\"1\" class=\"dataframe\">\n",
       "  <thead>\n",
       "    <tr style=\"text-align: right;\">\n",
       "      <th></th>\n",
       "      <th>NombreEntidad</th>\n",
       "      <th>Departamento</th>\n",
       "      <th>Ciudad</th>\n",
       "      <th>Sector</th>\n",
       "      <th>EstadoContrato</th>\n",
       "      <th>TipoDocProveedor</th>\n",
       "      <th>ValorContrato</th>\n",
       "      <th>SaldoCDP</th>\n",
       "    </tr>\n",
       "  </thead>\n",
       "  <tbody>\n",
       "    <tr>\n",
       "      <th>0</th>\n",
       "      <td>SENA REGIONAL ANTIOQUIA Grupo Administrativo CRNR</td>\n",
       "      <td>Antioquia</td>\n",
       "      <td>Caldas</td>\n",
       "      <td>Trabajo</td>\n",
       "      <td>terminado</td>\n",
       "      <td>Cédula de Ciudadanía</td>\n",
       "      <td>36962200.0</td>\n",
       "      <td>3.835700e+07</td>\n",
       "    </tr>\n",
       "    <tr>\n",
       "      <th>1</th>\n",
       "      <td>SUBRED INTEGRADA DE SERVICIOS DE SALUD SUR E.S.E</td>\n",
       "      <td>Distrito Capital de Bogotá</td>\n",
       "      <td>Bogotá</td>\n",
       "      <td>Salud y Protección Social</td>\n",
       "      <td>terminado</td>\n",
       "      <td>Cédula de Ciudadanía</td>\n",
       "      <td>3100000.0</td>\n",
       "      <td>3.300000e+09</td>\n",
       "    </tr>\n",
       "    <tr>\n",
       "      <th>2</th>\n",
       "      <td>MUNICIPIO DE SANTA ROSA DE CABAL</td>\n",
       "      <td>Risaralda</td>\n",
       "      <td>Santa Rosa De Cabal</td>\n",
       "      <td>Servicio Público</td>\n",
       "      <td>En ejecución</td>\n",
       "      <td>Cédula de Ciudadanía</td>\n",
       "      <td>7572000.0</td>\n",
       "      <td>8.000000e+06</td>\n",
       "    </tr>\n",
       "  </tbody>\n",
       "</table>\n",
       "</div>"
      ],
      "text/plain": [
       "                                       NombreEntidad  \\\n",
       "0  SENA REGIONAL ANTIOQUIA Grupo Administrativo CRNR   \n",
       "1   SUBRED INTEGRADA DE SERVICIOS DE SALUD SUR E.S.E   \n",
       "2                   MUNICIPIO DE SANTA ROSA DE CABAL   \n",
       "\n",
       "                 Departamento               Ciudad                     Sector  \\\n",
       "0                   Antioquia               Caldas                    Trabajo   \n",
       "1  Distrito Capital de Bogotá               Bogotá  Salud y Protección Social   \n",
       "2                   Risaralda  Santa Rosa De Cabal           Servicio Público   \n",
       "\n",
       "  EstadoContrato      TipoDocProveedor  ValorContrato      SaldoCDP  \n",
       "0      terminado  Cédula de Ciudadanía     36962200.0  3.835700e+07  \n",
       "1      terminado  Cédula de Ciudadanía      3100000.0  3.300000e+09  \n",
       "2   En ejecución  Cédula de Ciudadanía      7572000.0  8.000000e+06  "
      ]
     },
     "metadata": {},
     "output_type": "display_data"
    },
    {
     "data": {
      "text/plain": [
       "'3 últimos registros'"
      ]
     },
     "metadata": {},
     "output_type": "display_data"
    },
    {
     "data": {
      "text/html": [
       "<div>\n",
       "<style scoped>\n",
       "    .dataframe tbody tr th:only-of-type {\n",
       "        vertical-align: middle;\n",
       "    }\n",
       "\n",
       "    .dataframe tbody tr th {\n",
       "        vertical-align: top;\n",
       "    }\n",
       "\n",
       "    .dataframe thead th {\n",
       "        text-align: right;\n",
       "    }\n",
       "</style>\n",
       "<table border=\"1\" class=\"dataframe\">\n",
       "  <thead>\n",
       "    <tr style=\"text-align: right;\">\n",
       "      <th></th>\n",
       "      <th>NombreEntidad</th>\n",
       "      <th>Departamento</th>\n",
       "      <th>Ciudad</th>\n",
       "      <th>Sector</th>\n",
       "      <th>EstadoContrato</th>\n",
       "      <th>TipoDocProveedor</th>\n",
       "      <th>ValorContrato</th>\n",
       "      <th>SaldoCDP</th>\n",
       "    </tr>\n",
       "  </thead>\n",
       "  <tbody>\n",
       "    <tr>\n",
       "      <th>1048572</th>\n",
       "      <td>MUNICIPIO DE PEREIRA-OFICIAL</td>\n",
       "      <td>Risaralda</td>\n",
       "      <td>Pereira</td>\n",
       "      <td>Servicio Público</td>\n",
       "      <td>Activo</td>\n",
       "      <td>Cédula de Ciudadanía</td>\n",
       "      <td>3308000.0</td>\n",
       "      <td>0.0</td>\n",
       "    </tr>\n",
       "    <tr>\n",
       "      <th>1048573</th>\n",
       "      <td>MUNICIPIO DE ARMENIA QUINDIO</td>\n",
       "      <td>Quindío</td>\n",
       "      <td>Armenia</td>\n",
       "      <td>Servicio Público</td>\n",
       "      <td>En ejecución</td>\n",
       "      <td>Cédula de Ciudadanía</td>\n",
       "      <td>11550000.0</td>\n",
       "      <td>11550000.0</td>\n",
       "    </tr>\n",
       "    <tr>\n",
       "      <th>1048574</th>\n",
       "      <td>ALCALDÍA DEL DISTRITO TURÍSTICO Y CULTURAL DE ...</td>\n",
       "      <td>Bolívar</td>\n",
       "      <td>Cartagena</td>\n",
       "      <td>No aplica/No pertenece</td>\n",
       "      <td>En ejecución</td>\n",
       "      <td>Cédula de Ciudadanía</td>\n",
       "      <td>4500000.0</td>\n",
       "      <td>9000000.0</td>\n",
       "    </tr>\n",
       "  </tbody>\n",
       "</table>\n",
       "</div>"
      ],
      "text/plain": [
       "                                             NombreEntidad Departamento  \\\n",
       "1048572                       MUNICIPIO DE PEREIRA-OFICIAL    Risaralda   \n",
       "1048573                       MUNICIPIO DE ARMENIA QUINDIO      Quindío   \n",
       "1048574  ALCALDÍA DEL DISTRITO TURÍSTICO Y CULTURAL DE ...      Bolívar   \n",
       "\n",
       "            Ciudad                  Sector EstadoContrato  \\\n",
       "1048572    Pereira        Servicio Público         Activo   \n",
       "1048573    Armenia        Servicio Público   En ejecución   \n",
       "1048574  Cartagena  No aplica/No pertenece   En ejecución   \n",
       "\n",
       "             TipoDocProveedor  ValorContrato    SaldoCDP  \n",
       "1048572  Cédula de Ciudadanía      3308000.0         0.0  \n",
       "1048573  Cédula de Ciudadanía     11550000.0  11550000.0  \n",
       "1048574  Cédula de Ciudadanía      4500000.0   9000000.0  "
      ]
     },
     "metadata": {},
     "output_type": "display_data"
    },
    {
     "data": {
      "text/plain": [
       "'Columnas:'"
      ]
     },
     "metadata": {},
     "output_type": "display_data"
    },
    {
     "data": {
      "text/plain": [
       "Index(['NombreEntidad', 'Departamento', 'Ciudad', 'Sector', 'EstadoContrato',\n",
       "       'TipoDocProveedor', 'ValorContrato', 'SaldoCDP'],\n",
       "      dtype='object')"
      ]
     },
     "metadata": {},
     "output_type": "display_data"
    },
    {
     "data": {
      "text/plain": [
       "'Índices:'"
      ]
     },
     "metadata": {},
     "output_type": "display_data"
    },
    {
     "data": {
      "text/plain": [
       "RangeIndex(start=0, stop=1048575, step=1)"
      ]
     },
     "metadata": {},
     "output_type": "display_data"
    },
    {
     "data": {
      "text/plain": [
       "'Tipos de registros en el DataFrame'"
      ]
     },
     "metadata": {},
     "output_type": "display_data"
    },
    {
     "data": {
      "text/plain": [
       "NombreEntidad        object\n",
       "Departamento         object\n",
       "Ciudad               object\n",
       "Sector               object\n",
       "EstadoContrato       object\n",
       "TipoDocProveedor     object\n",
       "ValorContrato       float64\n",
       "SaldoCDP            float64\n",
       "dtype: object"
      ]
     },
     "metadata": {},
     "output_type": "display_data"
    },
    {
     "data": {
      "text/plain": [
       "'Muestra aleatoria de 3 registros'"
      ]
     },
     "metadata": {},
     "output_type": "display_data"
    },
    {
     "data": {
      "text/html": [
       "<div>\n",
       "<style scoped>\n",
       "    .dataframe tbody tr th:only-of-type {\n",
       "        vertical-align: middle;\n",
       "    }\n",
       "\n",
       "    .dataframe tbody tr th {\n",
       "        vertical-align: top;\n",
       "    }\n",
       "\n",
       "    .dataframe thead th {\n",
       "        text-align: right;\n",
       "    }\n",
       "</style>\n",
       "<table border=\"1\" class=\"dataframe\">\n",
       "  <thead>\n",
       "    <tr style=\"text-align: right;\">\n",
       "      <th></th>\n",
       "      <th>NombreEntidad</th>\n",
       "      <th>Departamento</th>\n",
       "      <th>Ciudad</th>\n",
       "      <th>Sector</th>\n",
       "      <th>EstadoContrato</th>\n",
       "      <th>TipoDocProveedor</th>\n",
       "      <th>ValorContrato</th>\n",
       "      <th>SaldoCDP</th>\n",
       "    </tr>\n",
       "  </thead>\n",
       "  <tbody>\n",
       "    <tr>\n",
       "      <th>212758</th>\n",
       "      <td>ESAP SEDE CENTRAL (Cuenta Oficial)</td>\n",
       "      <td>Distrito Capital de Bogotá</td>\n",
       "      <td>Bogotá</td>\n",
       "      <td>Servicio Público</td>\n",
       "      <td>Modificado</td>\n",
       "      <td>Cédula de Ciudadanía</td>\n",
       "      <td>18756603.0</td>\n",
       "      <td>12504402.0</td>\n",
       "    </tr>\n",
       "    <tr>\n",
       "      <th>138532</th>\n",
       "      <td>ARMADA NACIONAL BASE NAVAL No. 6 ARC BOGOTA</td>\n",
       "      <td>Distrito Capital de Bogotá</td>\n",
       "      <td>Bogotá</td>\n",
       "      <td>defensa</td>\n",
       "      <td>Borrador</td>\n",
       "      <td>NIT</td>\n",
       "      <td>184722450.0</td>\n",
       "      <td>597847300.0</td>\n",
       "    </tr>\n",
       "    <tr>\n",
       "      <th>443757</th>\n",
       "      <td>DANE - TERRITORIAL CENTRO OCCIDENTE</td>\n",
       "      <td>Caldas</td>\n",
       "      <td>Manizales</td>\n",
       "      <td>Servicio Público</td>\n",
       "      <td>Modificado</td>\n",
       "      <td>Cédula de Ciudadanía</td>\n",
       "      <td>20243724.0</td>\n",
       "      <td>205811194.0</td>\n",
       "    </tr>\n",
       "  </tbody>\n",
       "</table>\n",
       "</div>"
      ],
      "text/plain": [
       "                                      NombreEntidad  \\\n",
       "212758           ESAP SEDE CENTRAL (Cuenta Oficial)   \n",
       "138532  ARMADA NACIONAL BASE NAVAL No. 6 ARC BOGOTA   \n",
       "443757          DANE - TERRITORIAL CENTRO OCCIDENTE   \n",
       "\n",
       "                      Departamento     Ciudad            Sector  \\\n",
       "212758  Distrito Capital de Bogotá     Bogotá  Servicio Público   \n",
       "138532  Distrito Capital de Bogotá     Bogotá           defensa   \n",
       "443757                      Caldas  Manizales  Servicio Público   \n",
       "\n",
       "       EstadoContrato      TipoDocProveedor  ValorContrato     SaldoCDP  \n",
       "212758     Modificado  Cédula de Ciudadanía     18756603.0   12504402.0  \n",
       "138532       Borrador                   NIT    184722450.0  597847300.0  \n",
       "443757     Modificado  Cédula de Ciudadanía     20243724.0  205811194.0  "
      ]
     },
     "metadata": {},
     "output_type": "display_data"
    },
    {
     "data": {
      "text/plain": [
       "'dimensión'"
      ]
     },
     "metadata": {},
     "output_type": "display_data"
    },
    {
     "data": {
      "text/plain": [
       "(1048575, 8)"
      ]
     },
     "metadata": {},
     "output_type": "display_data"
    }
   ],
   "source": [
    "display(\"Primeros 3 registros\",results_df.head(3))\n",
    "display(\"3 últimos registros\",results_df.tail(3))\n",
    "display(\"Columnas:\",results_df.columns)\n",
    "display(\"Índices:\",results_df.index)\n",
    "display(\"Tipos de registros en el DataFrame\",results_df.dtypes)\n",
    "display(\"Muestra aleatoria de 3 registros\",results_df.sample(3))\n",
    "display(\"dimensión\",results_df.shape)"
   ]
  },
  {
   "cell_type": "markdown",
   "metadata": {},
   "source": [
    "Para el analisis solo se tendran en cuenta los contrato que no esten en los estados de: \n",
    "+ 1.En aprobación\n",
    "+ 2.Suspendido\n",
    "+ 3.Borrador\n",
    "+ 4.Suspendido\n",
    "    "
   ]
  },
  {
   "cell_type": "code",
   "execution_count": 7,
   "metadata": {
    "scrolled": true
   },
   "outputs": [
    {
     "name": "stdout",
     "output_type": "stream",
     "text": [
      "En ejecución         363774\n",
      "Modificado           284415\n",
      "Activo               181560\n",
      "terminado             89810\n",
      "Borrador              51887\n",
      "Cerrado               42245\n",
      "enviado Proveedor     16218\n",
      "En aprobación          9130\n",
      "cedido                 8298\n",
      "Suspendido             1114\n",
      "Prorrogado              115\n",
      "Name: EstadoContrato, dtype: int64\n"
     ]
    }
   ],
   "source": [
    "print(results_df[\"EstadoContrato\"].value_counts())"
   ]
  },
  {
   "cell_type": "code",
   "execution_count": 8,
   "metadata": {
    "scrolled": true
   },
   "outputs": [
    {
     "data": {
      "text/plain": [
       "(970226, 8)"
      ]
     },
     "execution_count": 8,
     "metadata": {},
     "output_type": "execute_result"
    }
   ],
   "source": [
    "results_df1= results_df.query(\"EstadoContrato!='En aprobación'\")\n",
    "results_df2= results_df1.query(\"EstadoContrato!='Suspendido'\")\n",
    "results_df3= results_df2.query(\"EstadoContrato!='Borrador'\")\n",
    "results_df4= results_df3.query(\"EstadoContrato!='enviado Proveedor'\") #repetido\n",
    "results_df4.shape #sumatoria de los 4 estados"
   ]
  },
  {
   "cell_type": "code",
   "execution_count": 9,
   "metadata": {},
   "outputs": [
    {
     "data": {
      "text/plain": [
       "En ejecución    363774\n",
       "Modificado      284415\n",
       "Activo          181560\n",
       "terminado        89810\n",
       "Cerrado          42245\n",
       "cedido            8298\n",
       "Prorrogado         115\n",
       "Name: EstadoContrato, dtype: int64"
      ]
     },
     "execution_count": 9,
     "metadata": {},
     "output_type": "execute_result"
    }
   ],
   "source": [
    "df_resumen=results_df4[\"EstadoContrato\"].value_counts()\n",
    "df_resumen # resumen excluyendo  estados del contrato"
   ]
  },
  {
   "cell_type": "markdown",
   "metadata": {},
   "source": [
    "En la gráfica se evidencia que un gran procentaje de los contratos se encuentran en ejecucion, y un minomo porcentaje se encuentran prorrogrados"
   ]
  },
  {
   "cell_type": "code",
   "execution_count": 10,
   "metadata": {},
   "outputs": [
    {
     "data": {
      "image/png": "[encoded data removed]",
      "text/plain": [
       "<Figure size 648x288 with 1 Axes>"
      ]
     },
     "metadata": {
      "needs_background": "light"
     },
     "output_type": "display_data"
    }
   ],
   "source": [
    "df_resumen.plot(kind = 'bar', \n",
    "             stacked = 'True',          # Muestra las barras apiladas\n",
    "             alpha = 0.9,               # nivel de transparencia\n",
    "             width = 0.9,               # Grosor de las barras para dejar espacio entre ellas\n",
    "             figsize=(9,4));            # Cambiamos el tamaño de la figura"
   ]
  },
  {
   "cell_type": "markdown",
   "metadata": {},
   "source": [
    "Para el ejercicio, se analizó la Información de los contratos registrados en SECOP II desde su lanzamiento de contratos electrónicos, que son proporcionados por Datos proporcionados por Colombia Compra Eficiente, donde se determinaron 67 variables y 1.048.575 registros. \n",
    "De esta manera, se analizarán las siguientes variables: (i) Departamento en el cual se registró la entidad del estado que publica el contrato, (ii) Sector - Sector de la economía de la entidad del estado que publica el contrato,  (iii) Estado del contrato, frente a su ejecución, firma o liquidación, (iv) Valor total del contrato, (v) Saldo del CDP asignado al proceso y al contrato y (vi) al final se determinó una variables denominada “diferencia” donde se logra determinar del CDP asignado cuanto de estimo efectivamente para el contrato. \n"
   ]
  },
  {
   "cell_type": "code",
   "execution_count": 11,
   "metadata": {},
   "outputs": [
    {
     "name": "stdout",
     "output_type": "stream",
     "text": [
      "Servicio Público                                      196265\n",
      "Salud y Protección Social                             151468\n",
      "No aplica/No pertenece                                106574\n",
      "defensa                                                88166\n",
      "Trabajo                                                58343\n",
      "Inclusión Social y Reconciliación                      53764\n",
      "Educación Nacional                                     49287\n",
      "Ambiente y Desarrollo Sostenible                       44449\n",
      "Cultura                                                37702\n",
      "Información Estadística                                36387\n",
      "Transporte                                             30736\n",
      "Ley de Justicia                                        30269\n",
      "deportes                                               24824\n",
      "Planeación                                             23295\n",
      "Hacienda y Crédito Público                             19486\n",
      "agricultura                                            18598\n",
      "Industria                                              18342\n",
      "Tecnologías de la Información y las Comunicaciones     15115\n",
      "Vivienda, Ciudad y Territorio                          14987\n",
      "Minas y Energía                                        11376\n",
      "interior                                                7827\n",
      "Presidencia de la República                             6888\n",
      "Ciencia Tecnología                                      2793\n",
      "Relaciones Exteriores                                   1430\n",
      "Inteligencia Estratégica y Contrainteligencia            202\n",
      "No Definido                                                2\n",
      "Name: Sector, dtype: int64\n"
     ]
    }
   ],
   "source": [
    "Sector_df=print(results_df[\"Sector\"].value_counts())\n",
    "Sector_df"
   ]
  },
  {
   "cell_type": "markdown",
   "metadata": {},
   "source": [
    "De la información"
   ]
  },
  {
   "cell_type": "code",
   "execution_count": 31,
   "metadata": {
    "scrolled": true
   },
   "outputs": [
    {
     "data": {
      "image/png": "[encoded data removed]",
      "text/plain": [
       "<Figure size 432x288 with 1 Axes>"
      ]
     },
     "metadata": {
      "needs_background": "light"
     },
     "output_type": "display_data"
    }
   ],
   "source": [
    "# libraries\n",
    "import matplotlib.pyplot as plt\n",
    "import squarify    # pip install squarify (algorithm for treemap)\n",
    "import pandas as pd\n",
    "\n",
    "# Create a data frame with fake data\n",
    "df = pd.DataFrame({'results_df':[196265,151468, 88166], 'group':['Servicio Público','Salud y Protección Social','defensa'] })\n",
    "\n",
    "# plot it\n",
    "squarify.plot(sizes=df['results_df'], label=df['group'], alpha=.8 )\n",
    "plt.axis('off')\n",
    "plt.show()"
   ]
  },
  {
   "cell_type": "markdown",
   "metadata": {},
   "source": [
    "Los sectores que mas contratos tienen a nivel Colombia son los de servicios públicos, salud y protección soscial y defenesa"
   ]
  },
  {
   "cell_type": "code",
   "execution_count": 41,
   "metadata": {},
   "outputs": [
    {
     "data": {
      "image/png": "[encoded data removed]",
      "text/plain": [
       "<Figure size 432x288 with 1 Axes>"
      ]
     },
     "metadata": {},
     "output_type": "display_data"
    }
   ],
   "source": [
    "# library\n",
    "import matplotlib.pyplot as plt\n",
    "\n",
    "# create data\n",
    "df_resumen\n",
    " \n",
    "# Create a circle at the center of the plot\n",
    "my_circle = plt.Circle( (0,0), 0.7, color='white')\n",
    "\n",
    "# Custom wedges\n",
    "plt.pie(df_resumen, labels=df_resumen, wedgeprops = { 'linewidth' : 7, 'edgecolor' : 'white' })\n",
    "p = plt.gcf()\n",
    "p.gca().add_artist(my_circle)\n",
    "plt.show()"
   ]
  },
  {
   "cell_type": "code",
   "execution_count": 12,
   "metadata": {},
   "outputs": [
    {
     "data": {
      "text/plain": [
       "array([ True,  True,  True,  True,  True,  True,  True])"
      ]
     },
     "execution_count": 12,
     "metadata": {},
     "output_type": "execute_result"
    }
   ],
   "source": [
    "df_resumen.index.isin(df_resumen.index)"
   ]
  },
  {
   "cell_type": "code",
   "execution_count": 14,
   "metadata": {},
   "outputs": [
    {
     "data": {
      "text/plain": [
       "count         7.000000\n",
       "mean     138602.428571\n",
       "std      142379.986078\n",
       "min         115.000000\n",
       "25%       25271.500000\n",
       "50%       89810.000000\n",
       "75%      232987.500000\n",
       "max      363774.000000\n",
       "Name: EstadoContrato, dtype: float64"
      ]
     },
     "execution_count": 14,
     "metadata": {},
     "output_type": "execute_result"
    }
   ],
   "source": [
    "#Resumen del comportamiento del valor del contrato \n",
    "df_resumen.describe()"
   ]
  }
 ],
 "metadata": {
  "kernelspec": {
   "display_name": "Python 3",
   "language": "python",
   "name": "python3"
  },
  "language_info": {
   "codemirror_mode": {
    "name": "ipython",
    "version": 3
   },
   "file_extension": ".py",
   "mimetype": "text/x-python",
   "name": "python",
   "nbconvert_exporter": "python",
   "pygments_lexer": "ipython3",
   "version": "3.8.3"
  }
 },
 "nbformat": 4,
 "nbformat_minor": 2
}
