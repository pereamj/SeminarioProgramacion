{
 "cells": [
  {
   "cell_type": "markdown",
   "metadata": {},
   "source": [
    "# Ejercicios de simulación\n",
    "### Liliana Hernandez - Julieth Perea  - Anjely Amazo\n"
   ]
  },
  {
   "cell_type": "markdown",
   "metadata": {
    "pycharm": {
     "name": "#%% md\n"
    }
   },
   "source": [
    "## Distribuciones de probabilidad\n",
    "\n",
    "Recordemos que una distribución de probabilidad es una función, que asigna a cada suceso que representa la variable la probabilidad de que éste ocurra.\n",
    "\n",
    "Las distribuciones de probabilidad se pueden agrupar según el tipo de variable que se está estudiando\n",
    "\n",
    "**Para variables aleatorias discretas**\n",
    "Tengamos presente que las variables aleatorias discretas son aquellas que representan una cantidad *contable* de sucesos.\n",
    "\n",
    "### Distribución binomial\n",
    "La distribución binomial se caracteriza por tener un experimento con dos posibles resultados, *éxito* con probabilidad de ocurrencia $p$, y *fracaso* con probabilidad $1-p$, el cual se repite $n$ veces de manera independiente.\n",
    "\n",
    "Para representar que una variable aleatoria $X$ sigue una distribución binomial de parámetros $n$ y $p$, se escribe:\n",
    "\n",
    "$${\\displaystyle X\\sim B(n,p)\\,}$$\n",
    "\n",
    "Su función de probabilidad es:\n",
    "$${\\displaystyle \\!f(x)={n \\choose x}p^{x}(1-p)^{n-x},\\,\\,\\,\\,0\\leq p\\leq 1}$$\n",
    "donde ${\\displaystyle x=\\{0,1,2,\\dots ,n\\},}$\n"
   ]
  },
  {
   "cell_type": "markdown",
   "metadata": {},
   "source": [
    "**Ejemplo**\n",
    "\n",
    "Supongamos que se lanza un dado equilibrado (de 6 caras) 60 veces y queremos conocer la probabilidad de que el número 2 salga 10 veces.\n",
    "\n",
    "Un ensayo de nuestro problema consiste en lanzar el dado una vez, si se considera como éxito obtener un 3 y fracaso si no sale 3. Definiendo $X:=$ el número de veces que se obtiene un 2 en 60 lanzamientos.\n",
    "\n",
    "De lo anterior se puede afirmar que $X \\sim B(60, 1/6)$ y la probabilidad a calcular es $P(X=10)$:\n",
    "\n",
    "$${\\displaystyle \\!P(X=10)={60\\choose 10}(1/6)^{10}(1-1/6)^{60-10}=0.0000744\\,\\!}\\approx0.137013.$$\n",
    "\n",
    "Para utilizar ésta y las demás distribuciones de probabilidad en Python debemos trener presente lo siguiente:\n",
    "\n",
    "Se trabajará con el paquete `scipy.stats`, principalmente con las funciones: \n",
    "\n",
    "`cdf(x)`: Función de distribución F(X)\n",
    "\n",
    "`sf(x)`: 1 - cdf(x)\n",
    "\n",
    "`pmf(x)`: Función de probabilidad f(x) (distribuciones discretas)\n",
    "\n",
    "`pdf(x)`: Función de densidad f(x) (distribuciones continuas)\n",
    "\n",
    "`ppf(x)`: Función inversa a cdf(x). Nos permite obtener el valor correspondiente a una probabilidad.\n",
    "\n",
    "Para resolver el problema anterior con el uso de Python debemos seguir los siguientes pasos:"
   ]
  },
  {
   "cell_type": "code",
   "execution_count": 74,
   "metadata": {},
   "outputs": [],
   "source": [
    "import scipy.special as ssp\n",
    "import scipy.integrate as integrate\n",
    "import scipy.optimize as so\n",
    "import scipy.interpolate as interpolate\n",
    "import scipy.fft as sft\n",
    "import scipy.signal as ssg\n",
    "import scipy.spatial as spatial\n",
    "import scipy.linalg as sla \n"
   ]
  },
  {
   "cell_type": "code",
   "execution_count": 75,
   "metadata": {},
   "outputs": [],
   "source": [
    "# Paquetes\n",
    "import numpy as np\n",
    "import scipy.stats as ss\n",
    "import matplotlib.pyplot as plt\n",
    "import pandas as pd\n",
    "%matplotlib inline"
   ]
  },
  {
   "cell_type": "code",
   "execution_count": 3,
   "metadata": {},
   "outputs": [],
   "source": [
    "X = ss.binom(10,1/6)"
   ]
  },
  {
   "cell_type": "code",
   "execution_count": 4,
   "metadata": {},
   "outputs": [
    {
     "data": {
      "text/plain": [
       "8.269085843960115e-07"
      ]
     },
     "execution_count": 4,
     "metadata": {},
     "output_type": "execute_result"
    }
   ],
   "source": [
    "X.pmf(9)"
   ]
  },
  {
   "cell_type": "code",
   "execution_count": 5,
   "metadata": {},
   "outputs": [
    {
     "data": {
      "text/plain": [
       "0.13701311426747875"
      ]
     },
     "execution_count": 5,
     "metadata": {},
     "output_type": "execute_result"
    }
   ],
   "source": [
    "X60 = ss.binom(60,1/6)\n",
    "X60.pmf(10)"
   ]
  },
  {
   "cell_type": "markdown",
   "metadata": {},
   "source": [
    "Es decir la probabilidad es del 13.70%"
   ]
  },
  {
   "cell_type": "code",
   "execution_count": 6,
   "metadata": {},
   "outputs": [
    {
     "data": {
      "text/plain": [
       "[<matplotlib.lines.Line2D at 0x244ea4dc8e0>]"
      ]
     },
     "execution_count": 6,
     "metadata": {},
     "output_type": "execute_result"
    },
    {
     "data": {
      "image/png": "[encoded data removed]",
      "text/plain": [
       "<Figure size 432x288 with 1 Axes>"
      ]
     },
     "metadata": {
      "needs_background": "light"
     },
     "output_type": "display_data"
    }
   ],
   "source": [
    "x= np.arange(0,60,1)\n",
    "y=[X60.pmf(i) for i in range (0,60,1)]\n",
    "plt.plot(x,y)"
   ]
  },
  {
   "cell_type": "markdown",
   "metadata": {},
   "source": [
    "#### Números aleatorios a partir de la binomial\n",
    "\n",
    "En este apartado usaremos numpy.random para generar una sucesión de 1000 números que se escogen según una distribución binomial. En este sentido, resolveremos el problema anterior a partir de esa escogencia.\n"
   ]
  },
  {
   "cell_type": "code",
   "execution_count": 7,
   "metadata": {},
   "outputs": [],
   "source": [
    "bin_rand=np.random.binomial(60,1/6,size=1000)"
   ]
  },
  {
   "cell_type": "code",
   "execution_count": 8,
   "metadata": {},
   "outputs": [
    {
     "data": {
      "text/plain": [
       "(array([  6.,  21.,  91.,  90., 257., 250.,  86., 129.,  54.,  16.]),\n",
       " array([ 1. ,  2.7,  4.4,  6.1,  7.8,  9.5, 11.2, 12.9, 14.6, 16.3, 18. ]),\n",
       " <a list of 10 Patch objects>)"
      ]
     },
     "execution_count": 8,
     "metadata": {},
     "output_type": "execute_result"
    },
    {
     "data": {
      "image/png": "[encoded data removed]",
      "text/plain": [
       "<Figure size 432x288 with 1 Axes>"
      ]
     },
     "metadata": {
      "needs_background": "light"
     },
     "output_type": "display_data"
    }
   ],
   "source": [
    "plt.hist(bin_rand)"
   ]
  },
  {
   "cell_type": "code",
   "execution_count": 9,
   "metadata": {},
   "outputs": [
    {
     "data": {
      "text/plain": [
       "(array([  6.,  36., 146., 254., 255., 203.,  66.,  26.,   7.,   1.]),\n",
       " array([ 1. ,  3.1,  5.2,  7.3,  9.4, 11.5, 13.6, 15.7, 17.8, 19.9, 22. ]),\n",
       " <a list of 10 Patch objects>)"
      ]
     },
     "execution_count": 9,
     "metadata": {},
     "output_type": "execute_result"
    },
    {
     "data": {
      "image/png": "[encoded data removed]",
      "text/plain": [
       "<Figure size 432x288 with 1 Axes>"
      ]
     },
     "metadata": {
      "needs_background": "light"
     },
     "output_type": "display_data"
    }
   ],
   "source": [
    "np.random.seed(2021)\n",
    "bin_rand=np.random.binomial(60,1/6,size=1000)\n",
    "plt.hist(bin_rand)"
   ]
  },
  {
   "cell_type": "code",
   "execution_count": 10,
   "metadata": {},
   "outputs": [
    {
     "data": {
      "text/plain": [
       "(array([ 1,  2,  3,  4,  5,  6,  7,  8,  9, 10, 11, 12, 13, 14, 15, 16, 17,\n",
       "        18, 19, 22]),\n",
       " array([  1,   2,   3,  12,  24,  54,  92, 119, 135, 123, 132, 122,  81,\n",
       "         43,  23,  17,   9,   5,   2,   1], dtype=int64))"
      ]
     },
     "execution_count": 10,
     "metadata": {},
     "output_type": "execute_result"
    }
   ],
   "source": [
    "Ej1_Conteo=np.unique(bin_rand)\n",
    "Ej1_Conteo\n",
    "\n",
    "Cant=np.unique(bin_rand, return_counts=True)\n",
    "Cant\n"
   ]
  },
  {
   "cell_type": "markdown",
   "metadata": {},
   "source": [
    "**Ejercicio 1**\n",
    "\n",
    "Crear un programa para estudiar la distribución en el arreglo anterior. Un histograma es uti, sin embargo como la distribución es discreta es util calcular una tabla de frecuencias.\n",
    "\n",
    "```Python\n",
    "#recomendaciones\n",
    "\n",
    "np.count_nonzero()\n",
    "np.unique()\n",
    "np.sum()\n",
    "```"
   ]
  },
  {
   "cell_type": "code",
   "execution_count": 11,
   "metadata": {},
   "outputs": [],
   "source": [
    "Ej1_Arr = np.unique(bin_rand)\n",
    "dfEj1 = pd.DataFrame(columns=['Valor', 'Real', 'Estimado'])"
   ]
  },
  {
   "cell_type": "code",
   "execution_count": 14,
   "metadata": {},
   "outputs": [
    {
     "data": {
      "text/html": [
       "<div>\n",
       "<style scoped>\n",
       "    .dataframe tbody tr th:only-of-type {\n",
       "        vertical-align: middle;\n",
       "    }\n",
       "\n",
       "    .dataframe tbody tr th {\n",
       "        vertical-align: top;\n",
       "    }\n",
       "\n",
       "    .dataframe thead th {\n",
       "        text-align: right;\n",
       "    }\n",
       "</style>\n",
       "<table border=\"1\" class=\"dataframe\">\n",
       "  <thead>\n",
       "    <tr style=\"text-align: right;\">\n",
       "      <th></th>\n",
       "      <th>Valor</th>\n",
       "      <th>Frecuencia</th>\n",
       "      <th>Real</th>\n",
       "      <th>Estimado</th>\n",
       "    </tr>\n",
       "  </thead>\n",
       "  <tbody>\n",
       "    <tr>\n",
       "      <th>0</th>\n",
       "      <td>1.0</td>\n",
       "      <td>1.0</td>\n",
       "      <td>0.001</td>\n",
       "      <td>0.000213</td>\n",
       "    </tr>\n",
       "    <tr>\n",
       "      <th>1</th>\n",
       "      <td>2.0</td>\n",
       "      <td>2.0</td>\n",
       "      <td>0.002</td>\n",
       "      <td>0.001256</td>\n",
       "    </tr>\n",
       "    <tr>\n",
       "      <th>2</th>\n",
       "      <td>3.0</td>\n",
       "      <td>3.0</td>\n",
       "      <td>0.003</td>\n",
       "      <td>0.004858</td>\n",
       "    </tr>\n",
       "    <tr>\n",
       "      <th>3</th>\n",
       "      <td>4.0</td>\n",
       "      <td>12.0</td>\n",
       "      <td>0.012</td>\n",
       "      <td>0.013847</td>\n",
       "    </tr>\n",
       "    <tr>\n",
       "      <th>4</th>\n",
       "      <td>5.0</td>\n",
       "      <td>24.0</td>\n",
       "      <td>0.024</td>\n",
       "      <td>0.031016</td>\n",
       "    </tr>\n",
       "    <tr>\n",
       "      <th>5</th>\n",
       "      <td>6.0</td>\n",
       "      <td>54.0</td>\n",
       "      <td>0.054</td>\n",
       "      <td>0.056863</td>\n",
       "    </tr>\n",
       "    <tr>\n",
       "      <th>6</th>\n",
       "      <td>7.0</td>\n",
       "      <td>92.0</td>\n",
       "      <td>0.092</td>\n",
       "      <td>0.087731</td>\n",
       "    </tr>\n",
       "    <tr>\n",
       "      <th>7</th>\n",
       "      <td>8.0</td>\n",
       "      <td>119.0</td>\n",
       "      <td>0.119</td>\n",
       "      <td>0.116244</td>\n",
       "    </tr>\n",
       "    <tr>\n",
       "      <th>8</th>\n",
       "      <td>9.0</td>\n",
       "      <td>135.0</td>\n",
       "      <td>0.135</td>\n",
       "      <td>0.134327</td>\n",
       "    </tr>\n",
       "    <tr>\n",
       "      <th>9</th>\n",
       "      <td>10.0</td>\n",
       "      <td>123.0</td>\n",
       "      <td>0.123</td>\n",
       "      <td>0.137013</td>\n",
       "    </tr>\n",
       "    <tr>\n",
       "      <th>10</th>\n",
       "      <td>11.0</td>\n",
       "      <td>132.0</td>\n",
       "      <td>0.132</td>\n",
       "      <td>0.124557</td>\n",
       "    </tr>\n",
       "    <tr>\n",
       "      <th>11</th>\n",
       "      <td>12.0</td>\n",
       "      <td>122.0</td>\n",
       "      <td>0.122</td>\n",
       "      <td>0.101722</td>\n",
       "    </tr>\n",
       "    <tr>\n",
       "      <th>12</th>\n",
       "      <td>13.0</td>\n",
       "      <td>81.0</td>\n",
       "      <td>0.081</td>\n",
       "      <td>0.075118</td>\n",
       "    </tr>\n",
       "    <tr>\n",
       "      <th>13</th>\n",
       "      <td>14.0</td>\n",
       "      <td>43.0</td>\n",
       "      <td>0.043</td>\n",
       "      <td>0.050436</td>\n",
       "    </tr>\n",
       "    <tr>\n",
       "      <th>14</th>\n",
       "      <td>15.0</td>\n",
       "      <td>23.0</td>\n",
       "      <td>0.023</td>\n",
       "      <td>0.030934</td>\n",
       "    </tr>\n",
       "    <tr>\n",
       "      <th>15</th>\n",
       "      <td>16.0</td>\n",
       "      <td>17.0</td>\n",
       "      <td>0.017</td>\n",
       "      <td>0.017400</td>\n",
       "    </tr>\n",
       "    <tr>\n",
       "      <th>16</th>\n",
       "      <td>17.0</td>\n",
       "      <td>9.0</td>\n",
       "      <td>0.009</td>\n",
       "      <td>0.009007</td>\n",
       "    </tr>\n",
       "    <tr>\n",
       "      <th>17</th>\n",
       "      <td>18.0</td>\n",
       "      <td>5.0</td>\n",
       "      <td>0.005</td>\n",
       "      <td>0.004303</td>\n",
       "    </tr>\n",
       "    <tr>\n",
       "      <th>18</th>\n",
       "      <td>19.0</td>\n",
       "      <td>2.0</td>\n",
       "      <td>0.002</td>\n",
       "      <td>0.001903</td>\n",
       "    </tr>\n",
       "    <tr>\n",
       "      <th>19</th>\n",
       "      <td>22.0</td>\n",
       "      <td>1.0</td>\n",
       "      <td>0.001</td>\n",
       "      <td>0.000105</td>\n",
       "    </tr>\n",
       "  </tbody>\n",
       "</table>\n",
       "</div>"
      ],
      "text/plain": [
       "    Valor  Frecuencia   Real  Estimado\n",
       "0     1.0         1.0  0.001  0.000213\n",
       "1     2.0         2.0  0.002  0.001256\n",
       "2     3.0         3.0  0.003  0.004858\n",
       "3     4.0        12.0  0.012  0.013847\n",
       "4     5.0        24.0  0.024  0.031016\n",
       "5     6.0        54.0  0.054  0.056863\n",
       "6     7.0        92.0  0.092  0.087731\n",
       "7     8.0       119.0  0.119  0.116244\n",
       "8     9.0       135.0  0.135  0.134327\n",
       "9    10.0       123.0  0.123  0.137013\n",
       "10   11.0       132.0  0.132  0.124557\n",
       "11   12.0       122.0  0.122  0.101722\n",
       "12   13.0        81.0  0.081  0.075118\n",
       "13   14.0        43.0  0.043  0.050436\n",
       "14   15.0        23.0  0.023  0.030934\n",
       "15   16.0        17.0  0.017  0.017400\n",
       "16   17.0         9.0  0.009  0.009007\n",
       "17   18.0         5.0  0.005  0.004303\n",
       "18   19.0         2.0  0.002  0.001903\n",
       "19   22.0         1.0  0.001  0.000105"
      ]
     },
     "execution_count": 14,
     "metadata": {},
     "output_type": "execute_result"
    }
   ],
   "source": [
    "dfEj1 = pd.DataFrame(columns=['Valor', 'Frecuencia','Real', 'Estimado'])\n",
    "j=0\n",
    "#i=0\n",
    "for A in Ej1_Arr:\n",
    "    j=np.sum([1 for i  in bin_rand if i== A])\n",
    "    dfEj1= dfEj1.append({'Valor': A, 'Frecuencia':j, 'Real':j/len(bin_rand), 'Estimado':X60.pmf(A)}, ignore_index=True)\n",
    "    \n",
    "dfEj1"
   ]
  },
  {
   "cell_type": "code",
   "execution_count": 15,
   "metadata": {},
   "outputs": [
    {
     "data": {
      "image/png": "[encoded data removed]",
      "text/plain": [
       "<Figure size 432x288 with 1 Axes>"
      ]
     },
     "metadata": {
      "needs_background": "light"
     },
     "output_type": "display_data"
    }
   ],
   "source": [
    "eje_x = dfEj1['Valor']\n",
    "eje_y = dfEj1['Frecuencia']\n",
    "plt.bar(eje_x, eje_y,color=\"purple\")\n",
    "plt.ylabel('Frecuencia')\n",
    "plt.xlabel('Valor')\n",
    "plt.title('Ej1. Frecuencias')\n",
    "plt.show()"
   ]
  },
  {
   "cell_type": "markdown",
   "metadata": {},
   "source": [
    "**Ejercicio 2**\n",
    "\n",
    "Dar una respuesta aproximada del ejercicio anterior a partir del arreglo `bin_rand`."
   ]
  },
  {
   "cell_type": "code",
   "execution_count": 16,
   "metadata": {},
   "outputs": [
    {
     "data": {
      "image/png": "[encoded data removed]",
      "text/plain": [
       "<Figure size 432x288 with 1 Axes>"
      ]
     },
     "metadata": {
      "needs_background": "light"
     },
     "output_type": "display_data"
    }
   ],
   "source": [
    "eje_x = dfEj1['Valor']\n",
    "eje_y = dfEj1['Real']\n",
    "plt.bar(eje_x, eje_y,color=\"Red\")\n",
    "plt.ylabel('Frecuencia')\n",
    "plt.xlabel('Probabilidad')\n",
    "plt.title('Ej2. Frecuencias')\n",
    "plt.show()"
   ]
  },
  {
   "cell_type": "markdown",
   "metadata": {},
   "source": [
    "### Distribución de Poisson\n",
    "Es una distribución de probabilidad discreta que a partir de una frecuencia de ocurrencia media, sirve para hallar la probabilidad de que ocurra un determinado número de eventos durante cierto período de tiempo.\n",
    "\n",
    "Para representar que una variable aleatoria $X$ sigue una distribución de Poisson con parámetro $\\lambda$, el cual representa el número de veces que se espera que ocurra el fenómeno durante un intervalo dado, usaremos la siguiente notación:\n",
    "\n",
    "$${\\displaystyle X\\sim Poi(\\lambda)},$$\n",
    "\n",
    "La función de masa de probabilidad de la distribución de Poisson es\n",
    "\n",
    "$${\\displaystyle f(k,\\lambda )={\\frac {e^{-\\lambda }\\lambda ^{k}}{k!}}}$$\n",
    "\n",
    "siendo $k$ el número de ocurrencias del evento. \n",
    "\n",
    "**Ejemplo**\n",
    "\n",
    "Si el 1% de los libros encuadernados tiene defectos, para obtener la probabilidad de que 10 de 800 libros encuadernados en este taller tengan encuadernaciones defectuosas usamos la distribución de Poisson.\n",
    "\n",
    "En tal caso $k=10$, $\\lambda=8$ ya que es el $1\\%$ de $800$\n",
    "por lo tanto\n",
    "$${\\displaystyle P(10;8)={\\frac {8^{10}e^{-8}}{10!}}\\approx0,0992615.}$$"
   ]
  },
  {
   "cell_type": "code",
   "execution_count": 17,
   "metadata": {},
   "outputs": [
    {
     "data": {
      "text/plain": [
       "0.09926153383153544"
      ]
     },
     "execution_count": 17,
     "metadata": {},
     "output_type": "execute_result"
    }
   ],
   "source": [
    "X = ss.poisson(8)\n",
    "X.pmf(10)"
   ]
  },
  {
   "cell_type": "markdown",
   "metadata": {},
   "source": [
    "Es decir la probabilidad es del 9.92%"
   ]
  },
  {
   "cell_type": "markdown",
   "metadata": {},
   "source": [
    "### Números aleatorios a partir de Poisson\n",
    "Replicamos el ejercicio anterior pero con la distribución de Poisson. Pero aquí usaremos una semilla usando la función `np.random.seed()`"
   ]
  },
  {
   "cell_type": "code",
   "execution_count": 18,
   "metadata": {},
   "outputs": [],
   "source": [
    "# Iniciar semilla \n",
    "np.random.seed(123) "
   ]
  },
  {
   "cell_type": "markdown",
   "metadata": {},
   "source": [
    "Calcule la diferencia absoluta entre su media y lambda usando `np.mean()` y `abs()`."
   ]
  },
  {
   "cell_type": "markdown",
   "metadata": {},
   "source": [
    "**Ejercicio 3**\n",
    "\n",
    "Replique lo hecho en el ejercicio 2 para esta distribución y resolviendo el ejemplo propuesto."
   ]
  },
  {
   "cell_type": "code",
   "execution_count": 42,
   "metadata": {},
   "outputs": [],
   "source": [
    "poi_ran=np.random.poisson(8,1000)\n",
    "Ej3_Arr = np.unique(poi_ran)"
   ]
  },
  {
   "cell_type": "code",
   "execution_count": 34,
   "metadata": {},
   "outputs": [
    {
     "data": {
      "text/html": [
       "<div>\n",
       "<style scoped>\n",
       "    .dataframe tbody tr th:only-of-type {\n",
       "        vertical-align: middle;\n",
       "    }\n",
       "\n",
       "    .dataframe tbody tr th {\n",
       "        vertical-align: top;\n",
       "    }\n",
       "\n",
       "    .dataframe thead th {\n",
       "        text-align: right;\n",
       "    }\n",
       "</style>\n",
       "<table border=\"1\" class=\"dataframe\">\n",
       "  <thead>\n",
       "    <tr style=\"text-align: right;\">\n",
       "      <th></th>\n",
       "      <th>Valor</th>\n",
       "      <th>Frecuencia</th>\n",
       "      <th>Real</th>\n",
       "    </tr>\n",
       "  </thead>\n",
       "  <tbody>\n",
       "    <tr>\n",
       "      <th>0</th>\n",
       "      <td>1.0</td>\n",
       "      <td>1.0</td>\n",
       "      <td>0.001</td>\n",
       "    </tr>\n",
       "    <tr>\n",
       "      <th>1</th>\n",
       "      <td>2.0</td>\n",
       "      <td>14.0</td>\n",
       "      <td>0.014</td>\n",
       "    </tr>\n",
       "    <tr>\n",
       "      <th>2</th>\n",
       "      <td>3.0</td>\n",
       "      <td>28.0</td>\n",
       "      <td>0.028</td>\n",
       "    </tr>\n",
       "    <tr>\n",
       "      <th>3</th>\n",
       "      <td>4.0</td>\n",
       "      <td>61.0</td>\n",
       "      <td>0.061</td>\n",
       "    </tr>\n",
       "    <tr>\n",
       "      <th>4</th>\n",
       "      <td>5.0</td>\n",
       "      <td>105.0</td>\n",
       "      <td>0.105</td>\n",
       "    </tr>\n",
       "    <tr>\n",
       "      <th>5</th>\n",
       "      <td>6.0</td>\n",
       "      <td>119.0</td>\n",
       "      <td>0.119</td>\n",
       "    </tr>\n",
       "    <tr>\n",
       "      <th>6</th>\n",
       "      <td>7.0</td>\n",
       "      <td>126.0</td>\n",
       "      <td>0.126</td>\n",
       "    </tr>\n",
       "    <tr>\n",
       "      <th>7</th>\n",
       "      <td>8.0</td>\n",
       "      <td>138.0</td>\n",
       "      <td>0.138</td>\n",
       "    </tr>\n",
       "    <tr>\n",
       "      <th>8</th>\n",
       "      <td>9.0</td>\n",
       "      <td>118.0</td>\n",
       "      <td>0.118</td>\n",
       "    </tr>\n",
       "    <tr>\n",
       "      <th>9</th>\n",
       "      <td>10.0</td>\n",
       "      <td>109.0</td>\n",
       "      <td>0.109</td>\n",
       "    </tr>\n",
       "    <tr>\n",
       "      <th>10</th>\n",
       "      <td>11.0</td>\n",
       "      <td>71.0</td>\n",
       "      <td>0.071</td>\n",
       "    </tr>\n",
       "    <tr>\n",
       "      <th>11</th>\n",
       "      <td>12.0</td>\n",
       "      <td>48.0</td>\n",
       "      <td>0.048</td>\n",
       "    </tr>\n",
       "    <tr>\n",
       "      <th>12</th>\n",
       "      <td>13.0</td>\n",
       "      <td>35.0</td>\n",
       "      <td>0.035</td>\n",
       "    </tr>\n",
       "    <tr>\n",
       "      <th>13</th>\n",
       "      <td>14.0</td>\n",
       "      <td>16.0</td>\n",
       "      <td>0.016</td>\n",
       "    </tr>\n",
       "    <tr>\n",
       "      <th>14</th>\n",
       "      <td>15.0</td>\n",
       "      <td>7.0</td>\n",
       "      <td>0.007</td>\n",
       "    </tr>\n",
       "    <tr>\n",
       "      <th>15</th>\n",
       "      <td>16.0</td>\n",
       "      <td>4.0</td>\n",
       "      <td>0.004</td>\n",
       "    </tr>\n",
       "  </tbody>\n",
       "</table>\n",
       "</div>"
      ],
      "text/plain": [
       "    Valor  Frecuencia   Real\n",
       "0     1.0         1.0  0.001\n",
       "1     2.0        14.0  0.014\n",
       "2     3.0        28.0  0.028\n",
       "3     4.0        61.0  0.061\n",
       "4     5.0       105.0  0.105\n",
       "5     6.0       119.0  0.119\n",
       "6     7.0       126.0  0.126\n",
       "7     8.0       138.0  0.138\n",
       "8     9.0       118.0  0.118\n",
       "9    10.0       109.0  0.109\n",
       "10   11.0        71.0  0.071\n",
       "11   12.0        48.0  0.048\n",
       "12   13.0        35.0  0.035\n",
       "13   14.0        16.0  0.016\n",
       "14   15.0         7.0  0.007\n",
       "15   16.0         4.0  0.004"
      ]
     },
     "execution_count": 34,
     "metadata": {},
     "output_type": "execute_result"
    }
   ],
   "source": [
    "dfEj3 = pd.DataFrame(columns=['Valor', 'Frecuencia','Real'])\n",
    "j=0\n",
    "for A in Ej3_Arr:\n",
    "    j=np.sum([1 for i  in poi_ran if i== A])\n",
    "    dfEj3= dfEj3.append({'Valor': A, 'Frecuencia':j, 'Real':j/len(poi_ran)}, ignore_index=True)\n",
    "    \n",
    "dfEj3"
   ]
  },
  {
   "cell_type": "code",
   "execution_count": 60,
   "metadata": {},
   "outputs": [
    {
     "data": {
      "image/png": "[encoded data removed]",
      "text/plain": [
       "<Figure size 432x288 with 1 Axes>"
      ]
     },
     "metadata": {
      "needs_background": "light"
     },
     "output_type": "display_data"
    }
   ],
   "source": [
    "eje_x = dfEj3['Valor']\n",
    "eje_y = dfEj3['Real']\n",
    "plt.bar(eje_x, eje_y,color=\"Blue\")\n",
    "plt.ylabel('Frecuencia')\n",
    "plt.xlabel('Probabilidad')\n",
    "plt.title('Ej3. Frecuencias Distribución de Poison')\n",
    "plt.show()"
   ]
  },
  {
   "cell_type": "markdown",
   "metadata": {
    "variables": {
     "8 \\choose 1}{20-8 \\choose 6-1": "<p><strong>SyntaxError</strong>: unexpected character after line continuation character (<ipython-input-4-e19f3d9873b4>, line 1)</p>\n",
     "d \\choose x}{N-d \\choose n-x": "<p><strong>SyntaxError</strong>: unexpected character after line continuation character (<ipython-input-4-772e2014b2dd>, line 1)</p>\n"
    }
   },
   "source": [
    "### Distribución hipergeométrica\n",
    "Ésta es una distribución discreta relacionada con muestreos aleatorios y sin reemplazo, es decir, si se tienen $N$ elementos de los cuales, $d$ pertenecen a la categoría $A$ y los demás, $N-d$, a la categoría $B$. La distribución hipergeométrica mide la probabilidad de obtener $x$ elementos de la categoría $A$, para $({\\displaystyle 0\\leq x\\leq d})$, en una muestra sin reemplazo de $n$ elementos de la población original.\n",
    "\n",
    "La función de probabilidad de una variable aleatoria con distribución hipergeométrica es igual a\n",
    "\n",
    "$${\\displaystyle P(X=x)={\\frac {{d \\choose x}{N-d \\choose n-x}}{N \\choose n}}.}$$\n",
    "\n",
    "**Ejemplo**\n",
    "\n",
    "Se formó un jurado de 6 personas de un grupo de 20 posibles miembros de los cuales 8 eran mujeres y 12 hombres. El jurado seelecionó aleatoriamente, ¿cuál es la probabilidad de que el jurado tenga exactamente una mujer?\n",
    "\n",
    "$$P(20,8,6;1)={\\frac {{8 \\choose 1}{20-8 \\choose 6-1}}{20 \\choose 6}}\\approx 0.16346$$"
   ]
  },
  {
   "cell_type": "code",
   "execution_count": 36,
   "metadata": {},
   "outputs": [
    {
     "data": {
      "text/plain": [
       "0.16346749226006166"
      ]
     },
     "execution_count": 36,
     "metadata": {},
     "output_type": "execute_result"
    }
   ],
   "source": [
    "X = ss.hypergeom(20,6,8)\n",
    "X.pmf(1)"
   ]
  },
  {
   "cell_type": "markdown",
   "metadata": {},
   "source": [
    "Es decir la probabilidad es del 16.34%"
   ]
  },
  {
   "cell_type": "markdown",
   "metadata": {},
   "source": [
    "### Números aleatorios a partir de hipergeométrica\n",
    "\n",
    "**Ejercicio 4**\n",
    "\n",
    "Haga un arreglo de 1000 números escogido según una distribución hipergemétrica."
   ]
  },
  {
   "cell_type": "code",
   "execution_count": 45,
   "metadata": {},
   "outputs": [],
   "source": [
    "hip_ran = np.random.hypergeometric(20,6,8, 1000)\n",
    "Ej4_Arr = np.unique(hip_ran)"
   ]
  },
  {
   "cell_type": "code",
   "execution_count": 47,
   "metadata": {},
   "outputs": [
    {
     "data": {
      "text/html": [
       "<div>\n",
       "<style scoped>\n",
       "    .dataframe tbody tr th:only-of-type {\n",
       "        vertical-align: middle;\n",
       "    }\n",
       "\n",
       "    .dataframe tbody tr th {\n",
       "        vertical-align: top;\n",
       "    }\n",
       "\n",
       "    .dataframe thead th {\n",
       "        text-align: right;\n",
       "    }\n",
       "</style>\n",
       "<table border=\"1\" class=\"dataframe\">\n",
       "  <thead>\n",
       "    <tr style=\"text-align: right;\">\n",
       "      <th></th>\n",
       "      <th>Valor</th>\n",
       "      <th>Frecuencia</th>\n",
       "      <th>Real</th>\n",
       "    </tr>\n",
       "  </thead>\n",
       "  <tbody>\n",
       "    <tr>\n",
       "      <th>0</th>\n",
       "      <td>3.0</td>\n",
       "      <td>3.0</td>\n",
       "      <td>0.003</td>\n",
       "    </tr>\n",
       "    <tr>\n",
       "      <th>1</th>\n",
       "      <td>4.0</td>\n",
       "      <td>41.0</td>\n",
       "      <td>0.041</td>\n",
       "    </tr>\n",
       "    <tr>\n",
       "      <th>2</th>\n",
       "      <td>5.0</td>\n",
       "      <td>191.0</td>\n",
       "      <td>0.191</td>\n",
       "    </tr>\n",
       "    <tr>\n",
       "      <th>3</th>\n",
       "      <td>6.0</td>\n",
       "      <td>366.0</td>\n",
       "      <td>0.366</td>\n",
       "    </tr>\n",
       "    <tr>\n",
       "      <th>4</th>\n",
       "      <td>7.0</td>\n",
       "      <td>308.0</td>\n",
       "      <td>0.308</td>\n",
       "    </tr>\n",
       "    <tr>\n",
       "      <th>5</th>\n",
       "      <td>8.0</td>\n",
       "      <td>91.0</td>\n",
       "      <td>0.091</td>\n",
       "    </tr>\n",
       "  </tbody>\n",
       "</table>\n",
       "</div>"
      ],
      "text/plain": [
       "   Valor  Frecuencia   Real\n",
       "0    3.0         3.0  0.003\n",
       "1    4.0        41.0  0.041\n",
       "2    5.0       191.0  0.191\n",
       "3    6.0       366.0  0.366\n",
       "4    7.0       308.0  0.308\n",
       "5    8.0        91.0  0.091"
      ]
     },
     "execution_count": 47,
     "metadata": {},
     "output_type": "execute_result"
    }
   ],
   "source": [
    "dfEj4 = pd.DataFrame(columns=['Valor', 'Frecuencia','Real'])\n",
    "j=0\n",
    "for A in Ej4_Arr:\n",
    "    j=np.sum([1 for i  in hip_ran if i== A])\n",
    "    dfEj4= dfEj4.append({'Valor': A, 'Frecuencia':j, 'Real':j/len(hip_ran)}, ignore_index=True)\n",
    "    \n",
    "dfEj4"
   ]
  },
  {
   "cell_type": "code",
   "execution_count": 59,
   "metadata": {},
   "outputs": [
    {
     "data": {
      "image/png": "[encoded data removed]",
      "text/plain": [
       "<Figure size 432x288 with 1 Axes>"
      ]
     },
     "metadata": {
      "needs_background": "light"
     },
     "output_type": "display_data"
    }
   ],
   "source": [
    "eje_x = dfEj4['Valor']\n",
    "eje_y = dfEj4['Real']\n",
    "plt.bar(eje_x, eje_y,color=\"Gray\")\n",
    "plt.ylabel('Frecuencia')\n",
    "plt.xlabel('Probabilidad')\n",
    "plt.title('Ej4. Frecuencias a partir de hipergeométrica')\n",
    "plt.show()"
   ]
  },
  {
   "cell_type": "markdown",
   "metadata": {},
   "source": [
    "## Variables aleatorias continuas\n",
    "Por otro lado, las variables aleatorias continuas, son las que resultan generalmente de la medición y, pueden tomar cualquier valor dentro de un intervalo.\n",
    "\n",
    "### Distribución Normal\n",
    "Es la distribución que se aplica en la mayor cantidad de situaciones, en las que se trabaje con una variable aleatoria continua en un grupo o población dada. Ejemplos de tales situaciones son, las estaturas de hombre, mujeres, variaciones en la medición de diferentes cantidades, etc.\n",
    "\n",
    "Los parámetros que necesitamos definir para estudiar la distribución normal son $\\mu$ que es la media;  $\\sigma$ que representa la desviación típica, de modo que $\\sigma^2$ es la varianza. Si consideramos el caso especial de la función donde ${\\displaystyle \\mu =0}$ y ${\\displaystyle \\sigma =1}$, llamaremos a tal función como distribución normal estándar.\n",
    "    \n",
    "$$N(x;  μ,σ) = ∫_{-∞}^{x} f(u; μ,σ) du$$\n",
    "donde $f(u; μ,σ)$ es la función densidad de probabilidad:\n",
    "\n",
    "$$f(u; μ,σ) = \\frac{1}{σ\\sqrt{2π}} e^{\\frac{-(u-\\mu)^2}{2σ^2}}$$\n",
    "\n",
    "Muchas veces cuando no se posee un software, se hace necesario el uso de valores ya calculados que por lo general están consignados en tablas y son documentos de fácil acceso.\n",
    "\n",
    "**Ejemplo **\n",
    "\n",
    "Suponga que tiene un conjunto de datos aleatorios $X$ que siguen una distribución normal de media $10$ y desviación típica $2$. Se pide encontrar la probabilidad de que:\n",
    "\n",
    "1. La variable aleatoria $x$ sea menor o igual a 8.\n",
    "\n"
   ]
  },
  {
   "cell_type": "code",
   "execution_count": 50,
   "metadata": {},
   "outputs": [],
   "source": [
    "X = ss.norm(10,2)"
   ]
  },
  {
   "cell_type": "code",
   "execution_count": 51,
   "metadata": {},
   "outputs": [
    {
     "data": {
      "text/plain": [
       "0.15865525393145707"
      ]
     },
     "execution_count": 51,
     "metadata": {},
     "output_type": "execute_result"
    }
   ],
   "source": [
    "X.cdf(8) # La propabilidad es del 15.86%"
   ]
  },
  {
   "cell_type": "markdown",
   "metadata": {},
   "source": [
    "2. Sea menor o igual a 10."
   ]
  },
  {
   "cell_type": "code",
   "execution_count": 52,
   "metadata": {},
   "outputs": [
    {
     "data": {
      "text/plain": [
       "0.5"
      ]
     },
     "execution_count": 52,
     "metadata": {},
     "output_type": "execute_result"
    }
   ],
   "source": [
    "X.cdf(10) # La propabilidad es del 50%"
   ]
  },
  {
   "cell_type": "markdown",
   "metadata": {},
   "source": [
    "3.  Que la variable $x$ esté por debajo de 12.\n"
   ]
  },
  {
   "cell_type": "code",
   "execution_count": 53,
   "metadata": {},
   "outputs": [
    {
     "data": {
      "text/plain": [
       "0.8413447460685429"
      ]
     },
     "execution_count": 53,
     "metadata": {},
     "output_type": "execute_result"
    }
   ],
   "source": [
    "X.cdf(12) # La propabilidad es del 84.13%"
   ]
  },
  {
   "cell_type": "markdown",
   "metadata": {},
   "source": [
    "4. La probabilidad que un valor $x$ esté entre 8 y 12."
   ]
  },
  {
   "cell_type": "code",
   "execution_count": 54,
   "metadata": {},
   "outputs": [
    {
     "data": {
      "text/plain": [
       "0.6826894921370859"
      ]
     },
     "execution_count": 54,
     "metadata": {},
     "output_type": "execute_result"
    }
   ],
   "source": [
    "X.cdf(12)-X.cdf(8) # La propabilidad es del 68.26%"
   ]
  },
  {
   "cell_type": "markdown",
   "metadata": {},
   "source": [
    "**Ejercicio 5**\n",
    "\n",
    "Haga un arreglo de 1000 números escogidos según una distribución normal."
   ]
  },
  {
   "cell_type": "code",
   "execution_count": 65,
   "metadata": {},
   "outputs": [],
   "source": [
    "media=25\n",
    "dEst=1.2\n",
    "norm_ran = np.random.normal(media,dEst, 1000)  #media 25 , desviación estandar 1.2\n",
    "Ej5_Arr = np.unique(norm_ran)"
   ]
  },
  {
   "cell_type": "code",
   "execution_count": 66,
   "metadata": {},
   "outputs": [
    {
     "data": {
      "text/html": [
       "<div>\n",
       "<style scoped>\n",
       "    .dataframe tbody tr th:only-of-type {\n",
       "        vertical-align: middle;\n",
       "    }\n",
       "\n",
       "    .dataframe tbody tr th {\n",
       "        vertical-align: top;\n",
       "    }\n",
       "\n",
       "    .dataframe thead th {\n",
       "        text-align: right;\n",
       "    }\n",
       "</style>\n",
       "<table border=\"1\" class=\"dataframe\">\n",
       "  <thead>\n",
       "    <tr style=\"text-align: right;\">\n",
       "      <th></th>\n",
       "      <th>Valor</th>\n",
       "      <th>Frecuencia</th>\n",
       "      <th>Real</th>\n",
       "    </tr>\n",
       "  </thead>\n",
       "  <tbody>\n",
       "    <tr>\n",
       "      <th>0</th>\n",
       "      <td>21.189159</td>\n",
       "      <td>1.0</td>\n",
       "      <td>0.001</td>\n",
       "    </tr>\n",
       "    <tr>\n",
       "      <th>1</th>\n",
       "      <td>21.362287</td>\n",
       "      <td>1.0</td>\n",
       "      <td>0.001</td>\n",
       "    </tr>\n",
       "    <tr>\n",
       "      <th>2</th>\n",
       "      <td>21.386129</td>\n",
       "      <td>1.0</td>\n",
       "      <td>0.001</td>\n",
       "    </tr>\n",
       "    <tr>\n",
       "      <th>3</th>\n",
       "      <td>21.542516</td>\n",
       "      <td>1.0</td>\n",
       "      <td>0.001</td>\n",
       "    </tr>\n",
       "    <tr>\n",
       "      <th>4</th>\n",
       "      <td>21.571315</td>\n",
       "      <td>1.0</td>\n",
       "      <td>0.001</td>\n",
       "    </tr>\n",
       "    <tr>\n",
       "      <th>...</th>\n",
       "      <td>...</td>\n",
       "      <td>...</td>\n",
       "      <td>...</td>\n",
       "    </tr>\n",
       "    <tr>\n",
       "      <th>995</th>\n",
       "      <td>28.099696</td>\n",
       "      <td>1.0</td>\n",
       "      <td>0.001</td>\n",
       "    </tr>\n",
       "    <tr>\n",
       "      <th>996</th>\n",
       "      <td>28.170697</td>\n",
       "      <td>1.0</td>\n",
       "      <td>0.001</td>\n",
       "    </tr>\n",
       "    <tr>\n",
       "      <th>997</th>\n",
       "      <td>28.419145</td>\n",
       "      <td>1.0</td>\n",
       "      <td>0.001</td>\n",
       "    </tr>\n",
       "    <tr>\n",
       "      <th>998</th>\n",
       "      <td>28.490661</td>\n",
       "      <td>1.0</td>\n",
       "      <td>0.001</td>\n",
       "    </tr>\n",
       "    <tr>\n",
       "      <th>999</th>\n",
       "      <td>28.544993</td>\n",
       "      <td>1.0</td>\n",
       "      <td>0.001</td>\n",
       "    </tr>\n",
       "  </tbody>\n",
       "</table>\n",
       "<p>1000 rows × 3 columns</p>\n",
       "</div>"
      ],
      "text/plain": [
       "         Valor  Frecuencia   Real\n",
       "0    21.189159         1.0  0.001\n",
       "1    21.362287         1.0  0.001\n",
       "2    21.386129         1.0  0.001\n",
       "3    21.542516         1.0  0.001\n",
       "4    21.571315         1.0  0.001\n",
       "..         ...         ...    ...\n",
       "995  28.099696         1.0  0.001\n",
       "996  28.170697         1.0  0.001\n",
       "997  28.419145         1.0  0.001\n",
       "998  28.490661         1.0  0.001\n",
       "999  28.544993         1.0  0.001\n",
       "\n",
       "[1000 rows x 3 columns]"
      ]
     },
     "execution_count": 66,
     "metadata": {},
     "output_type": "execute_result"
    }
   ],
   "source": [
    "dfEj5 = pd.DataFrame(columns=['Valor', 'Frecuencia','Real'])\n",
    "j=0\n",
    "for A in Ej5_Arr:\n",
    "    j=np.sum([1 for i  in norm_ran if i== A])\n",
    "    dfEj5= dfEj5.append({'Valor': A, 'Frecuencia':j, 'Real':j/len(norm_ran)}, ignore_index=True)\n",
    "    \n",
    "dfEj5"
   ]
  },
  {
   "cell_type": "code",
   "execution_count": 70,
   "metadata": {},
   "outputs": [
    {
     "data": {
      "image/png": "[encoded data removed]",
      "text/plain": [
       "<Figure size 432x288 with 1 Axes>"
      ]
     },
     "metadata": {
      "needs_background": "light"
     },
     "output_type": "display_data"
    }
   ],
   "source": [
    "eje_x = dfEj5['Valor']\n",
    "eje_y = dfEj5['Real']\n",
    "plt.title('Ej5. Distribución normal en variables continuas')\n",
    "count, bins, ignored = plt.hist(norm_ran, 50, density=True, color='pink')\n",
    "plt.plot(bins, 1/(dEst * np.sqrt(2 * np.pi)) *\n",
    "               np.exp( - (bins - media)**2 / (2 * dEst**2) ))\n",
    "plt.show()\n"
   ]
  },
  {
   "cell_type": "markdown",
   "metadata": {},
   "source": [
    "## Otras escogencias aleatorias - Barajar un juego de cartas\n",
    "Muchas veces estamos interesados en aleatorizar el orden de un conjunto de elementos. Usaremos `np.random.shuffle ()`, una función que permite mezclar aleatoriamente una secuencia de elementos cualesquiera.\n"
   ]
  },
  {
   "cell_type": "code",
   "execution_count": 76,
   "metadata": {},
   "outputs": [
    {
     "data": {
      "text/plain": [
       "[('Trébol', 8),\n",
       " ('Trébol', 6),\n",
       " ('Diamantes', 4),\n",
       " ('Picas', 3),\n",
       " ('Diamantes', 11),\n",
       " ('Corazón', 3),\n",
       " ('Diamantes', 12),\n",
       " ('Trébol', 9),\n",
       " ('Corazón', 13),\n",
       " ('Diamantes', 3),\n",
       " ('Picas', 9),\n",
       " ('Picas', 10),\n",
       " ('Corazón', 12),\n",
       " ('Diamantes', 8),\n",
       " ('Trébol', 10),\n",
       " ('Picas', 8),\n",
       " ('Picas', 2),\n",
       " ('Diamantes', 1),\n",
       " ('Diamantes', 2),\n",
       " ('Corazón', 10),\n",
       " ('Trébol', 3),\n",
       " ('Trébol', 2),\n",
       " ('Diamantes', 6),\n",
       " ('Trébol', 5),\n",
       " ('Diamantes', 5),\n",
       " ('Diamantes', 7),\n",
       " ('Picas', 7),\n",
       " ('Trébol', 11),\n",
       " ('Trébol', 13),\n",
       " ('Picas', 12),\n",
       " ('Trébol', 4),\n",
       " ('Diamantes', 10),\n",
       " ('Trébol', 12),\n",
       " ('Diamantes', 13),\n",
       " ('Corazón', 9),\n",
       " ('Picas', 4),\n",
       " ('Picas', 1),\n",
       " ('Corazón', 6),\n",
       " ('Corazón', 1),\n",
       " ('Corazón', 2),\n",
       " ('Corazón', 4),\n",
       " ('Picas', 13),\n",
       " ('Corazón', 5),\n",
       " ('Corazón', 7),\n",
       " ('Picas', 11),\n",
       " ('Picas', 5),\n",
       " ('Corazón', 8),\n",
       " ('Corazón', 11),\n",
       " ('Diamantes', 9),\n",
       " ('Trébol', 1),\n",
       " ('Picas', 6),\n",
       " ('Trébol', 7)]"
      ]
     },
     "execution_count": 76,
     "metadata": {},
     "output_type": "execute_result"
    }
   ],
   "source": [
    "Baraja = []\n",
    "for i in [\"Corazón\",\"Picas\",\"Diamantes\",\"Trébol\"]:\n",
    "    for j in range(13):\n",
    "        Baraja.append((i,j+1))\n",
    "# Shuffle the deck\n",
    "np.random.shuffle(Baraja)\n",
    "Baraja"
   ]
  },
  {
   "cell_type": "markdown",
   "metadata": {},
   "source": [
    "# Simulaciones - Casos prácticos\n",
    "*Tomados de [https://github.com/sukruc/statistical-simulation](https://github.com/sukruc/statistical-simulation)*\n",
    "\n",
    "## Esquema para modelar eventos reales a partir de procesos estocásticos\n",
    "\n",
    "- Caracterizado por muestreo aleatorio repetido.\n",
    "- Nos da una solución aproximada.\n",
    "- Puede ayudar a resolver problemas complejos.\n",
    "\n",
    "## Pasos de simulación:\n",
    "\n",
    "1. Definir posibles resultados para variables aleatorias\n",
    "2. Asignar posibilidades.\n",
    "3. Definir relaciones entre variables aleatorias.\n",
    "4. Obtenga múltiples resultados mediante muestreo repetido.\n",
    "5. Analice los resultados de la muestra."
   ]
  },
  {
   "cell_type": "markdown",
   "metadata": {},
   "source": [
    "### Sacar pares\n",
    "\n",
    "Jugar parqués propone un primer reto para todos los jugadores, sacar pares para poder salir de la carcel. Este inocente hecho lo retrataremos en un modelo de simulación, seguiremos los pasos descritos anteriormente para entender las probabilidades y posibilidades alrededor el juego. \n",
    "\n",
    "En primer lugar debemos entender que la base del proceso de simulación implica un muestreo aleatorio repetido. El primer paso que se refiere a crear una muestra aleatoria consiste en pensar en el lanzamiento de un dado:"
   ]
  },
  {
   "cell_type": "code",
   "execution_count": 80,
   "metadata": {},
   "outputs": [
    {
     "name": "stdout",
     "output_type": "stream",
     "text": [
      "Salida del lanzamiento: 3\n"
     ]
    }
   ],
   "source": [
    "p = 1/6\n",
    "dado, probabilidades, lanzamientos = [1,2,3,4,5,6], [p]*6, 1\n",
    "\n",
    "# Use np.random.choice to throw the die once and record the outcome\n",
    "outcome = np.random.choice(dado, size=lanzamientos, p=probabilidades)\n",
    "print(\"Salida del lanzamiento: {}\".format(outcome[0]))"
   ]
  },
  {
   "cell_type": "markdown",
   "metadata": {},
   "source": [
    "Observe que el vector de probabilidades se asignan valores justos en la salida del dado. En este sentido podemos manipular las probabilidades del ejercicio. Completamos entonces el paso 2. Ahora vamos a definir la relación entre variables aleatorias.\n",
    "\n",
    "Muchas veces, nuestra simulación involucrará no solo una, sino múltiples variables aleatorias. Considere un juego en el que le tira dos dados y gana si cada dado muestra el mismo número. Aquí tenemos dos variables aleatorias - los dos dados - y una relación entre cada una de ellas - ganamos si muestran el mismo número, perdemos si no. En realidad, la relación entre variables aleatorias puede ser mucho más compleja."
   ]
  },
  {
   "cell_type": "code",
   "execution_count": 81,
   "metadata": {},
   "outputs": [
    {
     "name": "stdout",
     "output_type": "stream",
     "text": [
      "Los dados muestran 5 y 3. Sigue intentando.\n"
     ]
    }
   ],
   "source": [
    "dado, probabilidades, num_dados = [1,2,3,4,5,6], [1/6, 1/6, 1/6, 1/6, 1/6, 1/6], 2\n",
    "outcomes = np.random.choice(dado, size=num_dados, p=probabilidades) \n",
    "\n",
    "if outcomes[0] == outcomes[1]: \n",
    "    answer = '¡Pares!' \n",
    "else:\n",
    "    answer = 'Sigue intentando.'\n",
    "\n",
    "print(\"Los dados muestran {} y {}. {}\".format(outcomes[0], outcomes[1], answer))"
   ]
  },
  {
   "cell_type": "markdown",
   "metadata": {},
   "source": [
    "Si bien ya somos aptos para crear el juego de sacar pares aún hace falta simular varias opiciones para establecer probabilidades de ganar este juego.\n",
    "\n",
    "**Ejercicio 6**\n",
    "\n",
    "¿Cuál es la probabilidad de sacar pares?\n",
    "\n"
   ]
  },
  {
   "cell_type": "code",
   "execution_count": 99,
   "metadata": {},
   "outputs": [
    {
     "name": "stdout",
     "output_type": "stream",
     "text": [
      "par 171\n",
      "La probabilidad de sacar pares es:  0.171\n"
     ]
    }
   ],
   "source": [
    "dado, probabilidades, num_dados = [1,2,3,4,5,6], [1/6, 1/6, 1/6, 1/6, 1/6, 1/6], 2\n",
    "D1=[]\n",
    "D2=[]\n",
    "lanzamiento=0\n",
    "par = 0 \n",
    "while lanzamiento < 1000:\n",
    "    outcomes = np.random.choice(dado, size=num_dados, p=probabilidades)\n",
    "    D1.append(outcomes[0])\n",
    "    D2.append(outcomes[1])\n",
    "    if outcomes[0] == outcomes[1]: \n",
    "        par=par+1\n",
    "    lanzamiento = lanzamiento + 1\n",
    "    \n",
    "Prob_Par = par/1000\n",
    "print('La probabilidad de sacar pares es: ',Prob_Par)"
   ]
  },
  {
   "cell_type": "markdown",
   "metadata": {},
   "source": [
    "**Ejercicio 7**\n",
    "\n",
    "Simule varios juegos de pares y verifique que la probabilidad anterior es correcta."
   ]
  },
  {
   "cell_type": "code",
   "execution_count": 103,
   "metadata": {},
   "outputs": [
    {
     "name": "stdout",
     "output_type": "stream",
     "text": [
      "Digite la cantidad de juegos: 1000000\n",
      "La probabilidad de sacar pares es:  0.16675\n"
     ]
    }
   ],
   "source": [
    "dado, probabilidades, num_dados = [1,2,3,4,5,6], [1/6, 1/6, 1/6, 1/6, 1/6, 1/6], 2\n",
    "D1=[]\n",
    "D2=[]\n",
    "lanzamiento=0\n",
    "par = 0 \n",
    "QJuegos=int(input('Digite la cantidad de juegos: '))\n",
    "while lanzamiento < QJuegos:\n",
    "    outcomes = np.random.choice(dado, size=num_dados, p=probabilidades)\n",
    "    D1.append(outcomes[0])\n",
    "    D2.append(outcomes[1])\n",
    "    if outcomes[0] == outcomes[1]: \n",
    "        par=par+1\n",
    "    lanzamiento = lanzamiento + 1\n",
    "    \n",
    "Prob_Par = par/QJuegos\n",
    "print('La probabilidad de sacar pares es: ',Prob_Par)"
   ]
  },
  {
   "cell_type": "markdown",
   "metadata": {},
   "source": [
    "# Usando la simulación en toma de decisiones\n",
    "\n",
    "Según lo anterior, el proceso de simulación se simplifica en:"
   ]
  },
  {
   "cell_type": "markdown",
   "metadata": {},
   "source": [
    "Aquí:\n",
    "- Pasos 1 y 2: definir los resultados de las variables aleatorias y asignar las probabilidades.\n",
    "- Paso 3: Definir la relación entre los parámetros del modelo.\n",
    "- Paso 4: muestrear repetidamente las distribuciones A y B para generar resultados.\n",
    "- Paso 5: Analizar los resultados.\n",
    "\n",
    "Utilicemos algunas simulaciones para tomar decisiones."
   ]
  },
  {
   "cell_type": "markdown",
   "metadata": {},
   "source": [
    "**Simulando un sorteo de lotería**\n",
    "\n",
    "Ejecutaremos una simulación completa, tomaremos una decisión basada en nuestros resultados observados y aprenderemos a modificar las entradas al modelo de simulación.\n",
    "\n",
    "En este caso veremos si queremos o no comprar un boleto de lotería. Suponga que tiene la oportunidad de comprar un boleto de lotería que le da una oportunidad de ganar un gran premio de $\\$ $ 1 millón. Como hay 1000 boletos en total, su probabilidad de ganar es de 1 en 1000. Cada boleto cuesta  $\\$ $ 10. Usemos nuestra comprensión de las simulaciones básicas para simular primero un sorteo de la lotería."
   ]
  },
  {
   "cell_type": "markdown",
   "metadata": {},
   "source": [
    "**Ejercicio 8**\n",
    "\n",
    "Explique el siguiente código, indique lo que almacena\n",
    "\n",
    "- `gains`\n",
    "- `probability`\n",
    "- `outcome`\n"
   ]
  },
  {
   "cell_type": "code",
   "execution_count": 107,
   "metadata": {
    "tags": []
   },
   "outputs": [
    {
     "name": "stdout",
     "output_type": "stream",
     "text": [
      "La ganancia de un juego de lotería es [-10]\n"
     ]
    }
   ],
   "source": [
    "lottery_ticket_cost, num_tickets, grand_prize = 10, 1000, 1000000\n",
    "\n",
    "# Probability of winning\n",
    "chance_of_winning = 1/num_tickets\n",
    "\n",
    "# Code to simulate a single drawing of the lottery\n",
    "gains = [-lottery_ticket_cost, grand_prize-lottery_ticket_cost]\n",
    "probability = [1-chance_of_winning, chance_of_winning]\n",
    "outcome = np.random.choice(a=gains, size=1, p=probability, replace=True)\n",
    "\n",
    "print(\"La ganancia de un juego de lotería es {}\".format(outcome))"
   ]
  },
  {
   "cell_type": "markdown",
   "metadata": {},
   "source": [
    "## ¿Deberíamos comprar?\n",
    "En el último ejercicio, simulamos el sorteo aleatorio del billete de lotería una vez. En este ejercicio, completamos el proceso de simulación repitiendo el proceso varias veces.\n",
    "\n",
    "Repetir el proceso nos da múltiples resultados. Podemos pensar en esto como múltiples universos donde ocurrió el mismo sorteo de lotería. Luego, podemos determinar las ganancias promedio en todos estos universos. Si las ganancias promedio son mayores de lo que pagamos por el boleto, entonces tiene sentido comprarlo, de lo contrario, es posible que no queramos comprar el boleto.\n",
    "\n",
    "Normalmente, así es como se utilizan las simulaciones para evaluar las inversiones comerciales. Después de completar este ejercicio, tendrá las herramientas básicas necesarias para utilizar simulaciones para la toma de decisiones."
   ]
  },
  {
   "cell_type": "code",
   "execution_count": 113,
   "metadata": {},
   "outputs": [
    {
     "name": "stdout",
     "output_type": "stream",
     "text": [
      "Pago promedio de 2000 simulaciones = 1990.0\n"
     ]
    }
   ],
   "source": [
    "# Initialize size and simulate outcome\n",
    "lottery_ticket_cost, num_tickets, grand_prize = 10, 1000, 1000000\n",
    "chance_of_winning = 1/num_tickets\n",
    "size = 2000\n",
    "payoffs = [-lottery_ticket_cost, grand_prize-lottery_ticket_cost]\n",
    "probs = [1-chance_of_winning, chance_of_winning]\n",
    "\n",
    "outcomes = np.random.choice(a=payoffs, size=size, p=probs, replace=True)\n",
    "\n",
    "# Mean of outcomes.\n",
    "answer = np.mean(outcomes)\n",
    "print(\"Pago promedio de {} simulaciones = {}\".format(size, answer))"
   ]
  },
  {
   "cell_type": "markdown",
   "metadata": {},
   "source": [
    "**Ejercicio 9**\n",
    "\n",
    "¿Qué visualizaciones son adecuadas para indicar los resultados de esta simulación?"
   ]
  },
  {
   "cell_type": "code",
   "execution_count": 114,
   "metadata": {},
   "outputs": [
    {
     "data": {
      "image/png": "[encoded data removed]",
      "text/plain": [
       "<Figure size 432x288 with 1 Axes>"
      ]
     },
     "metadata": {},
     "output_type": "display_data"
    }
   ],
   "source": [
    "CostoBoletos=size*lottery_ticket_cost\n",
    "Titulo=\"Pago promedio de {} simulaciones = {}\".format(CostoBoletos, answer)\n",
    "\n",
    "data = [CostoBoletos,answer]\n",
    "labels = ['Costo', 'Ganancia']\n",
    "plt.title(Titulo)\n",
    "\n",
    "\n",
    "plt.pie(data, labels = labels, autopct='%.0f%%')\n",
    "plt.show()"
   ]
  },
  {
   "cell_type": "markdown",
   "metadata": {},
   "source": [
    "## Calculando un precio de lotería de equilibrio\n",
    "Las simulaciones nos permiten hacer preguntas más matizadas que no necesariamente tienen una solución analítica fácil. En lugar de resolver una fórmula matemática compleja, obtenemos directamente múltiples resultados de muestra. Podemos realizar experimentos modificando las entradas y estudiando cómo esos cambios impactan en el sistema. Por ejemplo, una vez que tengamos un modelo moderadamente razonable de patrones climáticos globales, podríamos evaluar el impacto del aumento de las emisiones de gases de efecto invernadero.\n",
    "\n",
    "En el ejemplo de la lotería, es posible que deseemos saber qué tan caro debe ser el boleto para que no tenga sentido comprarlo. Para entender esto, necesitamos modificar el costo del boleto para ver cuándo la recompensa esperada es negativa."
   ]
  },
  {
   "cell_type": "code",
   "execution_count": 119,
   "metadata": {},
   "outputs": [
    {
     "name": "stdout",
     "output_type": "stream",
     "text": [
      "El precio más alto al que tiene sentido comprar el boleto es 448\n"
     ]
    }
   ],
   "source": [
    "sims, lottery_ticket_cost = 10000, 0\n",
    "\n",
    "\n",
    "while 1:\n",
    "    outcomes = np.random.choice([-lottery_ticket_cost, grand_prize-lottery_ticket_cost],\n",
    "                 size=sims, p=[1-chance_of_winning, chance_of_winning], replace=True)\n",
    "    if outcomes.mean() < 0:\n",
    "        break\n",
    "    else:\n",
    "        lottery_ticket_cost += 1\n",
    "answer = lottery_ticket_cost - 1\n",
    "\n",
    "print(\"El precio más alto al que tiene sentido comprar el boleto es {}\".format(answer))"
   ]
  },
  {
   "cell_type": "markdown",
   "metadata": {},
   "source": [
    "**Ejercicio 10**\n",
    "\n",
    "¿Cómo innterpreta el rendimiento de las anteriores simulaciones? ¿Basta con esa cantidad? ¿Que pasa si se vuelve a correr la celda anterior? ¿Se puede mejorar los resultados de este ejercicio?"
   ]
  },
  {
   "cell_type": "code",
   "execution_count": 120,
   "metadata": {},
   "outputs": [
    {
     "name": "stdout",
     "output_type": "stream",
     "text": [
      "El precio más alto al que tiene sentido comprar el boleto es 829\n"
     ]
    }
   ],
   "source": [
    "sims, lottery_ticket_cost = 100000, 0\n",
    "\n",
    "while 1:\n",
    "    outcomes = np.random.choice([-lottery_ticket_cost, grand_prize-lottery_ticket_cost],\n",
    "                 size=sims, p=[1-chance_of_winning, chance_of_winning], replace=True)\n",
    "\n",
    "    if outcomes.mean() < 0:\n",
    "        break\n",
    "    else:\n",
    "        #print('este es el ourcomes',outcomes)\n",
    "        lottery_ticket_cost += 1\n",
    "        #incremente +1 el valor del ticket\n",
    "        #print(lottery_ticket_cost)\n",
    "answer = lottery_ticket_cost - 1\n",
    "print(\"El precio más alto al que tiene sentido comprar el boleto es {}\".format(answer))"
   ]
  },
  {
   "cell_type": "markdown",
   "metadata": {},
   "source": [
    "Al aumentar la cantidad a razon de diez veces se ve un incremeto en la respuesta"
   ]
  }
 ],
 "metadata": {
  "kernelspec": {
   "display_name": "Python 3",
   "language": "python",
   "name": "python3"
  },
  "language_info": {
   "codemirror_mode": {
    "name": "ipython",
    "version": 3
   },
   "file_extension": ".py",
   "mimetype": "text/x-python",
   "name": "python",
   "nbconvert_exporter": "python",
   "pygments_lexer": "ipython3",
   "version": "3.8.8"
  }
 },
 "nbformat": 4,
 "nbformat_minor": 4
}
